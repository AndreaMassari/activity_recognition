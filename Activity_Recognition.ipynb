{
 "cells": [
  {
   "cell_type": "markdown",
   "metadata": {},
   "source": [
    "# Introduction\n",
    "\n",
    "This notebook shows a very simple pipeline to explore a phone sensors dataset (\"Physical Activity Recognition Dataset Using Smartphone Sensors\") from http://ps.ewi.utwente.nl/Datasets.php, and develop and test a ML algorithm to predict the type of physical activity the user is engaging in.\n",
    "\n",
    "### Results\n",
    "We claim a 96% accuracy with a properly (and realistically) trained random forest *multiclass* and *multioutput* classifier.\n"
   ]
  },
  {
   "cell_type": "markdown",
   "metadata": {},
   "source": [
    "## Imports: with hindsight of course..."
   ]
  },
  {
   "cell_type": "code",
   "execution_count": 3,
   "metadata": {
    "collapsed": true
   },
   "outputs": [],
   "source": [
    "import pandas as pd\n",
    "import numpy as np\n",
    "from sklearn.linear_model import LogisticRegression\n",
    "from sklearn.ensemble import RandomForestClassifier\n",
    "from sklearn.model_selection import train_test_split, KFold\n",
    "from sklearn.multioutput import MultiOutputClassifier"
   ]
  },
  {
   "cell_type": "markdown",
   "metadata": {},
   "source": [
    "# Data Exploration"
   ]
  },
  {
   "cell_type": "code",
   "execution_count": 2,
   "metadata": {
    "collapsed": false
   },
   "outputs": [
    {
     "name": "stdout",
     "output_type": "stream",
     "text": [
      "Arm.xlsx    Belt.xlsx   Pocket.xlsx Readme.txt  Wrist.xlsx\r\n"
     ]
    }
   ],
   "source": [
    "!ls Activity_Recognition_DataSet"
   ]
  },
  {
   "cell_type": "code",
   "execution_count": 4,
   "metadata": {
    "collapsed": false
   },
   "outputs": [],
   "source": [
    "df_arm=pd.read_excel(\"Activity_Recognition_DataSet/Arm.xlsx\")\n",
    "df_pocket=pd.read_excel(\"Activity_Recognition_DataSet/Pocket.xlsx\")\n",
    "df_wrist=pd.read_excel(\"Activity_Recognition_DataSet/Wrist.xlsx\")\n",
    "df_belt=pd.read_excel(\"Activity_Recognition_DataSet/Belt.xlsx\")"
   ]
  },
  {
   "cell_type": "markdown",
   "metadata": {},
   "source": [
    "Let me report here some of the readme content\n",
    "\n",
    "## 1 Data Collection Procedure \n",
    "\n",
    "We used four Samsung Galaxy S2 smartphones in our experiments for data collection. Using these smartphones, we collected data for six different physical activities. They are walking, running, sitting, standing, walking upstairs and downstairs. We asked four participants to perform these six activities for a few minutes. As these are repetitive activities, so the amount of time for each activity was kept between 3-5 minutes per participant which gave us enough examples for our evaluations. The activities were carried out indoor in one of our university buildings. For walking, and running, the department's corridor was used. For sitting activity, participants’ offices were used when they were using their computers. For standing activity, coffee area was used where some participants stood for few minutes while involved in a conversation with others. For walking upstairs and downstairs, 5-floor stairs were used. It is important to mention that these stairs had short walks at each floor for switching between stairs (2-3 steps) but there were only four such switches in the whole walking upstairs and downstairs activities. We could not find one single continuous stair from first till 5th floor. Each of these participants was provided with four smartphones on four body positions: right jeans pocket, belt, arm, and wrist. The data was recorded for all four positions at the same time for each activity. All the four participants were male, between the age of 25 and 30. They signed a consent form before taking part in the activities"
   ]
  },
  {
   "cell_type": "code",
   "execution_count": 4,
   "metadata": {
    "collapsed": false
   },
   "outputs": [
    {
     "data": {
      "text/html": [
       "<div>\n",
       "<table border=\"1\" class=\"dataframe\">\n",
       "  <thead>\n",
       "    <tr style=\"text-align: right;\">\n",
       "      <th></th>\n",
       "      <th>Time_Stamp</th>\n",
       "      <th>Ax</th>\n",
       "      <th>Ay</th>\n",
       "      <th>Az</th>\n",
       "      <th>Gx</th>\n",
       "      <th>Gy</th>\n",
       "      <th>Gz</th>\n",
       "      <th>Mx</th>\n",
       "      <th>My</th>\n",
       "      <th>Mz</th>\n",
       "      <th>Activity_Label</th>\n",
       "    </tr>\n",
       "  </thead>\n",
       "  <tbody>\n",
       "    <tr>\n",
       "      <th>0</th>\n",
       "      <td>1364396345335</td>\n",
       "      <td>-17.365944</td>\n",
       "      <td>19.517958</td>\n",
       "      <td>0.885323</td>\n",
       "      <td>-0.121868</td>\n",
       "      <td>2.177429</td>\n",
       "      <td>1.535715</td>\n",
       "      <td>18.300000</td>\n",
       "      <td>-44.160000</td>\n",
       "      <td>8.639999</td>\n",
       "      <td>Downstairs</td>\n",
       "    </tr>\n",
       "    <tr>\n",
       "      <th>1</th>\n",
       "      <td>1364396345354</td>\n",
       "      <td>-9.684067</td>\n",
       "      <td>13.933616</td>\n",
       "      <td>1.157730</td>\n",
       "      <td>-0.053145</td>\n",
       "      <td>-1.751656</td>\n",
       "      <td>1.254106</td>\n",
       "      <td>17.279999</td>\n",
       "      <td>-44.160000</td>\n",
       "      <td>9.179999</td>\n",
       "      <td>Downstairs</td>\n",
       "    </tr>\n",
       "    <tr>\n",
       "      <th>2</th>\n",
       "      <td>1364396345375</td>\n",
       "      <td>-4.045243</td>\n",
       "      <td>7.709117</td>\n",
       "      <td>-1.266692</td>\n",
       "      <td>-0.596510</td>\n",
       "      <td>-3.471852</td>\n",
       "      <td>1.176526</td>\n",
       "      <td>16.500000</td>\n",
       "      <td>-44.399998</td>\n",
       "      <td>9.360000</td>\n",
       "      <td>Downstairs</td>\n",
       "    </tr>\n",
       "    <tr>\n",
       "      <th>3</th>\n",
       "      <td>1364396345394</td>\n",
       "      <td>-1.770645</td>\n",
       "      <td>5.788648</td>\n",
       "      <td>-0.735499</td>\n",
       "      <td>-0.867734</td>\n",
       "      <td>-2.983771</td>\n",
       "      <td>0.893696</td>\n",
       "      <td>15.900000</td>\n",
       "      <td>-44.520000</td>\n",
       "      <td>9.360000</td>\n",
       "      <td>Downstairs</td>\n",
       "    </tr>\n",
       "    <tr>\n",
       "      <th>4</th>\n",
       "      <td>1364396345414</td>\n",
       "      <td>2.819412</td>\n",
       "      <td>3.963521</td>\n",
       "      <td>0.599295</td>\n",
       "      <td>-0.541227</td>\n",
       "      <td>-2.662762</td>\n",
       "      <td>0.328645</td>\n",
       "      <td>15.000000</td>\n",
       "      <td>-44.700000</td>\n",
       "      <td>9.240000</td>\n",
       "      <td>Downstairs</td>\n",
       "    </tr>\n",
       "  </tbody>\n",
       "</table>\n",
       "</div>"
      ],
      "text/plain": [
       "      Time_Stamp         Ax         Ay        Az        Gx        Gy  \\\n",
       "0  1364396345335 -17.365944  19.517958  0.885323 -0.121868  2.177429   \n",
       "1  1364396345354  -9.684067  13.933616  1.157730 -0.053145 -1.751656   \n",
       "2  1364396345375  -4.045243   7.709117 -1.266692 -0.596510 -3.471852   \n",
       "3  1364396345394  -1.770645   5.788648 -0.735499 -0.867734 -2.983771   \n",
       "4  1364396345414   2.819412   3.963521  0.599295 -0.541227 -2.662762   \n",
       "\n",
       "         Gz         Mx         My        Mz Activity_Label  \n",
       "0  1.535715  18.300000 -44.160000  8.639999     Downstairs  \n",
       "1  1.254106  17.279999 -44.160000  9.179999     Downstairs  \n",
       "2  1.176526  16.500000 -44.399998  9.360000     Downstairs  \n",
       "3  0.893696  15.900000 -44.520000  9.360000     Downstairs  \n",
       "4  0.328645  15.000000 -44.700000  9.240000     Downstairs  "
      ]
     },
     "execution_count": 4,
     "metadata": {},
     "output_type": "execute_result"
    }
   ],
   "source": [
    "df_arm.head()"
   ]
  },
  {
   "cell_type": "markdown",
   "metadata": {},
   "source": [
    "ok let's see the descriptions"
   ]
  },
  {
   "cell_type": "code",
   "execution_count": 15,
   "metadata": {
    "collapsed": false
   },
   "outputs": [
    {
     "data": {
      "text/html": [
       "<div>\n",
       "<table border=\"1\" class=\"dataframe\">\n",
       "  <thead>\n",
       "    <tr style=\"text-align: right;\">\n",
       "      <th></th>\n",
       "      <th>Time_Stamp</th>\n",
       "      <th>Ax</th>\n",
       "      <th>Ay</th>\n",
       "      <th>Az</th>\n",
       "      <th>Gx</th>\n",
       "      <th>Gy</th>\n",
       "      <th>Gz</th>\n",
       "      <th>Mx</th>\n",
       "      <th>My</th>\n",
       "      <th>Mz</th>\n",
       "    </tr>\n",
       "  </thead>\n",
       "  <tbody>\n",
       "    <tr>\n",
       "      <th>count</th>\n",
       "      <td>1.606550e+05</td>\n",
       "      <td>160655.000000</td>\n",
       "      <td>160655.000000</td>\n",
       "      <td>160655.000000</td>\n",
       "      <td>160655.000000</td>\n",
       "      <td>160655.000000</td>\n",
       "      <td>160655.000000</td>\n",
       "      <td>160655.000000</td>\n",
       "      <td>160655.000000</td>\n",
       "      <td>160655.000000</td>\n",
       "    </tr>\n",
       "    <tr>\n",
       "      <th>mean</th>\n",
       "      <td>1.364371e+12</td>\n",
       "      <td>-0.275081</td>\n",
       "      <td>8.763833</td>\n",
       "      <td>2.281637</td>\n",
       "      <td>0.006953</td>\n",
       "      <td>0.035258</td>\n",
       "      <td>-0.014379</td>\n",
       "      <td>0.291451</td>\n",
       "      <td>-39.890499</td>\n",
       "      <td>-9.432653</td>\n",
       "    </tr>\n",
       "    <tr>\n",
       "      <th>std</th>\n",
       "      <td>4.265402e+07</td>\n",
       "      <td>4.576472</td>\n",
       "      <td>4.180374</td>\n",
       "      <td>2.368637</td>\n",
       "      <td>0.501906</td>\n",
       "      <td>1.292655</td>\n",
       "      <td>1.260051</td>\n",
       "      <td>17.396151</td>\n",
       "      <td>7.601236</td>\n",
       "      <td>14.301760</td>\n",
       "    </tr>\n",
       "    <tr>\n",
       "      <th>min</th>\n",
       "      <td>1.364300e+12</td>\n",
       "      <td>-19.517958</td>\n",
       "      <td>-7.709117</td>\n",
       "      <td>-14.873420</td>\n",
       "      <td>-3.382361</td>\n",
       "      <td>-6.743647</td>\n",
       "      <td>-7.708508</td>\n",
       "      <td>-46.739998</td>\n",
       "      <td>-80.460000</td>\n",
       "      <td>-46.920000</td>\n",
       "    </tr>\n",
       "    <tr>\n",
       "      <th>25%</th>\n",
       "      <td>1.364310e+12</td>\n",
       "      <td>-1.906849</td>\n",
       "      <td>7.055340</td>\n",
       "      <td>0.885323</td>\n",
       "      <td>-0.175624</td>\n",
       "      <td>-0.327424</td>\n",
       "      <td>-0.440281</td>\n",
       "      <td>-13.259999</td>\n",
       "      <td>-45.899998</td>\n",
       "      <td>-21.180000</td>\n",
       "    </tr>\n",
       "    <tr>\n",
       "      <th>50%</th>\n",
       "      <td>1.364398e+12</td>\n",
       "      <td>0.122583</td>\n",
       "      <td>8.798744</td>\n",
       "      <td>2.138395</td>\n",
       "      <td>-0.000305</td>\n",
       "      <td>-0.000305</td>\n",
       "      <td>0.000916</td>\n",
       "      <td>0.720000</td>\n",
       "      <td>-40.500000</td>\n",
       "      <td>-12.059999</td>\n",
       "    </tr>\n",
       "    <tr>\n",
       "      <th>75%</th>\n",
       "      <td>1.364400e+12</td>\n",
       "      <td>1.838747</td>\n",
       "      <td>10.065437</td>\n",
       "      <td>3.854558</td>\n",
       "      <td>0.181732</td>\n",
       "      <td>0.370490</td>\n",
       "      <td>0.294132</td>\n",
       "      <td>11.639999</td>\n",
       "      <td>-34.559998</td>\n",
       "      <td>2.220000</td>\n",
       "    </tr>\n",
       "    <tr>\n",
       "      <th>max</th>\n",
       "      <td>1.364403e+12</td>\n",
       "      <td>19.531578</td>\n",
       "      <td>19.599680</td>\n",
       "      <td>19.381754</td>\n",
       "      <td>3.577227</td>\n",
       "      <td>7.074431</td>\n",
       "      <td>8.998656</td>\n",
       "      <td>47.940000</td>\n",
       "      <td>23.400000</td>\n",
       "      <td>41.520000</td>\n",
       "    </tr>\n",
       "  </tbody>\n",
       "</table>\n",
       "</div>"
      ],
      "text/plain": [
       "         Time_Stamp             Ax             Ay             Az  \\\n",
       "count  1.606550e+05  160655.000000  160655.000000  160655.000000   \n",
       "mean   1.364371e+12      -0.275081       8.763833       2.281637   \n",
       "std    4.265402e+07       4.576472       4.180374       2.368637   \n",
       "min    1.364300e+12     -19.517958      -7.709117     -14.873420   \n",
       "25%    1.364310e+12      -1.906849       7.055340       0.885323   \n",
       "50%    1.364398e+12       0.122583       8.798744       2.138395   \n",
       "75%    1.364400e+12       1.838747      10.065437       3.854558   \n",
       "max    1.364403e+12      19.531578      19.599680      19.381754   \n",
       "\n",
       "                  Gx             Gy             Gz             Mx  \\\n",
       "count  160655.000000  160655.000000  160655.000000  160655.000000   \n",
       "mean        0.006953       0.035258      -0.014379       0.291451   \n",
       "std         0.501906       1.292655       1.260051      17.396151   \n",
       "min        -3.382361      -6.743647      -7.708508     -46.739998   \n",
       "25%        -0.175624      -0.327424      -0.440281     -13.259999   \n",
       "50%        -0.000305      -0.000305       0.000916       0.720000   \n",
       "75%         0.181732       0.370490       0.294132      11.639999   \n",
       "max         3.577227       7.074431       8.998656      47.940000   \n",
       "\n",
       "                  My             Mz  \n",
       "count  160655.000000  160655.000000  \n",
       "mean      -39.890499      -9.432653  \n",
       "std         7.601236      14.301760  \n",
       "min       -80.460000     -46.920000  \n",
       "25%       -45.899998     -21.180000  \n",
       "50%       -40.500000     -12.059999  \n",
       "75%       -34.559998       2.220000  \n",
       "max        23.400000      41.520000  "
      ]
     },
     "execution_count": 15,
     "metadata": {},
     "output_type": "execute_result"
    }
   ],
   "source": [
    "df_arm.describe()"
   ]
  },
  {
   "cell_type": "markdown",
   "metadata": {},
   "source": [
    "## Comments:\n",
    "\n",
    "Acceleration seems to be small on average on the arm unit's x axis and large on y and z. This would make sense if the sensor was mounted on the arm with the y axis, the most mobile, being perpendicular to the arm to the front of the person, the x axis being along the arm and the z axis perpendicular to the arm sticking sideways away from the person.\n",
    "\n",
    "If this is true then the largest average value of the angular momentum should be around the y axis (rotation of the arm out and sideways) and practically vanishing around the x axis (a healthy arm can't spin around itself), which is also true!\n",
    "\n",
    "Similar sanity checks shoud be considered for all sensors but for sake of time I'll put that off.\n",
    "\n",
    "\n",
    "### 4 participants\n",
    "\n",
    "I'm not sure how to distinguish between different participants, this might be an important confounding factor? (especially correlated with time stamps I suppose) I'll look at the time stamps and see if they cluster around four values maybe."
   ]
  },
  {
   "cell_type": "code",
   "execution_count": 89,
   "metadata": {
    "collapsed": false
   },
   "outputs": [
    {
     "data": {
      "text/plain": [
       "array([[<matplotlib.axes._subplots.AxesSubplot object at 0x110c74358>]], dtype=object)"
      ]
     },
     "execution_count": 89,
     "metadata": {},
     "output_type": "execute_result"
    },
    {
     "data": {
      "image/png": "[encoded data removed]",
      "text/plain": [
       "<matplotlib.figure.Figure at 0x115eea5c0>"
      ]
     },
     "metadata": {},
     "output_type": "display_data"
    }
   ],
   "source": [
    "%matplotlib inline\n",
    "df_arm.hist(column=\"Time_Stamp\",bins=50)"
   ]
  },
  {
   "cell_type": "code",
   "execution_count": 88,
   "metadata": {
    "collapsed": false
   },
   "outputs": [
    {
     "data": {
      "text/plain": [
       "array([[<matplotlib.axes._subplots.AxesSubplot object at 0x104636b70>]], dtype=object)"
      ]
     },
     "execution_count": 88,
     "metadata": {},
     "output_type": "execute_result"
    },
    {
     "data": {
      "image/png": "[encoded data removed]",
      "text/plain": [
       "<matplotlib.figure.Figure at 0x113ed9eb8>"
      ]
     },
     "metadata": {},
     "output_type": "display_data"
    }
   ],
   "source": [
    "df_wrist.hist(column=\"Time_Stamp\",bins=50)"
   ]
  },
  {
   "cell_type": "code",
   "execution_count": 87,
   "metadata": {
    "collapsed": false
   },
   "outputs": [
    {
     "data": {
      "text/plain": [
       "array([[<matplotlib.axes._subplots.AxesSubplot object at 0x111c22978>]], dtype=object)"
      ]
     },
     "execution_count": 87,
     "metadata": {},
     "output_type": "execute_result"
    },
    {
     "data": {
      "image/png": "[encoded data removed]",
      "text/plain": [
       "<matplotlib.figure.Figure at 0x11691fb70>"
      ]
     },
     "metadata": {},
     "output_type": "display_data"
    }
   ],
   "source": [
    "df_belt.hist(column=\"Time_Stamp\",bins=50)"
   ]
  },
  {
   "cell_type": "code",
   "execution_count": 90,
   "metadata": {
    "collapsed": false
   },
   "outputs": [
    {
     "data": {
      "text/plain": [
       "array([[<matplotlib.axes._subplots.AxesSubplot object at 0x113b036a0>]], dtype=object)"
      ]
     },
     "execution_count": 90,
     "metadata": {},
     "output_type": "execute_result"
    },
    {
     "data": {
      "image/png": "[encoded data removed]",
      "text/plain": [
       "<matplotlib.figure.Figure at 0x115eeae80>"
      ]
     },
     "metadata": {},
     "output_type": "display_data"
    }
   ],
   "source": [
    "df_pocket.hist(column=\"Time_Stamp\",bins=50)"
   ]
  },
  {
   "cell_type": "markdown",
   "metadata": {},
   "source": [
    "## conclusions\n",
    "\n",
    "ha! seems like there were 2 or more separate sessions here, this is worrisome because the time stamp variable might indeed identify two different subjects and therefore random cross validation might fail to recognize overfitting to the single user, i.e. a good performance might depend on the fact that the validation samples all belong to users that the model has already seen in training.\n",
    "\n",
    "### choice: definitely leave the timestamp out of the features\n",
    "\n",
    "### idea: try training on one session and validating on the other?\n",
    "I have chosen not to explore this avenue in the interest of time\n",
    "\n",
    "### Let's just have a look at the other sensors, shall we?\n",
    "(btw, notice that the time stamp overlap is quite poor between different sensors)"
   ]
  },
  {
   "cell_type": "code",
   "execution_count": 273,
   "metadata": {
    "collapsed": false
   },
   "outputs": [
    {
     "data": {
      "text/html": [
       "<div>\n",
       "<table border=\"1\" class=\"dataframe\">\n",
       "  <thead>\n",
       "    <tr style=\"text-align: right;\">\n",
       "      <th></th>\n",
       "      <th>Time_Stamp</th>\n",
       "      <th>Ax</th>\n",
       "      <th>Ay</th>\n",
       "      <th>Az</th>\n",
       "      <th>Gx</th>\n",
       "      <th>Gy</th>\n",
       "      <th>Gz</th>\n",
       "      <th>Mx</th>\n",
       "      <th>My</th>\n",
       "      <th>Mz</th>\n",
       "    </tr>\n",
       "  </thead>\n",
       "  <tbody>\n",
       "    <tr>\n",
       "      <th>count</th>\n",
       "      <td>1.599920e+05</td>\n",
       "      <td>159992.000000</td>\n",
       "      <td>159992.000000</td>\n",
       "      <td>159992.000000</td>\n",
       "      <td>159992.000000</td>\n",
       "      <td>159992.000000</td>\n",
       "      <td>159992.000000</td>\n",
       "      <td>159992.000000</td>\n",
       "      <td>159992.000000</td>\n",
       "      <td>159992.000000</td>\n",
       "    </tr>\n",
       "    <tr>\n",
       "      <th>mean</th>\n",
       "      <td>1.364365e+12</td>\n",
       "      <td>3.999756</td>\n",
       "      <td>6.272815</td>\n",
       "      <td>3.556179</td>\n",
       "      <td>-0.000167</td>\n",
       "      <td>-0.035086</td>\n",
       "      <td>0.008984</td>\n",
       "      <td>-17.389723</td>\n",
       "      <td>-18.429510</td>\n",
       "      <td>-17.693433</td>\n",
       "    </tr>\n",
       "    <tr>\n",
       "      <th>std</th>\n",
       "      <td>4.454557e+07</td>\n",
       "      <td>4.864204</td>\n",
       "      <td>6.496013</td>\n",
       "      <td>3.958921</td>\n",
       "      <td>1.231178</td>\n",
       "      <td>1.191429</td>\n",
       "      <td>1.699583</td>\n",
       "      <td>17.302953</td>\n",
       "      <td>16.664524</td>\n",
       "      <td>17.887243</td>\n",
       "    </tr>\n",
       "    <tr>\n",
       "      <th>min</th>\n",
       "      <td>1.364300e+12</td>\n",
       "      <td>-19.449856</td>\n",
       "      <td>-19.531578</td>\n",
       "      <td>-19.381754</td>\n",
       "      <td>-6.582073</td>\n",
       "      <td>-9.993755</td>\n",
       "      <td>-9.983676</td>\n",
       "      <td>-106.320000</td>\n",
       "      <td>-62.579998</td>\n",
       "      <td>-78.000000</td>\n",
       "    </tr>\n",
       "    <tr>\n",
       "      <th>25%</th>\n",
       "      <td>1.364310e+12</td>\n",
       "      <td>1.607201</td>\n",
       "      <td>0.544814</td>\n",
       "      <td>1.348414</td>\n",
       "      <td>-0.398590</td>\n",
       "      <td>-0.402255</td>\n",
       "      <td>-0.551306</td>\n",
       "      <td>-30.720000</td>\n",
       "      <td>-30.779999</td>\n",
       "      <td>-34.260000</td>\n",
       "    </tr>\n",
       "    <tr>\n",
       "      <th>50%</th>\n",
       "      <td>1.364397e+12</td>\n",
       "      <td>3.200782</td>\n",
       "      <td>7.913422</td>\n",
       "      <td>3.119060</td>\n",
       "      <td>-0.017410</td>\n",
       "      <td>-0.002749</td>\n",
       "      <td>0.006109</td>\n",
       "      <td>-19.560000</td>\n",
       "      <td>-22.140000</td>\n",
       "      <td>-20.039999</td>\n",
       "    </tr>\n",
       "    <tr>\n",
       "      <th>75%</th>\n",
       "      <td>1.364400e+12</td>\n",
       "      <td>5.094010</td>\n",
       "      <td>10.569390</td>\n",
       "      <td>5.843129</td>\n",
       "      <td>0.406836</td>\n",
       "      <td>0.347888</td>\n",
       "      <td>0.577879</td>\n",
       "      <td>-5.100000</td>\n",
       "      <td>-8.520000</td>\n",
       "      <td>-4.020000</td>\n",
       "    </tr>\n",
       "    <tr>\n",
       "      <th>max</th>\n",
       "      <td>1.364403e+12</td>\n",
       "      <td>19.599680</td>\n",
       "      <td>19.613300</td>\n",
       "      <td>19.517958</td>\n",
       "      <td>7.928114</td>\n",
       "      <td>9.727418</td>\n",
       "      <td>9.364870</td>\n",
       "      <td>47.160000</td>\n",
       "      <td>46.320000</td>\n",
       "      <td>102.180000</td>\n",
       "    </tr>\n",
       "  </tbody>\n",
       "</table>\n",
       "</div>"
      ],
      "text/plain": [
       "         Time_Stamp             Ax             Ay             Az  \\\n",
       "count  1.599920e+05  159992.000000  159992.000000  159992.000000   \n",
       "mean   1.364365e+12       3.999756       6.272815       3.556179   \n",
       "std    4.454557e+07       4.864204       6.496013       3.958921   \n",
       "min    1.364300e+12     -19.449856     -19.531578     -19.381754   \n",
       "25%    1.364310e+12       1.607201       0.544814       1.348414   \n",
       "50%    1.364397e+12       3.200782       7.913422       3.119060   \n",
       "75%    1.364400e+12       5.094010      10.569390       5.843129   \n",
       "max    1.364403e+12      19.599680      19.613300      19.517958   \n",
       "\n",
       "                  Gx             Gy             Gz             Mx  \\\n",
       "count  159992.000000  159992.000000  159992.000000  159992.000000   \n",
       "mean       -0.000167      -0.035086       0.008984     -17.389723   \n",
       "std         1.231178       1.191429       1.699583      17.302953   \n",
       "min        -6.582073      -9.993755      -9.983676    -106.320000   \n",
       "25%        -0.398590      -0.402255      -0.551306     -30.720000   \n",
       "50%        -0.017410      -0.002749       0.006109     -19.560000   \n",
       "75%         0.406836       0.347888       0.577879      -5.100000   \n",
       "max         7.928114       9.727418       9.364870      47.160000   \n",
       "\n",
       "                  My             Mz  \n",
       "count  159992.000000  159992.000000  \n",
       "mean      -18.429510     -17.693433  \n",
       "std        16.664524      17.887243  \n",
       "min       -62.579998     -78.000000  \n",
       "25%       -30.779999     -34.260000  \n",
       "50%       -22.140000     -20.039999  \n",
       "75%        -8.520000      -4.020000  \n",
       "max        46.320000     102.180000  "
      ]
     },
     "execution_count": 273,
     "metadata": {},
     "output_type": "execute_result"
    }
   ],
   "source": [
    "df_wrist.describe()"
   ]
  },
  {
   "cell_type": "code",
   "execution_count": 49,
   "metadata": {
    "collapsed": false
   },
   "outputs": [
    {
     "data": {
      "text/html": [
       "<div>\n",
       "<table border=\"1\" class=\"dataframe\">\n",
       "  <thead>\n",
       "    <tr style=\"text-align: right;\">\n",
       "      <th></th>\n",
       "      <th>Time_Stamp</th>\n",
       "      <th>Ax</th>\n",
       "      <th>Ay</th>\n",
       "      <th>Az</th>\n",
       "      <th>Gx</th>\n",
       "      <th>Gy</th>\n",
       "      <th>Gz</th>\n",
       "      <th>Mx</th>\n",
       "      <th>My</th>\n",
       "      <th>Mz</th>\n",
       "    </tr>\n",
       "  </thead>\n",
       "  <tbody>\n",
       "    <tr>\n",
       "      <th>count</th>\n",
       "      <td>1.619580e+05</td>\n",
       "      <td>161958.000000</td>\n",
       "      <td>161958.000000</td>\n",
       "      <td>161958.000000</td>\n",
       "      <td>161958.000000</td>\n",
       "      <td>161958.000000</td>\n",
       "      <td>161958.000000</td>\n",
       "      <td>161958.000000</td>\n",
       "      <td>161958.000000</td>\n",
       "      <td>161958.000000</td>\n",
       "    </tr>\n",
       "    <tr>\n",
       "      <th>mean</th>\n",
       "      <td>1.362913e+12</td>\n",
       "      <td>-0.344594</td>\n",
       "      <td>-8.066078</td>\n",
       "      <td>-2.552028</td>\n",
       "      <td>0.002540</td>\n",
       "      <td>0.038427</td>\n",
       "      <td>-0.036765</td>\n",
       "      <td>7.049494</td>\n",
       "      <td>27.750156</td>\n",
       "      <td>7.739969</td>\n",
       "    </tr>\n",
       "    <tr>\n",
       "      <th>std</th>\n",
       "      <td>2.074820e+09</td>\n",
       "      <td>3.651222</td>\n",
       "      <td>5.571840</td>\n",
       "      <td>5.155454</td>\n",
       "      <td>1.614946</td>\n",
       "      <td>1.409636</td>\n",
       "      <td>0.983442</td>\n",
       "      <td>16.293301</td>\n",
       "      <td>15.571305</td>\n",
       "      <td>23.335165</td>\n",
       "    </tr>\n",
       "    <tr>\n",
       "      <th>min</th>\n",
       "      <td>1.360000e+12</td>\n",
       "      <td>-18.782460</td>\n",
       "      <td>-19.599680</td>\n",
       "      <td>-19.436235</td>\n",
       "      <td>-6.661180</td>\n",
       "      <td>-9.918008</td>\n",
       "      <td>-6.248846</td>\n",
       "      <td>-54.480000</td>\n",
       "      <td>-14.940000</td>\n",
       "      <td>-52.980000</td>\n",
       "    </tr>\n",
       "    <tr>\n",
       "      <th>25%</th>\n",
       "      <td>1.360000e+12</td>\n",
       "      <td>-2.506144</td>\n",
       "      <td>-10.869038</td>\n",
       "      <td>-7.055340</td>\n",
       "      <td>-0.389045</td>\n",
       "      <td>-0.280082</td>\n",
       "      <td>-0.226936</td>\n",
       "      <td>-6.720000</td>\n",
       "      <td>22.439999</td>\n",
       "      <td>-10.559999</td>\n",
       "    </tr>\n",
       "    <tr>\n",
       "      <th>50%</th>\n",
       "      <td>1.364400e+12</td>\n",
       "      <td>-0.640156</td>\n",
       "      <td>-9.289077</td>\n",
       "      <td>-1.362035</td>\n",
       "      <td>0.009163</td>\n",
       "      <td>0.020769</td>\n",
       "      <td>0.009163</td>\n",
       "      <td>4.980000</td>\n",
       "      <td>29.820000</td>\n",
       "      <td>12.900000</td>\n",
       "    </tr>\n",
       "    <tr>\n",
       "      <th>75%</th>\n",
       "      <td>1.364400e+12</td>\n",
       "      <td>1.838747</td>\n",
       "      <td>-2.260978</td>\n",
       "      <td>0.245166</td>\n",
       "      <td>0.718683</td>\n",
       "      <td>0.409280</td>\n",
       "      <td>0.279471</td>\n",
       "      <td>20.100000</td>\n",
       "      <td>39.899998</td>\n",
       "      <td>20.580000</td>\n",
       "    </tr>\n",
       "    <tr>\n",
       "      <th>max</th>\n",
       "      <td>1.364401e+12</td>\n",
       "      <td>19.000385</td>\n",
       "      <td>19.122969</td>\n",
       "      <td>19.204690</td>\n",
       "      <td>8.996212</td>\n",
       "      <td>9.972070</td>\n",
       "      <td>7.699040</td>\n",
       "      <td>84.000000</td>\n",
       "      <td>62.100000</td>\n",
       "      <td>56.579998</td>\n",
       "    </tr>\n",
       "  </tbody>\n",
       "</table>\n",
       "</div>"
      ],
      "text/plain": [
       "         Time_Stamp             Ax             Ay             Az  \\\n",
       "count  1.619580e+05  161958.000000  161958.000000  161958.000000   \n",
       "mean   1.362913e+12      -0.344594      -8.066078      -2.552028   \n",
       "std    2.074820e+09       3.651222       5.571840       5.155454   \n",
       "min    1.360000e+12     -18.782460     -19.599680     -19.436235   \n",
       "25%    1.360000e+12      -2.506144     -10.869038      -7.055340   \n",
       "50%    1.364400e+12      -0.640156      -9.289077      -1.362035   \n",
       "75%    1.364400e+12       1.838747      -2.260978       0.245166   \n",
       "max    1.364401e+12      19.000385      19.122969      19.204690   \n",
       "\n",
       "                  Gx             Gy             Gz             Mx  \\\n",
       "count  161958.000000  161958.000000  161958.000000  161958.000000   \n",
       "mean        0.002540       0.038427      -0.036765       7.049494   \n",
       "std         1.614946       1.409636       0.983442      16.293301   \n",
       "min        -6.661180      -9.918008      -6.248846     -54.480000   \n",
       "25%        -0.389045      -0.280082      -0.226936      -6.720000   \n",
       "50%         0.009163       0.020769       0.009163       4.980000   \n",
       "75%         0.718683       0.409280       0.279471      20.100000   \n",
       "max         8.996212       9.972070       7.699040      84.000000   \n",
       "\n",
       "                  My             Mz  \n",
       "count  161958.000000  161958.000000  \n",
       "mean       27.750156       7.739969  \n",
       "std        15.571305      23.335165  \n",
       "min       -14.940000     -52.980000  \n",
       "25%        22.439999     -10.559999  \n",
       "50%        29.820000      12.900000  \n",
       "75%        39.899998      20.580000  \n",
       "max        62.100000      56.579998  "
      ]
     },
     "execution_count": 49,
     "metadata": {},
     "output_type": "execute_result"
    }
   ],
   "source": [
    "df_pocket.describe()"
   ]
  },
  {
   "cell_type": "code",
   "execution_count": 50,
   "metadata": {
    "collapsed": false,
    "scrolled": true
   },
   "outputs": [
    {
     "data": {
      "text/html": [
       "<div>\n",
       "<table border=\"1\" class=\"dataframe\">\n",
       "  <thead>\n",
       "    <tr style=\"text-align: right;\">\n",
       "      <th></th>\n",
       "      <th>Time_Stamp</th>\n",
       "      <th>Ax</th>\n",
       "      <th>Ay</th>\n",
       "      <th>Az</th>\n",
       "      <th>Gx</th>\n",
       "      <th>Gy</th>\n",
       "      <th>Gz</th>\n",
       "      <th>Mx</th>\n",
       "      <th>My</th>\n",
       "      <th>Mz</th>\n",
       "    </tr>\n",
       "  </thead>\n",
       "  <tbody>\n",
       "    <tr>\n",
       "      <th>count</th>\n",
       "      <td>1.618070e+05</td>\n",
       "      <td>161807.000000</td>\n",
       "      <td>161807.000000</td>\n",
       "      <td>161807.000000</td>\n",
       "      <td>161807.000000</td>\n",
       "      <td>161807.000000</td>\n",
       "      <td>161807.000000</td>\n",
       "      <td>161807.000000</td>\n",
       "      <td>161807.000000</td>\n",
       "      <td>161807.000000</td>\n",
       "    </tr>\n",
       "    <tr>\n",
       "      <th>mean</th>\n",
       "      <td>1.364378e+12</td>\n",
       "      <td>8.235560</td>\n",
       "      <td>1.570595</td>\n",
       "      <td>-1.520413</td>\n",
       "      <td>0.025322</td>\n",
       "      <td>0.010226</td>\n",
       "      <td>0.006345</td>\n",
       "      <td>572.256849</td>\n",
       "      <td>-131.268207</td>\n",
       "      <td>-68.937629</td>\n",
       "    </tr>\n",
       "    <tr>\n",
       "      <th>std</th>\n",
       "      <td>3.923870e+07</td>\n",
       "      <td>5.514597</td>\n",
       "      <td>2.780470</td>\n",
       "      <td>3.153787</td>\n",
       "      <td>0.913859</td>\n",
       "      <td>1.264949</td>\n",
       "      <td>0.618870</td>\n",
       "      <td>581.389791</td>\n",
       "      <td>131.999920</td>\n",
       "      <td>81.230263</td>\n",
       "    </tr>\n",
       "    <tr>\n",
       "      <th>min</th>\n",
       "      <td>1.364300e+12</td>\n",
       "      <td>-18.087822</td>\n",
       "      <td>-14.669114</td>\n",
       "      <td>-19.477097</td>\n",
       "      <td>-7.923228</td>\n",
       "      <td>-10.007805</td>\n",
       "      <td>-6.850243</td>\n",
       "      <td>-868.800000</td>\n",
       "      <td>-409.620000</td>\n",
       "      <td>-317.340000</td>\n",
       "    </tr>\n",
       "    <tr>\n",
       "      <th>25%</th>\n",
       "      <td>1.364394e+12</td>\n",
       "      <td>7.150682</td>\n",
       "      <td>-0.503953</td>\n",
       "      <td>-2.901134</td>\n",
       "      <td>-0.276111</td>\n",
       "      <td>-0.300851</td>\n",
       "      <td>-0.158825</td>\n",
       "      <td>-17.580000</td>\n",
       "      <td>-270.300000</td>\n",
       "      <td>-116.340000</td>\n",
       "    </tr>\n",
       "    <tr>\n",
       "      <th>50%</th>\n",
       "      <td>1.364399e+12</td>\n",
       "      <td>9.357179</td>\n",
       "      <td>1.579960</td>\n",
       "      <td>-1.253072</td>\n",
       "      <td>0.021075</td>\n",
       "      <td>0.008858</td>\n",
       "      <td>0.008552</td>\n",
       "      <td>497.580000</td>\n",
       "      <td>-93.720000</td>\n",
       "      <td>-82.500000</td>\n",
       "    </tr>\n",
       "    <tr>\n",
       "      <th>75%</th>\n",
       "      <td>1.364400e+12</td>\n",
       "      <td>9.956474</td>\n",
       "      <td>3.064578</td>\n",
       "      <td>-0.258787</td>\n",
       "      <td>0.239765</td>\n",
       "      <td>0.307876</td>\n",
       "      <td>0.136834</td>\n",
       "      <td>1250.580000</td>\n",
       "      <td>-18.720000</td>\n",
       "      <td>-1.800000</td>\n",
       "    </tr>\n",
       "    <tr>\n",
       "      <th>max</th>\n",
       "      <td>1.364403e+12</td>\n",
       "      <td>19.586060</td>\n",
       "      <td>19.150210</td>\n",
       "      <td>14.601013</td>\n",
       "      <td>9.956798</td>\n",
       "      <td>9.848675</td>\n",
       "      <td>6.445239</td>\n",
       "      <td>1360.380000</td>\n",
       "      <td>163.560000</td>\n",
       "      <td>135.780000</td>\n",
       "    </tr>\n",
       "  </tbody>\n",
       "</table>\n",
       "</div>"
      ],
      "text/plain": [
       "         Time_Stamp             Ax             Ay             Az  \\\n",
       "count  1.618070e+05  161807.000000  161807.000000  161807.000000   \n",
       "mean   1.364378e+12       8.235560       1.570595      -1.520413   \n",
       "std    3.923870e+07       5.514597       2.780470       3.153787   \n",
       "min    1.364300e+12     -18.087822     -14.669114     -19.477097   \n",
       "25%    1.364394e+12       7.150682      -0.503953      -2.901134   \n",
       "50%    1.364399e+12       9.357179       1.579960      -1.253072   \n",
       "75%    1.364400e+12       9.956474       3.064578      -0.258787   \n",
       "max    1.364403e+12      19.586060      19.150210      14.601013   \n",
       "\n",
       "                  Gx             Gy             Gz             Mx  \\\n",
       "count  161807.000000  161807.000000  161807.000000  161807.000000   \n",
       "mean        0.025322       0.010226       0.006345     572.256849   \n",
       "std         0.913859       1.264949       0.618870     581.389791   \n",
       "min        -7.923228     -10.007805      -6.850243    -868.800000   \n",
       "25%        -0.276111      -0.300851      -0.158825     -17.580000   \n",
       "50%         0.021075       0.008858       0.008552     497.580000   \n",
       "75%         0.239765       0.307876       0.136834    1250.580000   \n",
       "max         9.956798       9.848675       6.445239    1360.380000   \n",
       "\n",
       "                  My             Mz  \n",
       "count  161807.000000  161807.000000  \n",
       "mean     -131.268207     -68.937629  \n",
       "std       131.999920      81.230263  \n",
       "min      -409.620000    -317.340000  \n",
       "25%      -270.300000    -116.340000  \n",
       "50%       -93.720000     -82.500000  \n",
       "75%       -18.720000      -1.800000  \n",
       "max       163.560000     135.780000  "
      ]
     },
     "execution_count": 50,
     "metadata": {},
     "output_type": "execute_result"
    }
   ],
   "source": [
    "df_belt.describe()"
   ]
  },
  {
   "cell_type": "markdown",
   "metadata": {},
   "source": [
    "## Might the dataset be unbalanced?\n",
    "\n",
    "checking for balanced distribution of activities: OK!"
   ]
  },
  {
   "cell_type": "code",
   "execution_count": 39,
   "metadata": {
    "collapsed": false
   },
   "outputs": [
    {
     "name": "stdout",
     "output_type": "stream",
     "text": [
      "-------------\n",
      "Downstairs 18453\n",
      "Sitting 30000\n",
      "Walking 32001\n",
      "Upstairs 21750\n",
      "Running 28451\n",
      "Standing 30000\n",
      "-------------\n",
      "-------------\n",
      "Downstairs 19101\n",
      "Sitting 30000\n",
      "Walking 31252\n",
      "Upstairs 22303\n",
      "Running 29302\n",
      "Standing 30000\n",
      "-------------\n",
      "-------------\n",
      "Downstairs 18251\n",
      "Sitting 29989\n",
      "Walking 31451\n",
      "Upstairs 21650\n",
      "Running 28651\n",
      "Standing 30000\n",
      "-------------\n",
      "-------------\n",
      "Downstairs 18751\n",
      "Sitting 30000\n",
      "Walking 31751\n",
      "Upstairs 21903\n",
      "Running 29402\n",
      "Standing 30000\n",
      "-------------\n"
     ]
    }
   ],
   "source": [
    "for df in [df_arm,df_pocket,df_wrist,df_belt]:\n",
    "    print(\"-------------\")\n",
    "    for i in set(df[\"Activity_Label\"]):\n",
    "        print(i,len(df[df[\"Activity_Label\"]==i]))\n",
    "    print(\"-------------\")"
   ]
  },
  {
   "cell_type": "markdown",
   "metadata": {},
   "source": [
    "## Let's create the data sets"
   ]
  },
  {
   "cell_type": "code",
   "execution_count": 54,
   "metadata": {
    "collapsed": false
   },
   "outputs": [],
   "source": [
    "time_stamp=False \n",
    "#this option will keep the time stamp within or without of the features, in case you want to check what happens\n",
    "# when you include it, just toggle that to 'True'\n",
    "init=1-int(time_stamp)\n",
    "end=-4\n",
    "\n",
    "x,y,y_loc=[],[],[]\n",
    "\n",
    "for i,df in enumerate([df_wrist,df_arm,df_belt,df_pocket]):\n",
    "    #x is a list of numpy arrays containing the features, the first 4 arrays have each one the contents from one \n",
    "    #different location, the fifth array has all the 4 arrays concatenated together\n",
    "    x+=[np.array(df.iloc[:,init:end])]\n",
    "    #y has the labels for the corresponding activities\n",
    "    y+=[np.array(df.iloc[:,-1])]\n",
    "    #y_loc has the labels (4) for location\n",
    "    y_loc+=[[i]*len(df)]\n",
    "\n",
    "x+=[np.concatenate(x)]\n",
    "y+=[np.array(list(zip(np.concatenate(y_loc),np.concatenate(y))))]"
   ]
  },
  {
   "cell_type": "markdown",
   "metadata": {},
   "source": [
    "Have a look at the datasets shapes to clarify what they are"
   ]
  },
  {
   "cell_type": "code",
   "execution_count": 31,
   "metadata": {
    "collapsed": false
   },
   "outputs": [
    {
     "data": {
      "text/plain": [
       "[(159992, 6), (160655, 6), (161807, 6), (161958, 6), (644412, 6)]"
      ]
     },
     "execution_count": 31,
     "metadata": {},
     "output_type": "execute_result"
    }
   ],
   "source": [
    "#shapes of contents of x\n",
    "[xx.shape for xx in x]"
   ]
  },
  {
   "cell_type": "code",
   "execution_count": 32,
   "metadata": {
    "collapsed": false
   },
   "outputs": [
    {
     "data": {
      "text/plain": [
       "[(159992,), (160655,), (161807,), (161958,), (644412, 2)]"
      ]
     },
     "execution_count": 32,
     "metadata": {},
     "output_type": "execute_result"
    }
   ],
   "source": [
    "#shapes of contents of y\n",
    "[yy.shape for yy in y]"
   ]
  },
  {
   "cell_type": "markdown",
   "metadata": {},
   "source": [
    "## Let's now split test and train+validation sets"
   ]
  },
  {
   "cell_type": "code",
   "execution_count": 55,
   "metadata": {
    "collapsed": false
   },
   "outputs": [],
   "source": [
    "x_trainval,y_trainval=[],[]\n",
    "x_test,y_test=[],[]\n",
    "\n",
    "for xx,yy in zip(x,y):\n",
    "    splittertemp = train_test_split(xx,yy,test_size=0.2)\n",
    "    x_trainval+=[splittertemp[0]]\n",
    "    x_test+=[splittertemp[1]]\n",
    "    y_trainval+=[splittertemp[2]]\n",
    "    y_test+=[splittertemp[3]]"
   ]
  },
  {
   "cell_type": "code",
   "execution_count": 22,
   "metadata": {
    "collapsed": true
   },
   "outputs": [],
   "source": [
    "def dataprep(time_stamp=False,magnetic=False):\n",
    "    #this option will keep the time stamp within or without of the features, in case you want to check what happens\n",
    "    # when you include it, just toggle that to 'True'\n",
    "    init=1-int(time_stamp)\n",
    "    if not magnetic:\n",
    "        end=-4\n",
    "    else:\n",
    "        end=-1\n",
    "\n",
    "    x,y,y_loc=[],[],[]\n",
    "\n",
    "    for i,df in enumerate([df_wrist,df_arm,df_belt,df_pocket]):\n",
    "        #x is a list of numpy arrays containing the features, the first 4 arrays have each one the contents from one \n",
    "        #different location, the fifth array has all the 4 arrays concatenated together\n",
    "        x+=[np.array(df.iloc[:,init:end])]\n",
    "        #y has the labels for the corresponding activities\n",
    "        y+=[np.array(df.iloc[:,-1])]\n",
    "        #y_loc has the labels (4) for location\n",
    "        y_loc+=[[i]*len(df)]\n",
    "\n",
    "    x+=[np.concatenate(x)]\n",
    "    y+=[np.array(list(zip(np.concatenate(y_loc),np.concatenate(y))))]\n",
    "    return x,y\n",
    "\n",
    "\n",
    "def test_val_splitter(x,y,test_size=0.2,n_splits=8):\n",
    "    \n",
    "    x_trainval,y_trainval=[],[]\n",
    "    x_test,y_test=[],[]\n",
    "    for xx,yy in zip(x,y):\n",
    "        splittertemp = train_test_split(xx,yy,test_size=test_size)\n",
    "        x_trainval+=[splittertemp[0]]\n",
    "        x_test+=[splittertemp[1]]\n",
    "        y_trainval+=[splittertemp[2]]\n",
    "        y_test+=[splittertemp[3]]\n",
    "        \n",
    "    x_train,y_train=[],[]\n",
    "    x_val,y_val=[],[]\n",
    "    for x_trv,y_trv in zip(x_trainval,y_trainval):\n",
    "        x_tr,y_tr=[],[]\n",
    "        x_v,y_v=[],[]\n",
    "        for train,val in KFold(n_splits=n_splits,shuffle=True).split(x_trv):\n",
    "            x_tr+=[x_trv[train]]\n",
    "            x_v+=[x_trv[val]]\n",
    "            y_tr+=[y_trv[train]]\n",
    "            y_v+=[y_trv[val]]\n",
    "        x_train+=[x_tr]\n",
    "        x_val+=[x_v]\n",
    "        y_train+=[y_tr]\n",
    "        y_val+=[y_v]\n",
    "    return x_train,x_val,x_test,y_train,y_val,y_test,x_trainval,y_trainval"
   ]
  },
  {
   "cell_type": "code",
   "execution_count": 23,
   "metadata": {
    "collapsed": true
   },
   "outputs": [],
   "source": [
    "x,y=dataprep()"
   ]
  },
  {
   "cell_type": "code",
   "execution_count": 25,
   "metadata": {
    "collapsed": false
   },
   "outputs": [],
   "source": [
    "x_train,x_val,x_test,y_train,y_val,y_test,x_trainval,y_trainval=test_val_splitter(x,y)"
   ]
  },
  {
   "cell_type": "code",
   "execution_count": 28,
   "metadata": {
    "collapsed": false
   },
   "outputs": [
    {
     "name": "stdout",
     "output_type": "stream",
     "text": [
      "Average validation accuracy for the activity classification task 0.876 +- 0.002\n",
      "Average validation accuracy for the location classification task 0.959 +- 0.001\n"
     ]
    }
   ],
   "source": [
    "aa=validator(x_train,x_val,y_train,y_val,n_estimators=10,max_depth=30)"
   ]
  },
  {
   "cell_type": "code",
   "execution_count": 27,
   "metadata": {
    "collapsed": false
   },
   "outputs": [
    {
     "name": "stdout",
     "output_type": "stream",
     "text": [
      "Average test accuracy for the activity classification task 0.868 +- 0.000\n",
      "Average test accuracy for the location classification task 0.959 +- 0.000\n"
     ]
    }
   ],
   "source": [
    "bb=tester(x_trainval,x_test,y_trainval,y_test,n_estimators=10,max_depth=20)"
   ]
  },
  {
   "cell_type": "markdown",
   "metadata": {},
   "source": [
    "## Let's now split train from (8-fold) validation sets"
   ]
  },
  {
   "cell_type": "code",
   "execution_count": 56,
   "metadata": {
    "collapsed": false
   },
   "outputs": [],
   "source": [
    "x_train,y_train=[],[]\n",
    "x_val,y_val=[],[]\n",
    "\n",
    "for x_trv,y_trv in zip(x_trainval,y_trainval):\n",
    "    x_tr,y_tr=[],[]\n",
    "    x_v,y_v=[],[]\n",
    "    for train,val in KFold(n_splits=8,shuffle=True).split(x_trv):\n",
    "        x_tr+=[x_trv[train]]\n",
    "        x_v+=[x_trv[val]]\n",
    "        y_tr+=[y_trv[train]]\n",
    "        y_v+=[y_trv[val]]\n",
    "    x_train+=[x_tr]\n",
    "    x_val+=[x_v]\n",
    "    y_train+=[y_tr]\n",
    "    y_val+=[y_v]"
   ]
  },
  {
   "cell_type": "markdown",
   "metadata": {},
   "source": [
    "### Now I'm gonna pick one data set (arm) and fit it, then validate on homogeneous data (arm) and on the other 3 datasets to see if the same variables work the same way across the different sensor locations"
   ]
  },
  {
   "cell_type": "code",
   "execution_count": 57,
   "metadata": {
    "collapsed": false
   },
   "outputs": [
    {
     "name": "stdout",
     "output_type": "stream",
     "text": [
      "0.900 +- 0.002\n",
      "0.148 +- 0.004\n",
      "0.158 +- 0.009\n",
      "0.470 +- 0.007\n"
     ]
    }
   ],
   "source": [
    "n=1 #0=wrist, 1=arm, 2=belt, 3=pocket\n",
    "\n",
    "scores_0,scores_1,scores_2,scores_3=[],[],[],[]\n",
    "\n",
    "for i in range(8):\n",
    "    model=RandomForestClassifier(n_estimators=10)\n",
    "    model.fit(x_train[n][i],y_train[n][i])\n",
    "    scores_0+=[len(y_val[n][i][y_val[n][i]==model.predict(x_val[n][i])])/len(y_val[n][i])]\n",
    "    scores_1+=[len(y_val[(n+1)%4][i][y_val[(n+1)%4][i]==model.predict(x_val[(n+1)%4][i])])/len(y_val[(n+1)%4][i])]\n",
    "    scores_2+=[len(y_val[(n+2)%4][i][y_val[(n+2)%4][i]==model.predict(x_val[(n+2)%4][i])])/len(y_val[(n+2)%4][i])]\n",
    "    scores_3+=[len(y_val[(n+3)%4][i][y_val[(n+3)%4][i]==model.predict(x_val[(n+3)%4][i])])/len(y_val[(n+3)%4][i])]\n",
    "    #print(scores)\n",
    "print(\"%.3f\" %np.mean(scores_0),\"+-\",\"%.3f\" %np.std(scores_0))\n",
    "print(\"%.3f\" %np.mean(scores_1),\"+-\",\"%.3f\" %np.std(scores_1))\n",
    "print(\"%.3f\" %np.mean(scores_2),\"+-\",\"%.3f\" %np.std(scores_2))\n",
    "print(\"%.3f\" %np.mean(scores_3),\"+-\",\"%.3f\" %np.std(scores_3))"
   ]
  },
  {
   "cell_type": "markdown",
   "metadata": {},
   "source": [
    "## conclusions\n",
    "So it seems that the features are specific to each location (which makes a lot of sense since the sensor is NOT an inertial reference frame and therefore its readings translate through complex non linear transformations between different body positions), so same variables at different locations don't yield at all the same predictivity, i.e. *a different model needs to be trained at every location*.\n",
    "\n",
    "## Multi-output!\n",
    "I believe I should actually consider arm/wrist/etc. as target labels! Because the actual use case might have the user carry the phone at different body locations. So in the following what I do is try to fit a multi output classifier, predicting both location and activity.\n",
    "\n",
    "N.B. a linear classifier here would stand no chance at all, because clearly the classifier will have some sort of \"if -> then\" structure that gives a totally different importance to the same feature at different locations. This is a highly non-linear boundary"
   ]
  },
  {
   "cell_type": "code",
   "execution_count": 268,
   "metadata": {
    "collapsed": false
   },
   "outputs": [
    {
     "name": "stdout",
     "output_type": "stream",
     "text": [
      "Average validation accuracy for the activity classification task 0.955 +- 0.001\n",
      "Average validation accuracy for the location classification task 0.990 +- 0.000\n"
     ]
    }
   ],
   "source": [
    "scores_act=[]\n",
    "scores_loc=[]\n",
    "for i in range(8):\n",
    "    model=RandomForestClassifier(n_estimators=20,random_state=1, criterion='gini', max_depth=None, \n",
    "                                 min_samples_split=2, min_samples_leaf=2, min_weight_fraction_leaf=0.0, \n",
    "                                 max_features='auto', max_leaf_nodes=None, min_impurity_split=1e-07, \n",
    "                                 bootstrap=True, oob_score=False, n_jobs=1, verbose=0, \n",
    "                                 warm_start=False, class_weight=None)\n",
    "    multi_model = MultiOutputClassifier(model, n_jobs=-1)\n",
    "    multi_model.fit(x_train[4][i],y_train[4][i])\n",
    "    scores_act+=[len(y_val[4][i][y_val[4][i][:,1]==multi_model.predict(x_val[4][i])[:,1]])/len(y_val[4][i])]\n",
    "    scores_loc+=[len(y_val[4][i][y_val[4][i][:,0]==multi_model.predict(x_val[4][i])[:,0]])/len(y_val[4][i])]\n",
    "print(\"Average validation accuracy for the activity classification task\",\"%.3f\" %np.mean(scores_act),\"+-\",\"%.3f\" %np.std(scores_act))\n",
    "print(\"Average validation accuracy for the location classification task\",\"%.3f\" %np.mean(scores_loc),\"+-\",\"%.3f\" %np.std(scores_loc))"
   ]
  },
  {
   "cell_type": "markdown",
   "metadata": {},
   "source": [
    "## some functions\n",
    "defining here a more automated validation/testing pipeline, bear with me"
   ]
  },
  {
   "cell_type": "code",
   "execution_count": 14,
   "metadata": {
    "collapsed": true
   },
   "outputs": [],
   "source": [
    "def validator(x_train,x_val,y_train,y_val,n_estimators=20,random_state=1, criterion='gini', max_depth=None,min_samples_split=2, min_samples_leaf=2, \n",
    "     min_weight_fraction_leaf=0.0,max_features='auto', max_leaf_nodes=None, min_impurity_split=1e-07,bootstrap=True, \n",
    "     oob_score=False, n_jobs=1, verbose=0, warm_start=False, class_weight=None):    \n",
    "    scores_act=[]\n",
    "    scores_loc=[]\n",
    "    for i in range(8):\n",
    "        model=RandomForestClassifier(n_estimators=n_estimators,random_state=random_state, criterion=criterion, \n",
    "                                     max_depth=max_depth, min_samples_split=min_samples_split,\n",
    "                                     min_samples_leaf=min_samples_leaf, \n",
    "                                     min_weight_fraction_leaf=min_weight_fraction_leaf, max_features=max_features,\n",
    "                                     max_leaf_nodes=max_leaf_nodes,min_impurity_split=min_impurity_split,\n",
    "                                     bootstrap=bootstrap,oob_score=oob_score, n_jobs=n_jobs, verbose=verbose, \n",
    "                                     warm_start=warm_start,class_weight=class_weight)\n",
    "        multi_model = MultiOutputClassifier(model, n_jobs=-1)\n",
    "        multi_model.fit(x_train[4][i],y_train[4][i])\n",
    "        scores_act+=[len(y_val[4][i][y_val[4][i][:,1]==multi_model.predict(x_val[4][i])[:,1]])/len(y_val[4][i])]\n",
    "        scores_loc+=[len(y_val[4][i][y_val[4][i][:,0]==multi_model.predict(x_val[4][i])[:,0]])/len(y_val[4][i])]\n",
    "    print(\"Average validation accuracy for the activity classification task\",\"%.3f\" %np.mean(scores_act),\"+-\",\n",
    "          \"%.3f\" %np.std(scores_act))\n",
    "    print(\"Average validation accuracy for the location classification task\",\"%.3f\" %np.mean(scores_loc),\"+-\",\n",
    "          \"%.3f\" %np.std(scores_loc))\n",
    "    return np.mean(scores_act),np.std(scores_act),np.mean(scores_loc),np.std(scores_loc)"
   ]
  },
  {
   "cell_type": "code",
   "execution_count": 20,
   "metadata": {
    "collapsed": true
   },
   "outputs": [],
   "source": [
    "def tester(x_trainval,x_test,y_trainval,y_test,n_estimators=20,random_state=1, criterion='gini', max_depth=None,min_samples_split=2, min_samples_leaf=2, \n",
    "     min_weight_fraction_leaf=0.0,max_features='auto', max_leaf_nodes=None, min_impurity_split=1e-07,bootstrap=True, \n",
    "     oob_score=False, n_jobs=1, verbose=0, warm_start=False, class_weight=None):    \n",
    "    scores_act=[]\n",
    "    scores_loc=[]\n",
    "    model=RandomForestClassifier(n_estimators=n_estimators,random_state=random_state, criterion=criterion, \n",
    "                                max_depth=max_depth, min_samples_split=min_samples_split,\n",
    "                                min_samples_leaf=min_samples_leaf, \n",
    "                                min_weight_fraction_leaf=min_weight_fraction_leaf, max_features=max_features,\n",
    "                                max_leaf_nodes=max_leaf_nodes,min_impurity_split=min_impurity_split,\n",
    "                                bootstrap=bootstrap,oob_score=oob_score, n_jobs=n_jobs, verbose=verbose, \n",
    "                                warm_start=warm_start,class_weight=class_weight)\n",
    "    multi_model = MultiOutputClassifier(model, n_jobs=-1)\n",
    "    multi_model.fit(x_trainval[4],y_trainval[4])\n",
    "    scores_act+=[len(y_test[4][y_test[4][:,1]==multi_model.predict(x_test[4])[:,1]])/len(y_test[4])]\n",
    "    scores_loc+=[len(y_test[4][y_test[4][:,0]==multi_model.predict(x_test[4])[:,0]])/len(y_test[4])]\n",
    "    print(\"Average test accuracy for the activity classification task\",\"%.3f\" %np.mean(scores_act),\"+-\",\n",
    "          \"%.3f\" %np.std(scores_act))\n",
    "    print(\"Average test accuracy for the location classification task\",\"%.3f\" %np.mean(scores_loc),\"+-\",\n",
    "          \"%.3f\" %np.std(scores_loc))\n",
    "    return np.mean(scores_act),np.std(scores_act),np.mean(scores_loc),np.std(scores_loc)"
   ]
  },
  {
   "cell_type": "markdown",
   "metadata": {},
   "source": [
    "Now let's tune the model searching the hyperparameter space"
   ]
  },
  {
   "cell_type": "code",
   "execution_count": 272,
   "metadata": {
    "collapsed": false
   },
   "outputs": [
    {
     "name": "stdout",
     "output_type": "stream",
     "text": [
      "Average validation accuracy for the activity classification task 0.958 +- 0.001\n",
      "Average validation accuracy for the location classification task 0.990 +- 0.000\n"
     ]
    }
   ],
   "source": [
    "validator(n_estimators=40)"
   ]
  },
  {
   "cell_type": "code",
   "execution_count": 60,
   "metadata": {
    "collapsed": false
   },
   "outputs": [
    {
     "name": "stdout",
     "output_type": "stream",
     "text": [
      "Average validation accuracy for the activity classification task 0.876 +- 0.001\n",
      "Average validation accuracy for the location classification task 0.959 +- 0.001\n"
     ]
    },
    {
     "data": {
      "text/plain": [
       "(0.87592550523602775,\n",
       " 0.0013172474623605779,\n",
       " 0.95917203436587717,\n",
       " 0.00072698355904171402)"
      ]
     },
     "execution_count": 60,
     "metadata": {},
     "output_type": "execute_result"
    }
   ],
   "source": [
    "validator(n_estimators=10)"
   ]
  },
  {
   "cell_type": "code",
   "execution_count": 282,
   "metadata": {
    "collapsed": false
   },
   "outputs": [
    {
     "name": "stdout",
     "output_type": "stream",
     "text": [
      "Average validation accuracy for the activity classification task 0.959 +- 0.001\n",
      "Average validation accuracy for the location classification task 0.991 +- 0.000\n"
     ]
    }
   ],
   "source": [
    "validator(n_estimators=60)"
   ]
  },
  {
   "cell_type": "markdown",
   "metadata": {},
   "source": [
    "## wonderful!! \n",
    "Ok I realize that this was not an exhaustive hyperparameter search but the computation load is so heavy and performance is good enough that I believe I can stop here and do the:\n",
    "## Testing!"
   ]
  },
  {
   "cell_type": "code",
   "execution_count": 284,
   "metadata": {
    "collapsed": false
   },
   "outputs": [
    {
     "name": "stdout",
     "output_type": "stream",
     "text": [
      "Average validation accuracy for the activity classification task 0.962 +- 0.000\n",
      "Average validation accuracy for the location classification task 0.991 +- 0.000\n"
     ]
    },
    {
     "data": {
      "text/plain": [
       "(0.96205861129861969, 0.0, 0.99113149135262213, 0.0)"
      ]
     },
     "execution_count": 284,
     "metadata": {},
     "output_type": "execute_result"
    }
   ],
   "source": [
    "tester(n_estimators=60)"
   ]
  },
  {
   "cell_type": "markdown",
   "metadata": {},
   "source": [
    "Again, one here would do a test splitting again and rerun the entire thing and average the testing result to quote a more representative figure but this should be good enough"
   ]
  },
  {
   "cell_type": "markdown",
   "metadata": {},
   "source": [
    "## Possible Refinements\n",
    "\n",
    "One could use time-series-like information to help the classification out. For example if I classify one event as \"running\" and this event is surrounded by events that say \"walking\", that might be a very good indicator that we should instead classify the event as \"running\", as well. Let me quickly do some further exploration to see what this looks like."
   ]
  },
  {
   "cell_type": "code",
   "execution_count": 316,
   "metadata": {
    "collapsed": true
   },
   "outputs": [],
   "source": [
    "act_dict={'Walking':0,'Running':1,'Downstairs':2,'Upstairs':3,'Standing':4,'Sitting':5}"
   ]
  },
  {
   "cell_type": "code",
   "execution_count": 317,
   "metadata": {
    "collapsed": false
   },
   "outputs": [],
   "source": [
    "df_temp=pd.concat([df_arm[\"Time_Stamp\"],df_arm[\"Activity_Label\"].apply(lambda x:act_dict[x])],axis=1)"
   ]
  },
  {
   "cell_type": "code",
   "execution_count": 320,
   "metadata": {
    "collapsed": false
   },
   "outputs": [
    {
     "data": {
      "text/html": [
       "<div>\n",
       "<table border=\"1\" class=\"dataframe\">\n",
       "  <thead>\n",
       "    <tr style=\"text-align: right;\">\n",
       "      <th></th>\n",
       "      <th>Time_Stamp</th>\n",
       "      <th>Activity_Label</th>\n",
       "    </tr>\n",
       "  </thead>\n",
       "  <tbody>\n",
       "    <tr>\n",
       "      <th>0</th>\n",
       "      <td>1364396345335</td>\n",
       "      <td>2</td>\n",
       "    </tr>\n",
       "    <tr>\n",
       "      <th>1</th>\n",
       "      <td>1364396345354</td>\n",
       "      <td>2</td>\n",
       "    </tr>\n",
       "    <tr>\n",
       "      <th>2</th>\n",
       "      <td>1364396345375</td>\n",
       "      <td>2</td>\n",
       "    </tr>\n",
       "    <tr>\n",
       "      <th>3</th>\n",
       "      <td>1364396345394</td>\n",
       "      <td>2</td>\n",
       "    </tr>\n",
       "    <tr>\n",
       "      <th>4</th>\n",
       "      <td>1364396345414</td>\n",
       "      <td>2</td>\n",
       "    </tr>\n",
       "  </tbody>\n",
       "</table>\n",
       "</div>"
      ],
      "text/plain": [
       "      Time_Stamp  Activity_Label\n",
       "0  1364396345335               2\n",
       "1  1364396345354               2\n",
       "2  1364396345375               2\n",
       "3  1364396345394               2\n",
       "4  1364396345414               2"
      ]
     },
     "execution_count": 320,
     "metadata": {},
     "output_type": "execute_result"
    }
   ],
   "source": [
    "df_temp.head() #here I just transformed the labels to numerical so I can plot them"
   ]
  },
  {
   "cell_type": "code",
   "execution_count": 321,
   "metadata": {
    "collapsed": false
   },
   "outputs": [
    {
     "data": {
      "text/plain": [
       "<matplotlib.axes._subplots.AxesSubplot at 0x167c9da90>"
      ]
     },
     "execution_count": 321,
     "metadata": {},
     "output_type": "execute_result"
    },
    {
     "data": {
      "image/png": "[encoded data removed]",
      "text/plain": [
       "<matplotlib.figure.Figure at 0x140fd4128>"
      ]
     },
     "metadata": {},
     "output_type": "display_data"
    }
   ],
   "source": [
    "df_temp[:60000].plot(x=\"Time_Stamp\", y=\"Activity_Label\",style='.')"
   ]
  },
  {
   "cell_type": "markdown",
   "metadata": {},
   "source": [
    "## Comment\n",
    "The experimenter here separated the activities neatly in time. So a classification refinement should be absolutely trivial on this dataset (in other words, each misclassified sample is surrounded in time by a host of correctly classified samples)\n",
    "\n",
    "However this might not serve as a good vaidation in a more realistic situation, where the user might switch somewhat smoothly between one activity and the other. (See recommendations below)"
   ]
  },
  {
   "cell_type": "markdown",
   "metadata": {},
   "source": [
    "### More work: feature importance/correlation\n",
    "\n",
    "Notice that I did not perform, again in the interest of time, any particular analysis of feature importance, correlation, etc.\n",
    "\n",
    "Also, the algorithm I chose, random forest, is typically quite robust to this sort of problems."
   ]
  },
  {
   "cell_type": "markdown",
   "metadata": {},
   "source": [
    "# Conclusions\n",
    "We can assert with some confidence that our model: a random-forest multi-output classifier with 60 estimators, properly trained, will classify new data with an accuracy of ~96%"
   ]
  },
  {
   "cell_type": "markdown",
   "metadata": {},
   "source": [
    "# Recommendations to the experimenters for a more sound validation.\n",
    "\n",
    "- Label data with user IDs as well.\n",
    "\n",
    "- Label activities in a more fuzzy and flexible manner? (for example record a video of the users perform activities also transitioning from one to the other and use the video to label them)"
   ]
  },
  {
   "cell_type": "code",
   "execution_count": 15,
   "metadata": {
    "collapsed": false
   },
   "outputs": [
    {
     "data": {
      "text/html": [
       "<div>\n",
       "<table border=\"1\" class=\"dataframe\">\n",
       "  <thead>\n",
       "    <tr style=\"text-align: right;\">\n",
       "      <th></th>\n",
       "      <th>Time_Stamp</th>\n",
       "      <th>Ax</th>\n",
       "      <th>Ay</th>\n",
       "      <th>Az</th>\n",
       "      <th>Gx</th>\n",
       "      <th>Gy</th>\n",
       "      <th>Gz</th>\n",
       "      <th>Mx</th>\n",
       "      <th>My</th>\n",
       "      <th>Mz</th>\n",
       "      <th>Activity_Label</th>\n",
       "    </tr>\n",
       "  </thead>\n",
       "  <tbody>\n",
       "    <tr>\n",
       "      <th>161928</th>\n",
       "      <td>1364300139420</td>\n",
       "      <td>0.340509</td>\n",
       "      <td>-10.651112</td>\n",
       "      <td>-2.533385</td>\n",
       "      <td>0.960586</td>\n",
       "      <td>0.200364</td>\n",
       "      <td>0.176540</td>\n",
       "      <td>11.040000</td>\n",
       "      <td>31.080000</td>\n",
       "      <td>-18.000000</td>\n",
       "      <td>Walking</td>\n",
       "    </tr>\n",
       "    <tr>\n",
       "      <th>161929</th>\n",
       "      <td>1364300139440</td>\n",
       "      <td>0.381370</td>\n",
       "      <td>-10.310603</td>\n",
       "      <td>-0.858082</td>\n",
       "      <td>0.865291</td>\n",
       "      <td>0.657902</td>\n",
       "      <td>-0.071471</td>\n",
       "      <td>11.340000</td>\n",
       "      <td>30.660000</td>\n",
       "      <td>-19.199999</td>\n",
       "      <td>Walking</td>\n",
       "    </tr>\n",
       "    <tr>\n",
       "      <th>161930</th>\n",
       "      <td>1364300139460</td>\n",
       "      <td>0.095342</td>\n",
       "      <td>-10.446807</td>\n",
       "      <td>1.089628</td>\n",
       "      <td>0.723875</td>\n",
       "      <td>0.971581</td>\n",
       "      <td>-0.285579</td>\n",
       "      <td>12.120000</td>\n",
       "      <td>29.880000</td>\n",
       "      <td>-21.000000</td>\n",
       "      <td>Walking</td>\n",
       "    </tr>\n",
       "    <tr>\n",
       "      <th>161931</th>\n",
       "      <td>1364300139480</td>\n",
       "      <td>0.708258</td>\n",
       "      <td>-11.931424</td>\n",
       "      <td>-0.081722</td>\n",
       "      <td>-0.198226</td>\n",
       "      <td>-0.254731</td>\n",
       "      <td>0.062003</td>\n",
       "      <td>12.420000</td>\n",
       "      <td>29.519999</td>\n",
       "      <td>-21.779999</td>\n",
       "      <td>Walking</td>\n",
       "    </tr>\n",
       "    <tr>\n",
       "      <th>161932</th>\n",
       "      <td>1364300139500</td>\n",
       "      <td>-0.789980</td>\n",
       "      <td>-14.641873</td>\n",
       "      <td>-3.187161</td>\n",
       "      <td>-0.520457</td>\n",
       "      <td>-0.655458</td>\n",
       "      <td>0.315512</td>\n",
       "      <td>13.080000</td>\n",
       "      <td>28.859999</td>\n",
       "      <td>-23.279999</td>\n",
       "      <td>Walking</td>\n",
       "    </tr>\n",
       "    <tr>\n",
       "      <th>161933</th>\n",
       "      <td>1364300139520</td>\n",
       "      <td>-2.669588</td>\n",
       "      <td>-14.464809</td>\n",
       "      <td>-3.200782</td>\n",
       "      <td>-0.392176</td>\n",
       "      <td>-0.524122</td>\n",
       "      <td>0.259923</td>\n",
       "      <td>13.200000</td>\n",
       "      <td>28.619999</td>\n",
       "      <td>-23.820000</td>\n",
       "      <td>Walking</td>\n",
       "    </tr>\n",
       "    <tr>\n",
       "      <th>161934</th>\n",
       "      <td>1364300139540</td>\n",
       "      <td>-1.893228</td>\n",
       "      <td>-14.573772</td>\n",
       "      <td>-3.949901</td>\n",
       "      <td>-0.545503</td>\n",
       "      <td>0.807258</td>\n",
       "      <td>-0.259923</td>\n",
       "      <td>13.679999</td>\n",
       "      <td>28.320000</td>\n",
       "      <td>-24.840000</td>\n",
       "      <td>Walking</td>\n",
       "    </tr>\n",
       "    <tr>\n",
       "      <th>161935</th>\n",
       "      <td>1364300139560</td>\n",
       "      <td>-0.667397</td>\n",
       "      <td>-13.661209</td>\n",
       "      <td>-5.257454</td>\n",
       "      <td>-1.470047</td>\n",
       "      <td>1.573589</td>\n",
       "      <td>-0.819781</td>\n",
       "      <td>13.920000</td>\n",
       "      <td>28.080000</td>\n",
       "      <td>-25.260000</td>\n",
       "      <td>Walking</td>\n",
       "    </tr>\n",
       "    <tr>\n",
       "      <th>161936</th>\n",
       "      <td>1364300139580</td>\n",
       "      <td>-0.231546</td>\n",
       "      <td>-12.448998</td>\n",
       "      <td>-5.584342</td>\n",
       "      <td>-2.410474</td>\n",
       "      <td>2.452624</td>\n",
       "      <td>-1.267240</td>\n",
       "      <td>14.099999</td>\n",
       "      <td>28.080000</td>\n",
       "      <td>-25.380000</td>\n",
       "      <td>Walking</td>\n",
       "    </tr>\n",
       "    <tr>\n",
       "      <th>161937</th>\n",
       "      <td>1364300139600</td>\n",
       "      <td>-5.666065</td>\n",
       "      <td>-8.308413</td>\n",
       "      <td>1.702543</td>\n",
       "      <td>-3.339906</td>\n",
       "      <td>2.782491</td>\n",
       "      <td>-1.244027</td>\n",
       "      <td>14.639999</td>\n",
       "      <td>28.380000</td>\n",
       "      <td>-25.080000</td>\n",
       "      <td>Walking</td>\n",
       "    </tr>\n",
       "    <tr>\n",
       "      <th>161938</th>\n",
       "      <td>1364300139620</td>\n",
       "      <td>-5.175732</td>\n",
       "      <td>-8.839605</td>\n",
       "      <td>10.419566</td>\n",
       "      <td>-2.950479</td>\n",
       "      <td>0.757167</td>\n",
       "      <td>-0.784045</td>\n",
       "      <td>14.820000</td>\n",
       "      <td>28.500000</td>\n",
       "      <td>-24.539999</td>\n",
       "      <td>Walking</td>\n",
       "    </tr>\n",
       "    <tr>\n",
       "      <th>161939</th>\n",
       "      <td>1364300139640</td>\n",
       "      <td>-4.481094</td>\n",
       "      <td>-10.828176</td>\n",
       "      <td>11.223166</td>\n",
       "      <td>-2.002416</td>\n",
       "      <td>-0.339030</td>\n",
       "      <td>-0.978912</td>\n",
       "      <td>14.820000</td>\n",
       "      <td>28.800000</td>\n",
       "      <td>-24.000000</td>\n",
       "      <td>Walking</td>\n",
       "    </tr>\n",
       "    <tr>\n",
       "      <th>161940</th>\n",
       "      <td>1364300139660</td>\n",
       "      <td>-5.992953</td>\n",
       "      <td>-16.249075</td>\n",
       "      <td>-5.911231</td>\n",
       "      <td>-2.778826</td>\n",
       "      <td>-0.273973</td>\n",
       "      <td>-0.777021</td>\n",
       "      <td>14.580000</td>\n",
       "      <td>29.580000</td>\n",
       "      <td>-22.500000</td>\n",
       "      <td>Walking</td>\n",
       "    </tr>\n",
       "    <tr>\n",
       "      <th>161941</th>\n",
       "      <td>1364300139680</td>\n",
       "      <td>-6.156397</td>\n",
       "      <td>-16.575964</td>\n",
       "      <td>-4.276789</td>\n",
       "      <td>-2.531426</td>\n",
       "      <td>-0.752586</td>\n",
       "      <td>-0.670730</td>\n",
       "      <td>14.400000</td>\n",
       "      <td>30.480000</td>\n",
       "      <td>-20.460000</td>\n",
       "      <td>Walking</td>\n",
       "    </tr>\n",
       "    <tr>\n",
       "      <th>161942</th>\n",
       "      <td>1364300139700</td>\n",
       "      <td>-4.535576</td>\n",
       "      <td>-11.890564</td>\n",
       "      <td>0.531194</td>\n",
       "      <td>-1.918117</td>\n",
       "      <td>1.002430</td>\n",
       "      <td>-0.572992</td>\n",
       "      <td>14.040000</td>\n",
       "      <td>31.439999</td>\n",
       "      <td>-18.359999</td>\n",
       "      <td>Walking</td>\n",
       "    </tr>\n",
       "    <tr>\n",
       "      <th>161943</th>\n",
       "      <td>1364300139720</td>\n",
       "      <td>-2.901134</td>\n",
       "      <td>-8.322033</td>\n",
       "      <td>-0.054481</td>\n",
       "      <td>-1.506699</td>\n",
       "      <td>0.646601</td>\n",
       "      <td>-0.406836</td>\n",
       "      <td>13.500000</td>\n",
       "      <td>32.399998</td>\n",
       "      <td>-15.960000</td>\n",
       "      <td>Walking</td>\n",
       "    </tr>\n",
       "    <tr>\n",
       "      <th>161944</th>\n",
       "      <td>1364300139740</td>\n",
       "      <td>-0.081722</td>\n",
       "      <td>-8.090487</td>\n",
       "      <td>-0.177065</td>\n",
       "      <td>-1.540602</td>\n",
       "      <td>-0.543365</td>\n",
       "      <td>-0.145691</td>\n",
       "      <td>12.960000</td>\n",
       "      <td>33.360000</td>\n",
       "      <td>-13.320000</td>\n",
       "      <td>Walking</td>\n",
       "    </tr>\n",
       "    <tr>\n",
       "      <th>161945</th>\n",
       "      <td>1364300139760</td>\n",
       "      <td>1.089628</td>\n",
       "      <td>-8.580819</td>\n",
       "      <td>-0.394990</td>\n",
       "      <td>-1.577254</td>\n",
       "      <td>-1.159422</td>\n",
       "      <td>-0.228769</td>\n",
       "      <td>12.300000</td>\n",
       "      <td>34.079998</td>\n",
       "      <td>-10.440000</td>\n",
       "      <td>Walking</td>\n",
       "    </tr>\n",
       "    <tr>\n",
       "      <th>161946</th>\n",
       "      <td>1364300139780</td>\n",
       "      <td>-0.708258</td>\n",
       "      <td>-6.333462</td>\n",
       "      <td>0.830841</td>\n",
       "      <td>-1.420262</td>\n",
       "      <td>-0.818559</td>\n",
       "      <td>-0.602313</td>\n",
       "      <td>11.759999</td>\n",
       "      <td>34.559998</td>\n",
       "      <td>-7.860000</td>\n",
       "      <td>Walking</td>\n",
       "    </tr>\n",
       "    <tr>\n",
       "      <th>161947</th>\n",
       "      <td>1364300139800</td>\n",
       "      <td>-1.607201</td>\n",
       "      <td>-4.876084</td>\n",
       "      <td>1.253072</td>\n",
       "      <td>-1.482875</td>\n",
       "      <td>-0.885449</td>\n",
       "      <td>-0.612392</td>\n",
       "      <td>11.400000</td>\n",
       "      <td>34.800000</td>\n",
       "      <td>-6.900000</td>\n",
       "      <td>Walking</td>\n",
       "    </tr>\n",
       "    <tr>\n",
       "      <th>161948</th>\n",
       "      <td>1364300139820</td>\n",
       "      <td>-2.601486</td>\n",
       "      <td>-2.547005</td>\n",
       "      <td>1.865988</td>\n",
       "      <td>-1.491122</td>\n",
       "      <td>-1.302365</td>\n",
       "      <td>-0.464868</td>\n",
       "      <td>10.740000</td>\n",
       "      <td>35.219997</td>\n",
       "      <td>-4.920000</td>\n",
       "      <td>Walking</td>\n",
       "    </tr>\n",
       "    <tr>\n",
       "      <th>161949</th>\n",
       "      <td>1364300139840</td>\n",
       "      <td>-2.805792</td>\n",
       "      <td>-1.988571</td>\n",
       "      <td>2.220117</td>\n",
       "      <td>-1.331992</td>\n",
       "      <td>-1.796249</td>\n",
       "      <td>-0.320093</td>\n",
       "      <td>10.380000</td>\n",
       "      <td>35.520000</td>\n",
       "      <td>-3.360000</td>\n",
       "      <td>Walking</td>\n",
       "    </tr>\n",
       "    <tr>\n",
       "      <th>161950</th>\n",
       "      <td>1364300139860</td>\n",
       "      <td>-2.928375</td>\n",
       "      <td>-1.797886</td>\n",
       "      <td>1.797886</td>\n",
       "      <td>-1.061684</td>\n",
       "      <td>-2.034792</td>\n",
       "      <td>-0.199753</td>\n",
       "      <td>9.719999</td>\n",
       "      <td>35.579998</td>\n",
       "      <td>-1.920000</td>\n",
       "      <td>Walking</td>\n",
       "    </tr>\n",
       "    <tr>\n",
       "      <th>161951</th>\n",
       "      <td>1364300139880</td>\n",
       "      <td>-2.737690</td>\n",
       "      <td>-1.838747</td>\n",
       "      <td>0.994285</td>\n",
       "      <td>-0.600786</td>\n",
       "      <td>-2.068390</td>\n",
       "      <td>-0.111177</td>\n",
       "      <td>9.300000</td>\n",
       "      <td>35.760000</td>\n",
       "      <td>-0.540000</td>\n",
       "      <td>Walking</td>\n",
       "    </tr>\n",
       "    <tr>\n",
       "      <th>161952</th>\n",
       "      <td>1364300139900</td>\n",
       "      <td>-2.724070</td>\n",
       "      <td>-1.988571</td>\n",
       "      <td>0.408610</td>\n",
       "      <td>0.050091</td>\n",
       "      <td>-1.798387</td>\n",
       "      <td>0.026267</td>\n",
       "      <td>9.120000</td>\n",
       "      <td>35.820000</td>\n",
       "      <td>-0.540000</td>\n",
       "      <td>Walking</td>\n",
       "    </tr>\n",
       "    <tr>\n",
       "      <th>161953</th>\n",
       "      <td>1364300139920</td>\n",
       "      <td>-2.601486</td>\n",
       "      <td>-4.426613</td>\n",
       "      <td>-2.369940</td>\n",
       "      <td>0.816727</td>\n",
       "      <td>-1.472491</td>\n",
       "      <td>0.100182</td>\n",
       "      <td>9.059999</td>\n",
       "      <td>35.940000</td>\n",
       "      <td>0.840000</td>\n",
       "      <td>Walking</td>\n",
       "    </tr>\n",
       "    <tr>\n",
       "      <th>161954</th>\n",
       "      <td>1364300139940</td>\n",
       "      <td>-3.064578</td>\n",
       "      <td>-7.041720</td>\n",
       "      <td>-5.992953</td>\n",
       "      <td>1.326188</td>\n",
       "      <td>-1.075123</td>\n",
       "      <td>0.084299</td>\n",
       "      <td>9.059999</td>\n",
       "      <td>36.180000</td>\n",
       "      <td>1.020000</td>\n",
       "      <td>Walking</td>\n",
       "    </tr>\n",
       "    <tr>\n",
       "      <th>161955</th>\n",
       "      <td>1364300139960</td>\n",
       "      <td>-4.903325</td>\n",
       "      <td>-15.363752</td>\n",
       "      <td>-14.900661</td>\n",
       "      <td>0.638049</td>\n",
       "      <td>-0.222966</td>\n",
       "      <td>0.208610</td>\n",
       "      <td>9.120000</td>\n",
       "      <td>36.180000</td>\n",
       "      <td>1.080000</td>\n",
       "      <td>Walking</td>\n",
       "    </tr>\n",
       "    <tr>\n",
       "      <th>161956</th>\n",
       "      <td>1364300139980</td>\n",
       "      <td>-4.290410</td>\n",
       "      <td>-17.624730</td>\n",
       "      <td>-11.699879</td>\n",
       "      <td>-0.365603</td>\n",
       "      <td>-0.474948</td>\n",
       "      <td>0.528093</td>\n",
       "      <td>9.240000</td>\n",
       "      <td>36.360000</td>\n",
       "      <td>0.960000</td>\n",
       "      <td>Walking</td>\n",
       "    </tr>\n",
       "    <tr>\n",
       "      <th>161957</th>\n",
       "      <td>1364300140000</td>\n",
       "      <td>-5.924851</td>\n",
       "      <td>-11.863323</td>\n",
       "      <td>-7.790839</td>\n",
       "      <td>-0.289245</td>\n",
       "      <td>-1.260826</td>\n",
       "      <td>0.262977</td>\n",
       "      <td>9.300000</td>\n",
       "      <td>36.480000</td>\n",
       "      <td>1.020000</td>\n",
       "      <td>Walking</td>\n",
       "    </tr>\n",
       "  </tbody>\n",
       "</table>\n",
       "</div>"
      ],
      "text/plain": [
       "           Time_Stamp        Ax         Ay         Az        Gx        Gy  \\\n",
       "161928  1364300139420  0.340509 -10.651112  -2.533385  0.960586  0.200364   \n",
       "161929  1364300139440  0.381370 -10.310603  -0.858082  0.865291  0.657902   \n",
       "161930  1364300139460  0.095342 -10.446807   1.089628  0.723875  0.971581   \n",
       "161931  1364300139480  0.708258 -11.931424  -0.081722 -0.198226 -0.254731   \n",
       "161932  1364300139500 -0.789980 -14.641873  -3.187161 -0.520457 -0.655458   \n",
       "161933  1364300139520 -2.669588 -14.464809  -3.200782 -0.392176 -0.524122   \n",
       "161934  1364300139540 -1.893228 -14.573772  -3.949901 -0.545503  0.807258   \n",
       "161935  1364300139560 -0.667397 -13.661209  -5.257454 -1.470047  1.573589   \n",
       "161936  1364300139580 -0.231546 -12.448998  -5.584342 -2.410474  2.452624   \n",
       "161937  1364300139600 -5.666065  -8.308413   1.702543 -3.339906  2.782491   \n",
       "161938  1364300139620 -5.175732  -8.839605  10.419566 -2.950479  0.757167   \n",
       "161939  1364300139640 -4.481094 -10.828176  11.223166 -2.002416 -0.339030   \n",
       "161940  1364300139660 -5.992953 -16.249075  -5.911231 -2.778826 -0.273973   \n",
       "161941  1364300139680 -6.156397 -16.575964  -4.276789 -2.531426 -0.752586   \n",
       "161942  1364300139700 -4.535576 -11.890564   0.531194 -1.918117  1.002430   \n",
       "161943  1364300139720 -2.901134  -8.322033  -0.054481 -1.506699  0.646601   \n",
       "161944  1364300139740 -0.081722  -8.090487  -0.177065 -1.540602 -0.543365   \n",
       "161945  1364300139760  1.089628  -8.580819  -0.394990 -1.577254 -1.159422   \n",
       "161946  1364300139780 -0.708258  -6.333462   0.830841 -1.420262 -0.818559   \n",
       "161947  1364300139800 -1.607201  -4.876084   1.253072 -1.482875 -0.885449   \n",
       "161948  1364300139820 -2.601486  -2.547005   1.865988 -1.491122 -1.302365   \n",
       "161949  1364300139840 -2.805792  -1.988571   2.220117 -1.331992 -1.796249   \n",
       "161950  1364300139860 -2.928375  -1.797886   1.797886 -1.061684 -2.034792   \n",
       "161951  1364300139880 -2.737690  -1.838747   0.994285 -0.600786 -2.068390   \n",
       "161952  1364300139900 -2.724070  -1.988571   0.408610  0.050091 -1.798387   \n",
       "161953  1364300139920 -2.601486  -4.426613  -2.369940  0.816727 -1.472491   \n",
       "161954  1364300139940 -3.064578  -7.041720  -5.992953  1.326188 -1.075123   \n",
       "161955  1364300139960 -4.903325 -15.363752 -14.900661  0.638049 -0.222966   \n",
       "161956  1364300139980 -4.290410 -17.624730 -11.699879 -0.365603 -0.474948   \n",
       "161957  1364300140000 -5.924851 -11.863323  -7.790839 -0.289245 -1.260826   \n",
       "\n",
       "              Gz         Mx         My         Mz Activity_Label  \n",
       "161928  0.176540  11.040000  31.080000 -18.000000        Walking  \n",
       "161929 -0.071471  11.340000  30.660000 -19.199999        Walking  \n",
       "161930 -0.285579  12.120000  29.880000 -21.000000        Walking  \n",
       "161931  0.062003  12.420000  29.519999 -21.779999        Walking  \n",
       "161932  0.315512  13.080000  28.859999 -23.279999        Walking  \n",
       "161933  0.259923  13.200000  28.619999 -23.820000        Walking  \n",
       "161934 -0.259923  13.679999  28.320000 -24.840000        Walking  \n",
       "161935 -0.819781  13.920000  28.080000 -25.260000        Walking  \n",
       "161936 -1.267240  14.099999  28.080000 -25.380000        Walking  \n",
       "161937 -1.244027  14.639999  28.380000 -25.080000        Walking  \n",
       "161938 -0.784045  14.820000  28.500000 -24.539999        Walking  \n",
       "161939 -0.978912  14.820000  28.800000 -24.000000        Walking  \n",
       "161940 -0.777021  14.580000  29.580000 -22.500000        Walking  \n",
       "161941 -0.670730  14.400000  30.480000 -20.460000        Walking  \n",
       "161942 -0.572992  14.040000  31.439999 -18.359999        Walking  \n",
       "161943 -0.406836  13.500000  32.399998 -15.960000        Walking  \n",
       "161944 -0.145691  12.960000  33.360000 -13.320000        Walking  \n",
       "161945 -0.228769  12.300000  34.079998 -10.440000        Walking  \n",
       "161946 -0.602313  11.759999  34.559998  -7.860000        Walking  \n",
       "161947 -0.612392  11.400000  34.800000  -6.900000        Walking  \n",
       "161948 -0.464868  10.740000  35.219997  -4.920000        Walking  \n",
       "161949 -0.320093  10.380000  35.520000  -3.360000        Walking  \n",
       "161950 -0.199753   9.719999  35.579998  -1.920000        Walking  \n",
       "161951 -0.111177   9.300000  35.760000  -0.540000        Walking  \n",
       "161952  0.026267   9.120000  35.820000  -0.540000        Walking  \n",
       "161953  0.100182   9.059999  35.940000   0.840000        Walking  \n",
       "161954  0.084299   9.059999  36.180000   1.020000        Walking  \n",
       "161955  0.208610   9.120000  36.180000   1.080000        Walking  \n",
       "161956  0.528093   9.240000  36.360000   0.960000        Walking  \n",
       "161957  0.262977   9.300000  36.480000   1.020000        Walking  "
      ]
     },
     "execution_count": 15,
     "metadata": {},
     "output_type": "execute_result"
    }
   ],
   "source": [
    "df_pocket.tail(30)"
   ]
  },
  {
   "cell_type": "code",
   "execution_count": 23,
   "metadata": {
    "collapsed": false
   },
   "outputs": [],
   "source": [
    "def magnitude(df,ax,ay,az):\n",
    "    return (df[ax].apply(lambda x:x**2)+df[ay].apply(lambda x:x**2)+df[az].apply(lambda x:x**2)).apply(lambda x:np.sqrt(x))"
   ]
  },
  {
   "cell_type": "code",
   "execution_count": 6,
   "metadata": {
    "collapsed": false
   },
   "outputs": [
    {
     "data": {
      "text/plain": [
       "43264.724293981475"
      ]
     },
     "execution_count": 6,
     "metadata": {},
     "output_type": "execute_result"
    }
   ],
   "source": [
    "1364396345335/3600/24/365"
   ]
  },
  {
   "cell_type": "code",
   "execution_count": 63,
   "metadata": {
    "collapsed": false
   },
   "outputs": [
    {
     "data": {
      "text/plain": [
       "<matplotlib.axes._subplots.AxesSubplot at 0x11b0f4518>"
      ]
     },
     "execution_count": 63,
     "metadata": {},
     "output_type": "execute_result"
    },
    {
     "data": {
      "image/png": "[encoded data removed]",
      "text/plain": [
       "<matplotlib.figure.Figure at 0x1136ff518>"
      ]
     },
     "metadata": {},
     "output_type": "display_data"
    }
   ],
   "source": [
    "%matplotlib inline\n",
    "magnitude(df_wrist,\"Mx\",\"My\",\"Mz\").plot()"
   ]
  },
  {
   "cell_type": "code",
   "execution_count": 65,
   "metadata": {
    "collapsed": false
   },
   "outputs": [
    {
     "data": {
      "text/plain": [
       "<matplotlib.axes._subplots.AxesSubplot at 0x11b0e8fd0>"
      ]
     },
     "execution_count": 65,
     "metadata": {},
     "output_type": "execute_result"
    },
    {
     "data": {
      "image/png": "[encoded data removed]",
      "text/plain": [
       "<matplotlib.figure.Figure at 0x1136cef60>"
      ]
     },
     "metadata": {},
     "output_type": "display_data"
    }
   ],
   "source": [
    "(df_wrist[\"Mx\"]/magnitude(df_wrist,\"Mx\",\"My\",\"Mz\")).plot()"
   ]
  },
  {
   "cell_type": "code",
   "execution_count": null,
   "metadata": {
    "collapsed": true
   },
   "outputs": [],
   "source": []
  }
 ],
 "metadata": {
  "anaconda-cloud": {},
  "kernelspec": {
   "display_name": "Python [py3k]",
   "language": "python",
   "name": "Python [py3k]"
  },
  "language_info": {
   "codemirror_mode": {
    "name": "ipython",
    "version": 3
   },
   "file_extension": ".py",
   "mimetype": "text/x-python",
   "name": "python",
   "nbconvert_exporter": "python",
   "pygments_lexer": "ipython3",
   "version": "3.5.2"
  }
 },
 "nbformat": 4,
 "nbformat_minor": 0
}
