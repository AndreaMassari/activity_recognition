{
 "cells": [
  {
   "cell_type": "markdown",
   "metadata": {},
   "source": [
    "# Introduction\n",
    "\n",
    "This notebook shows a very simple pipeline to explore a phone sensors dataset (\"Physical Activity Recognition Dataset Using Smartphone Sensors\") from http://ps.ewi.utwente.nl/Datasets.php, and develop and test a ML algorithm to predict the type of physical activity the user is engaging in.\n",
    "\n",
    "### Results\n",
    "We claim an ~91% accuracy with a properly trained random forest *multiclass* and *multioutput* classifier.\n"
   ]
  },
  {
   "cell_type": "markdown",
   "metadata": {},
   "source": [
    "## Imports: with hindsight of course..."
   ]
  },
  {
   "cell_type": "code",
   "execution_count": 19,
   "metadata": {
    "collapsed": false
   },
   "outputs": [],
   "source": [
    "import pandas as pd\n",
    "import numpy as np\n",
    "from sklearn.linear_model import LogisticRegression\n",
    "from sklearn.ensemble import RandomForestClassifier\n",
    "from sklearn.model_selection import train_test_split, KFold\n",
    "from sklearn.multioutput import MultiOutputClassifier\n",
    "%matplotlib inline"
   ]
  },
  {
   "cell_type": "markdown",
   "metadata": {},
   "source": [
    "## some functions\n",
    "defining here a more automated validation/testing pipeline, bear with me"
   ]
  },
  {
   "cell_type": "code",
   "execution_count": 35,
   "metadata": {
    "collapsed": true
   },
   "outputs": [],
   "source": [
    "def dataprep(cols,df_list=[df_wrist,df_arm,df_belt,df_pocket]):\n",
    "    # cols lets you specify which features to keep in consideration\n",
    "    x,y,y_loc=[],[],[]\n",
    "\n",
    "    for i,df in enumerate(df_list):\n",
    "        #x is a list of numpy arrays containing the features, the first 4 arrays have each one the contents from one \n",
    "        #different location, the fifth array has all the 4 arrays concatenated together\n",
    "        x+=[np.array(df[cols])]\n",
    "        #y has the labels for the corresponding activities\n",
    "        y+=[np.array(df[\"Activity_Label\"])]\n",
    "        #y_loc has the labels (4) for location\n",
    "        y_loc+=[[i]*len(df)]\n",
    "\n",
    "    x+=[np.concatenate(x)]\n",
    "    y+=[np.array(list(zip(np.concatenate(y_loc),np.concatenate(y))))]\n",
    "    return x,y\n",
    "\n",
    "def test_val_splitter(x,y,test_size=0.2,n_splits=8,diffus=False):\n",
    "    x_trainval,y_trainval=[],[]\n",
    "    x_test,y_test=[],[]\n",
    "    if diffus:\n",
    "        for xx,yy,il,ih in zip(x[:-1],y[:-1],index_low_ts,index_high_ts):\n",
    "            x_test+=[xx[il]]\n",
    "            y_test+=[yy[il]]\n",
    "            x_trainval+=[xx[ih]]\n",
    "            y_trainval+=[yy[ih]]\n",
    "        x_test+=[x[4][np.concatenate(index_low_ts_cum)]]\n",
    "        y_test+=[y[4][np.concatenate(index_low_ts_cum)]]\n",
    "        x_trainval+=[x[4][np.concatenate(index_high_ts_cum)]]\n",
    "        y_trainval+=[y[4][np.concatenate(index_high_ts_cum)]]\n",
    "    else:\n",
    "        for xx,yy in zip(x,y):\n",
    "            splittertemp = train_test_split(xx,yy,test_size=test_size)\n",
    "            x_trainval+=[splittertemp[0]]\n",
    "            x_test+=[splittertemp[1]]\n",
    "            y_trainval+=[splittertemp[2]]\n",
    "            y_test+=[splittertemp[3]]\n",
    "        \n",
    "    x_train,y_train=[],[]\n",
    "    x_val,y_val=[],[]\n",
    "    for x_trv,y_trv in zip(x_trainval,y_trainval):\n",
    "        x_tr,y_tr=[],[]\n",
    "        x_v,y_v=[],[]\n",
    "        for train,val in KFold(n_splits=n_splits,shuffle=True).split(x_trv):\n",
    "            x_tr+=[x_trv[train]]\n",
    "            x_v+=[x_trv[val]]\n",
    "            y_tr+=[y_trv[train]]\n",
    "            y_v+=[y_trv[val]]\n",
    "        x_train+=[x_tr]\n",
    "        x_val+=[x_v]\n",
    "        y_train+=[y_tr]\n",
    "        y_val+=[y_v]\n",
    "    return x_train,x_val,x_test,y_train,y_val,y_test,x_trainval,y_trainval\n",
    "\n",
    "def validator(x_train,x_val,y_train,y_val,n_estimators=20,random_state=1, criterion='gini', max_depth=None,min_samples_split=2, min_samples_leaf=2, \n",
    "     min_weight_fraction_leaf=0.0,max_features='auto', max_leaf_nodes=None, min_impurity_split=1e-07,bootstrap=True, \n",
    "     oob_score=False, n_jobs=1, verbose=0, warm_start=False, class_weight=None):    \n",
    "    scores_act=[]\n",
    "    scores_loc=[]\n",
    "    for i in range(8):\n",
    "        model=RandomForestClassifier(n_estimators=n_estimators,random_state=random_state, criterion=criterion, \n",
    "                                     max_depth=max_depth, min_samples_split=min_samples_split,\n",
    "                                     min_samples_leaf=min_samples_leaf, \n",
    "                                     min_weight_fraction_leaf=min_weight_fraction_leaf, max_features=max_features,\n",
    "                                     max_leaf_nodes=max_leaf_nodes,min_impurity_split=min_impurity_split,\n",
    "                                     bootstrap=bootstrap,oob_score=oob_score, n_jobs=n_jobs, verbose=verbose, \n",
    "                                     warm_start=warm_start,class_weight=class_weight)\n",
    "        multi_model = MultiOutputClassifier(model, n_jobs=-1)\n",
    "        multi_model.fit(x_train[4][i],y_train[4][i])\n",
    "        scores_act+=[len(y_val[4][i][y_val[4][i][:,1]==multi_model.predict(x_val[4][i])[:,1]])/len(y_val[4][i])]\n",
    "        scores_loc+=[len(y_val[4][i][y_val[4][i][:,0]==multi_model.predict(x_val[4][i])[:,0]])/len(y_val[4][i])]\n",
    "    print(\"Average validation accuracy for the activity classification task\",\"%.3f\" %np.mean(scores_act),\"+-\",\n",
    "          \"%.3f\" %np.std(scores_act))\n",
    "    print(\"Average validation accuracy for the location classification task\",\"%.3f\" %np.mean(scores_loc),\"+-\",\n",
    "          \"%.3f\" %np.std(scores_loc))\n",
    "    return np.mean(scores_act),np.std(scores_act),np.mean(scores_loc),np.std(scores_loc)\n",
    "\n",
    "\n",
    "def tester(x_trainval,x_test,y_trainval,y_test,n_estimators=20,random_state=1, criterion='gini', max_depth=None,min_samples_split=2, min_samples_leaf=2, \n",
    "     min_weight_fraction_leaf=0.0,max_features='auto', max_leaf_nodes=None, min_impurity_split=1e-07,bootstrap=True, \n",
    "     oob_score=False, n_jobs=1, verbose=0, warm_start=False, class_weight=None):    \n",
    "    scores_act=[]\n",
    "    scores_loc=[]\n",
    "    model=RandomForestClassifier(n_estimators=n_estimators,random_state=random_state, criterion=criterion, \n",
    "                                max_depth=max_depth, min_samples_split=min_samples_split,\n",
    "                                min_samples_leaf=min_samples_leaf, \n",
    "                                min_weight_fraction_leaf=min_weight_fraction_leaf, max_features=max_features,\n",
    "                                max_leaf_nodes=max_leaf_nodes,min_impurity_split=min_impurity_split,\n",
    "                                bootstrap=bootstrap,oob_score=oob_score, n_jobs=n_jobs, verbose=verbose, \n",
    "                                warm_start=warm_start,class_weight=class_weight)\n",
    "    multi_model = MultiOutputClassifier(model, n_jobs=-1)\n",
    "    multi_model.fit(x_trainval[4],y_trainval[4])\n",
    "    scores_act+=[len(y_test[4][y_test[4][:,1]==multi_model.predict(x_test[4])[:,1]])/len(y_test[4])]\n",
    "    scores_loc+=[len(y_test[4][y_test[4][:,0]==multi_model.predict(x_test[4])[:,0]])/len(y_test[4])]\n",
    "    print(\"Average test accuracy for the activity classification task\",\"%.3f\" %np.mean(scores_act),\"+-\",\n",
    "          \"%.3f\" %np.std(scores_act))\n",
    "    print(\"Average test accuracy for the location classification task\",\"%.3f\" %np.mean(scores_loc),\"+-\",\n",
    "          \"%.3f\" %np.std(scores_loc))\n",
    "    return np.mean(scores_act),np.std(scores_act),np.mean(scores_loc),np.std(scores_loc)\n",
    "\n",
    "# this function extract the local period for every row\n",
    "def maxfft(el,col,df):\n",
    "    freq=[]\n",
    "    for n in {20,30,40,50}:\n",
    "        start=max(0,el-n//2)\n",
    "        end=min(len(df)-1,el+n//2)\n",
    "        nn=end-start\n",
    "        freq+=[nn/(1+np.argmax(np.abs(np.fft.fft(df[start:end][col]))[1:(nn//2)]))]\n",
    "    return np.median(freq)"
   ]
  },
  {
   "cell_type": "markdown",
   "metadata": {},
   "source": [
    "# Data Exploration"
   ]
  },
  {
   "cell_type": "code",
   "execution_count": 3,
   "metadata": {
    "collapsed": false
   },
   "outputs": [
    {
     "name": "stdout",
     "output_type": "stream",
     "text": [
      "Arm.xlsx    Pocket.xlsx Wrist.xlsx  belt.csv    wrist.csv\r\n",
      "Belt.xlsx   Readme.txt  arm.csv     pocket.csv\r\n"
     ]
    }
   ],
   "source": [
    "!ls Activity_Recognition_DataSet"
   ]
  },
  {
   "cell_type": "code",
   "execution_count": 13,
   "metadata": {
    "collapsed": false
   },
   "outputs": [],
   "source": [
    "df_arm_raw=pd.read_excel(\"Activity_Recognition_DataSet/Arm.xlsx\")\n",
    "df_pocket_raw=pd.read_excel(\"Activity_Recognition_DataSet/Pocket.xlsx\")\n",
    "df_wrist_raw=pd.read_excel(\"Activity_Recognition_DataSet/Wrist.xlsx\")\n",
    "df_belt_raw=pd.read_excel(\"Activity_Recognition_DataSet/Belt.xlsx\")"
   ]
  },
  {
   "cell_type": "markdown",
   "metadata": {},
   "source": [
    "Let me report here some of the readme content\n",
    "\n",
    "## 1 Data Collection Procedure \n",
    "\n",
    "We used four Samsung Galaxy S2 smartphones in our experiments for data collection. Using these smartphones, we collected data for six different physical activities. They are walking, running, sitting, standing, walking upstairs and downstairs. We asked four participants to perform these six activities for a few minutes. As these are repetitive activities, so the amount of time for each activity was kept between 3-5 minutes per participant which gave us enough examples for our evaluations. The activities were carried out indoor in one of our university buildings. For walking, and running, the department's corridor was used. For sitting activity, participants’ offices were used when they were using their computers. For standing activity, coffee area was used where some participants stood for few minutes while involved in a conversation with others. For walking upstairs and downstairs, 5-floor stairs were used. It is important to mention that these stairs had short walks at each floor for switching between stairs (2-3 steps) but there were only four such switches in the whole walking upstairs and downstairs activities. We could not find one single continuous stair from first till 5th floor. Each of these participants was provided with four smartphones on four body positions: right jeans pocket, belt, arm, and wrist. The data was recorded for all four positions at the same time for each activity. All the four participants were male, between the age of 25 and 30. They signed a consent form before taking part in the activities"
   ]
  },
  {
   "cell_type": "code",
   "execution_count": 14,
   "metadata": {
    "collapsed": false
   },
   "outputs": [
    {
     "data": {
      "text/html": [
       "<div>\n",
       "<table border=\"1\" class=\"dataframe\">\n",
       "  <thead>\n",
       "    <tr style=\"text-align: right;\">\n",
       "      <th></th>\n",
       "      <th>Time_Stamp</th>\n",
       "      <th>Ax</th>\n",
       "      <th>Ay</th>\n",
       "      <th>Az</th>\n",
       "      <th>Gx</th>\n",
       "      <th>Gy</th>\n",
       "      <th>Gz</th>\n",
       "      <th>Mx</th>\n",
       "      <th>My</th>\n",
       "      <th>Mz</th>\n",
       "      <th>Activity_Label</th>\n",
       "    </tr>\n",
       "  </thead>\n",
       "  <tbody>\n",
       "    <tr>\n",
       "      <th>0</th>\n",
       "      <td>1364396345335</td>\n",
       "      <td>-17.365944</td>\n",
       "      <td>19.517958</td>\n",
       "      <td>0.885323</td>\n",
       "      <td>-0.121868</td>\n",
       "      <td>2.177429</td>\n",
       "      <td>1.535715</td>\n",
       "      <td>18.300000</td>\n",
       "      <td>-44.160000</td>\n",
       "      <td>8.639999</td>\n",
       "      <td>Downstairs</td>\n",
       "    </tr>\n",
       "    <tr>\n",
       "      <th>1</th>\n",
       "      <td>1364396345354</td>\n",
       "      <td>-9.684067</td>\n",
       "      <td>13.933616</td>\n",
       "      <td>1.157730</td>\n",
       "      <td>-0.053145</td>\n",
       "      <td>-1.751656</td>\n",
       "      <td>1.254106</td>\n",
       "      <td>17.279999</td>\n",
       "      <td>-44.160000</td>\n",
       "      <td>9.179999</td>\n",
       "      <td>Downstairs</td>\n",
       "    </tr>\n",
       "    <tr>\n",
       "      <th>2</th>\n",
       "      <td>1364396345375</td>\n",
       "      <td>-4.045243</td>\n",
       "      <td>7.709117</td>\n",
       "      <td>-1.266692</td>\n",
       "      <td>-0.596510</td>\n",
       "      <td>-3.471852</td>\n",
       "      <td>1.176526</td>\n",
       "      <td>16.500000</td>\n",
       "      <td>-44.399998</td>\n",
       "      <td>9.360000</td>\n",
       "      <td>Downstairs</td>\n",
       "    </tr>\n",
       "    <tr>\n",
       "      <th>3</th>\n",
       "      <td>1364396345394</td>\n",
       "      <td>-1.770645</td>\n",
       "      <td>5.788648</td>\n",
       "      <td>-0.735499</td>\n",
       "      <td>-0.867734</td>\n",
       "      <td>-2.983771</td>\n",
       "      <td>0.893696</td>\n",
       "      <td>15.900000</td>\n",
       "      <td>-44.520000</td>\n",
       "      <td>9.360000</td>\n",
       "      <td>Downstairs</td>\n",
       "    </tr>\n",
       "    <tr>\n",
       "      <th>4</th>\n",
       "      <td>1364396345414</td>\n",
       "      <td>2.819412</td>\n",
       "      <td>3.963521</td>\n",
       "      <td>0.599295</td>\n",
       "      <td>-0.541227</td>\n",
       "      <td>-2.662762</td>\n",
       "      <td>0.328645</td>\n",
       "      <td>15.000000</td>\n",
       "      <td>-44.700000</td>\n",
       "      <td>9.240000</td>\n",
       "      <td>Downstairs</td>\n",
       "    </tr>\n",
       "  </tbody>\n",
       "</table>\n",
       "</div>"
      ],
      "text/plain": [
       "      Time_Stamp         Ax         Ay        Az        Gx        Gy  \\\n",
       "0  1364396345335 -17.365944  19.517958  0.885323 -0.121868  2.177429   \n",
       "1  1364396345354  -9.684067  13.933616  1.157730 -0.053145 -1.751656   \n",
       "2  1364396345375  -4.045243   7.709117 -1.266692 -0.596510 -3.471852   \n",
       "3  1364396345394  -1.770645   5.788648 -0.735499 -0.867734 -2.983771   \n",
       "4  1364396345414   2.819412   3.963521  0.599295 -0.541227 -2.662762   \n",
       "\n",
       "         Gz         Mx         My        Mz Activity_Label  \n",
       "0  1.535715  18.300000 -44.160000  8.639999     Downstairs  \n",
       "1  1.254106  17.279999 -44.160000  9.179999     Downstairs  \n",
       "2  1.176526  16.500000 -44.399998  9.360000     Downstairs  \n",
       "3  0.893696  15.900000 -44.520000  9.360000     Downstairs  \n",
       "4  0.328645  15.000000 -44.700000  9.240000     Downstairs  "
      ]
     },
     "execution_count": 14,
     "metadata": {},
     "output_type": "execute_result"
    }
   ],
   "source": [
    "df_arm_raw.head()"
   ]
  },
  {
   "cell_type": "markdown",
   "metadata": {},
   "source": [
    "ok let's see the descriptions"
   ]
  },
  {
   "cell_type": "code",
   "execution_count": 15,
   "metadata": {
    "collapsed": false
   },
   "outputs": [
    {
     "data": {
      "text/html": [
       "<div>\n",
       "<table border=\"1\" class=\"dataframe\">\n",
       "  <thead>\n",
       "    <tr style=\"text-align: right;\">\n",
       "      <th></th>\n",
       "      <th>Time_Stamp</th>\n",
       "      <th>Ax</th>\n",
       "      <th>Ay</th>\n",
       "      <th>Az</th>\n",
       "      <th>Gx</th>\n",
       "      <th>Gy</th>\n",
       "      <th>Gz</th>\n",
       "      <th>Mx</th>\n",
       "      <th>My</th>\n",
       "      <th>Mz</th>\n",
       "    </tr>\n",
       "  </thead>\n",
       "  <tbody>\n",
       "    <tr>\n",
       "      <th>count</th>\n",
       "      <td>1.606550e+05</td>\n",
       "      <td>160655.000000</td>\n",
       "      <td>160655.000000</td>\n",
       "      <td>160655.000000</td>\n",
       "      <td>160655.000000</td>\n",
       "      <td>160655.000000</td>\n",
       "      <td>160655.000000</td>\n",
       "      <td>160655.000000</td>\n",
       "      <td>160655.000000</td>\n",
       "      <td>160655.000000</td>\n",
       "    </tr>\n",
       "    <tr>\n",
       "      <th>mean</th>\n",
       "      <td>1.364371e+12</td>\n",
       "      <td>-0.275081</td>\n",
       "      <td>8.763833</td>\n",
       "      <td>2.281637</td>\n",
       "      <td>0.006953</td>\n",
       "      <td>0.035258</td>\n",
       "      <td>-0.014379</td>\n",
       "      <td>0.291451</td>\n",
       "      <td>-39.890499</td>\n",
       "      <td>-9.432653</td>\n",
       "    </tr>\n",
       "    <tr>\n",
       "      <th>std</th>\n",
       "      <td>4.265402e+07</td>\n",
       "      <td>4.576472</td>\n",
       "      <td>4.180374</td>\n",
       "      <td>2.368637</td>\n",
       "      <td>0.501906</td>\n",
       "      <td>1.292655</td>\n",
       "      <td>1.260051</td>\n",
       "      <td>17.396151</td>\n",
       "      <td>7.601236</td>\n",
       "      <td>14.301760</td>\n",
       "    </tr>\n",
       "    <tr>\n",
       "      <th>min</th>\n",
       "      <td>1.364300e+12</td>\n",
       "      <td>-19.517958</td>\n",
       "      <td>-7.709117</td>\n",
       "      <td>-14.873420</td>\n",
       "      <td>-3.382361</td>\n",
       "      <td>-6.743647</td>\n",
       "      <td>-7.708508</td>\n",
       "      <td>-46.739998</td>\n",
       "      <td>-80.460000</td>\n",
       "      <td>-46.920000</td>\n",
       "    </tr>\n",
       "    <tr>\n",
       "      <th>25%</th>\n",
       "      <td>1.364310e+12</td>\n",
       "      <td>-1.906849</td>\n",
       "      <td>7.055340</td>\n",
       "      <td>0.885323</td>\n",
       "      <td>-0.175624</td>\n",
       "      <td>-0.327424</td>\n",
       "      <td>-0.440281</td>\n",
       "      <td>-13.259999</td>\n",
       "      <td>-45.899998</td>\n",
       "      <td>-21.180000</td>\n",
       "    </tr>\n",
       "    <tr>\n",
       "      <th>50%</th>\n",
       "      <td>1.364398e+12</td>\n",
       "      <td>0.122583</td>\n",
       "      <td>8.798744</td>\n",
       "      <td>2.138395</td>\n",
       "      <td>-0.000305</td>\n",
       "      <td>-0.000305</td>\n",
       "      <td>0.000916</td>\n",
       "      <td>0.720000</td>\n",
       "      <td>-40.500000</td>\n",
       "      <td>-12.059999</td>\n",
       "    </tr>\n",
       "    <tr>\n",
       "      <th>75%</th>\n",
       "      <td>1.364400e+12</td>\n",
       "      <td>1.838747</td>\n",
       "      <td>10.065437</td>\n",
       "      <td>3.854558</td>\n",
       "      <td>0.181732</td>\n",
       "      <td>0.370490</td>\n",
       "      <td>0.294132</td>\n",
       "      <td>11.639999</td>\n",
       "      <td>-34.559998</td>\n",
       "      <td>2.220000</td>\n",
       "    </tr>\n",
       "    <tr>\n",
       "      <th>max</th>\n",
       "      <td>1.364403e+12</td>\n",
       "      <td>19.531578</td>\n",
       "      <td>19.599680</td>\n",
       "      <td>19.381754</td>\n",
       "      <td>3.577227</td>\n",
       "      <td>7.074431</td>\n",
       "      <td>8.998656</td>\n",
       "      <td>47.940000</td>\n",
       "      <td>23.400000</td>\n",
       "      <td>41.520000</td>\n",
       "    </tr>\n",
       "  </tbody>\n",
       "</table>\n",
       "</div>"
      ],
      "text/plain": [
       "         Time_Stamp             Ax             Ay             Az  \\\n",
       "count  1.606550e+05  160655.000000  160655.000000  160655.000000   \n",
       "mean   1.364371e+12      -0.275081       8.763833       2.281637   \n",
       "std    4.265402e+07       4.576472       4.180374       2.368637   \n",
       "min    1.364300e+12     -19.517958      -7.709117     -14.873420   \n",
       "25%    1.364310e+12      -1.906849       7.055340       0.885323   \n",
       "50%    1.364398e+12       0.122583       8.798744       2.138395   \n",
       "75%    1.364400e+12       1.838747      10.065437       3.854558   \n",
       "max    1.364403e+12      19.531578      19.599680      19.381754   \n",
       "\n",
       "                  Gx             Gy             Gz             Mx  \\\n",
       "count  160655.000000  160655.000000  160655.000000  160655.000000   \n",
       "mean        0.006953       0.035258      -0.014379       0.291451   \n",
       "std         0.501906       1.292655       1.260051      17.396151   \n",
       "min        -3.382361      -6.743647      -7.708508     -46.739998   \n",
       "25%        -0.175624      -0.327424      -0.440281     -13.259999   \n",
       "50%        -0.000305      -0.000305       0.000916       0.720000   \n",
       "75%         0.181732       0.370490       0.294132      11.639999   \n",
       "max         3.577227       7.074431       8.998656      47.940000   \n",
       "\n",
       "                  My             Mz  \n",
       "count  160655.000000  160655.000000  \n",
       "mean      -39.890499      -9.432653  \n",
       "std         7.601236      14.301760  \n",
       "min       -80.460000     -46.920000  \n",
       "25%       -45.899998     -21.180000  \n",
       "50%       -40.500000     -12.059999  \n",
       "75%       -34.559998       2.220000  \n",
       "max        23.400000      41.520000  "
      ]
     },
     "execution_count": 15,
     "metadata": {},
     "output_type": "execute_result"
    }
   ],
   "source": [
    "df_arm_raw.describe()"
   ]
  },
  {
   "cell_type": "markdown",
   "metadata": {},
   "source": [
    "## Comments:\n",
    "\n",
    "Acceleration seems to be small on average on the arm unit's x axis and large on y and z. This would make sense if the sensor was mounted on the arm with the y axis, the most mobile, being perpendicular to the arm to the front of the person, the x axis being along the arm and the z axis perpendicular to the arm sticking sideways away from the person.\n",
    "\n",
    "If this is true then the largest average value of the angular momentum should be around the y axis (rotation of the arm out and sideways) and practically vanishing around the x axis (a healthy arm can't spin around itself), which is also true!\n",
    "\n",
    "Similar sanity checks shoud be considered for all sensors but for sake of time I'll put that off.\n",
    "\n",
    "\n",
    "### 4 participants\n",
    "\n",
    "I'm not sure how to distinguish between different participants, this might be an important confounding factor? Random cross validation might fail to recognize overfitting to the single user, i.e. a good performance might depend on the fact that the validation samples all belong to users that the model has already seen in training.\n",
    "\n",
    "### time stamps\n",
    "\n",
    "Upon further investigation, they are not denoting absolute time. This a bit annoying, as time-series features would require taking care of all the discontinuities. The sampling is more or less done every 0.2 seconds. Definitely leave them out of the features."
   ]
  },
  {
   "cell_type": "code",
   "execution_count": 16,
   "metadata": {
    "collapsed": true
   },
   "outputs": [],
   "source": [
    "#let's create numerical codes for the activity labels\n",
    "act_dict={'Walking':0,'Running':1,'Downstairs':2,'Upstairs':3,'Standing':4,'Sitting':5}\n",
    "for df in [df_wrist_raw,df_arm_raw,df_belt_raw,df_pocket_raw]:\n",
    "    df[\"Activity_Label_num\"]=df[\"Activity_Label\"].apply(lambda x:act_dict[x])"
   ]
  },
  {
   "cell_type": "code",
   "execution_count": 75,
   "metadata": {
    "collapsed": false
   },
   "outputs": [
    {
     "data": {
      "text/plain": [
       "<matplotlib.axes._subplots.AxesSubplot at 0x113115080>"
      ]
     },
     "execution_count": 75,
     "metadata": {},
     "output_type": "execute_result"
    },
    {
     "data": {
      "image/png": "[encoded data removed]",
      "text/plain": [
       "<matplotlib.figure.Figure at 0x1130d8748>"
      ]
     },
     "metadata": {},
     "output_type": "display_data"
    }
   ],
   "source": [
    "df_arm_raw[\"Activity_Label_num\"].plot(style='.',color='g')"
   ]
  },
  {
   "cell_type": "code",
   "execution_count": 73,
   "metadata": {
    "collapsed": false,
    "scrolled": true
   },
   "outputs": [
    {
     "data": {
      "text/plain": [
       "<matplotlib.axes._subplots.AxesSubplot at 0x11ab8e550>"
      ]
     },
     "execution_count": 73,
     "metadata": {},
     "output_type": "execute_result"
    },
    {
     "data": {
      "image/png": "[encoded data removed]",
      "text/plain": [
       "<matplotlib.figure.Figure at 0x11aba8d30>"
      ]
     },
     "metadata": {},
     "output_type": "display_data"
    }
   ],
   "source": [
    "df_arm_raw[\"Time_Stamp\"].plot(style='.')"
   ]
  },
  {
   "cell_type": "code",
   "execution_count": 30,
   "metadata": {
    "collapsed": false
   },
   "outputs": [],
   "source": [
    "index_low_ts,index_high_ts=[],[]\n",
    "index_low_ts_cum,index_high_ts_cum=[],[]\n",
    "len_df_old=0\n",
    "for df in [df_wrist_raw,df_arm_raw,df_belt_raw,df_pocket_raw]:\n",
    "    index_low_ts+=[df[df[\"Time_Stamp\"]<1364360000000].index]\n",
    "    index_high_ts+=[df[df[\"Time_Stamp\"]>=1364360000000].index]\n",
    "    index_low_ts_cum+=[df[df[\"Time_Stamp\"]<1364360000000].index+len_df_old]\n",
    "    index_high_ts_cum+=[df[df[\"Time_Stamp\"]>=1364360000000].index+len_df_old]\n",
    "    len_df_old=len(df)"
   ]
  },
  {
   "cell_type": "markdown",
   "metadata": {},
   "source": [
    "# There you go!\n",
    "It is actually possible to distinguish different participants by looking at discontinuities in the time stamp series.\n",
    "\n",
    "This means we should split the testing set from training keeping different participants separate to see how this will generalize to new unrelated users."
   ]
  },
  {
   "cell_type": "markdown",
   "metadata": {},
   "source": [
    "# Feature engineering\n",
    "\n",
    "Applying some domain knowledge of physics here might be a good idea.\n",
    "- Extracting the magnitude of the acc/ang mom/magnetic field vectors might be useful, as this might remove some noise vs. using the components and create a more meaningful feature to split on.\n",
    "- Smoothing out the various feature over a ~1 second window might also help \n",
    "- Using short-time FFT power analysis might yield precious info about periodicity of motions"
   ]
  },
  {
   "cell_type": "code",
   "execution_count": 81,
   "metadata": {
    "collapsed": false
   },
   "outputs": [
    {
     "data": {
      "text/plain": [
       "<matplotlib.axes._subplots.AxesSubplot at 0x117269518>"
      ]
     },
     "execution_count": 81,
     "metadata": {},
     "output_type": "execute_result"
    },
    {
     "data": {
      "image/png": "[encoded data removed]",
      "text/plain": [
       "<matplotlib.figure.Figure at 0x1185a58d0>"
      ]
     },
     "metadata": {},
     "output_type": "display_data"
    }
   ],
   "source": [
    "#example: Ax is ~periodic\n",
    "df_arm_raw[\"Ax\"][46000:48000].plot()"
   ]
  },
  {
   "cell_type": "code",
   "execution_count": 86,
   "metadata": {
    "collapsed": false
   },
   "outputs": [
    {
     "data": {
      "text/plain": [
       "<matplotlib.axes._subplots.AxesSubplot at 0x1146e7860>"
      ]
     },
     "execution_count": 86,
     "metadata": {},
     "output_type": "execute_result"
    },
    {
     "data": {
      "image/png": "[encoded data removed]",
      "text/plain": [
       "<matplotlib.figure.Figure at 0x11624a470>"
      ]
     },
     "metadata": {},
     "output_type": "display_data"
    }
   ],
   "source": [
    "df_arm[\"A\"][46500:47500].plot()\n",
    "df_arm[\"period\"][46500:47500].plot()"
   ]
  },
  {
   "cell_type": "code",
   "execution_count": 333,
   "metadata": {
    "collapsed": false
   },
   "outputs": [],
   "source": [
    "for df in [df_wrist_raw,df_arm_raw,df_belt_raw,df_pocket_raw]:\n",
    "    df[\"A\"]=np.sqrt(df[\"Ax\"]**2+df[\"Ay\"]**2+df[\"Az\"]**2)\n",
    "    df[\"A_smooth\"]=df[\"A\"].rolling(window=5,min_periods=1).mean()\n",
    "    df[\"G\"]=np.sqrt(df[\"Gx\"]**2+df[\"Gy\"]**2+df[\"Gz\"]**2)\n",
    "    df[\"M\"]=np.sqrt(df[\"Mx\"]**2+df[\"My\"]**2+df[\"Mz\"]**2)\n",
    "    df[\"x_M\"]=df[\"Mx\"]/df[\"M\"]\n",
    "    df[\"y_M\"]=df[\"My\"]/df[\"M\"]\n",
    "    df[\"z_M\"]=df[\"Mz\"]/df[\"M\"]\n",
    "    df[\"period\"]=pd.Series([maxfft(i,\"A_smooth\",df) for i in range(len(df))]).rolling(window=3,min_periods=1).mean()"
   ]
  },
  {
   "cell_type": "code",
   "execution_count": 398,
   "metadata": {
    "collapsed": true
   },
   "outputs": [],
   "source": [
    "for df in [df_wrist_raw,df_arm_raw,df_belt_raw,df_pocket_raw]:\n",
    "    for col in [\"Ax\",\"Ay\",\"Az\",\"Gx\",\"Gy\",\"Gz\",\"G\"]:\n",
    "        df[col+\"_smooth\"]=df[col].rolling(window=5,min_periods=1).mean()"
   ]
  },
  {
   "cell_type": "code",
   "execution_count": 409,
   "metadata": {
    "collapsed": true
   },
   "outputs": [],
   "source": [
    "for df in [df_wrist_raw,df_arm_raw,df_belt_raw,df_pocket_raw]:\n",
    "    for col in [\"x_M\",\"y_M\",\"z_M\"]:\n",
    "        df[col+\"_diff\"]=df[col].diff().fillna(0.)"
   ]
  },
  {
   "cell_type": "code",
   "execution_count": 411,
   "metadata": {
    "collapsed": false
   },
   "outputs": [],
   "source": [
    "names=[\"wrist\",\"arm\",\"belt\",\"pocket\"]\n",
    "for i,df in enumerate([df_wrist_raw,df_arm_raw,df_belt_raw,df_pocket_raw]):\n",
    "    df[[\"Ax\",\"Ay\",\"Az\",\"A\",\"Gx\",\"Gy\",\"Gz\",\"G\",\"Ax_smooth\",\"Ay_smooth\",\"Az_smooth\",\"A_smooth\",\"Gx_smooth\",\"Gy_smooth\",\n",
    "        \"Gz_smooth\",\"G_smooth\",\"x_M\",\"y_M\",\"z_M\",\"x_M_diff\",\"y_M_diff\",\"z_M_diff\",\"M\",\"period\",\"Activity_Label\",\n",
    "        \"Activity_Label_num\",]].to_csv('Activity_Recognition_DataSet/'+names[i]+'.csv')"
   ]
  },
  {
   "cell_type": "markdown",
   "metadata": {},
   "source": [
    "## Loading files"
   ]
  },
  {
   "cell_type": "code",
   "execution_count": 32,
   "metadata": {
    "collapsed": true
   },
   "outputs": [],
   "source": [
    "df_arm=pd.read_csv(\"Activity_Recognition_DataSet/arm.csv\")\n",
    "df_pocket=pd.read_csv(\"Activity_Recognition_DataSet/pocket.csv\")\n",
    "df_wrist=pd.read_csv(\"Activity_Recognition_DataSet/wrist.csv\")\n",
    "df_belt=pd.read_csv(\"Activity_Recognition_DataSet/belt.csv\")"
   ]
  },
  {
   "cell_type": "markdown",
   "metadata": {},
   "source": [
    "# Feature selection: magnetic field\n",
    "\n",
    "The magnetic field features might be overfit-prone ones. The reason is that it is physically unreasonable that the instantaneous components of M should classify a physical activity. That fact plus the fact that they vary quite slowly in time makes it possible for my algorithm to memorize similar datapoints in training and recognize them in testing, producing unrealistic results. Rather, they might be very useful at telling how the user's orientation in space is changing, because the orientation of the external magnetic field is more or less always the same. So essentially these features would act like a *compass*. This would require though differencing the time series instead, as this would tell us how the positioning of the person's body limb is changing over time w.r.t. the ground, which is important information indeed. Also pay attention to the fact that not always is the magnetic field registered by the sensor attributable to the Earth's one, as it is way too strong.\n",
    "\n",
    "So I'll try both differencing and leaving the mag field out. The second option will reveal to be the better."
   ]
  },
  {
   "cell_type": "markdown",
   "metadata": {},
   "source": [
    "### Let's create the data sets, train, tune, and all that jazz"
   ]
  },
  {
   "cell_type": "markdown",
   "metadata": {},
   "source": [
    "Using the original features minus mag field plus the magnitudes of A and G and the period"
   ]
  },
  {
   "cell_type": "code",
   "execution_count": 350,
   "metadata": {
    "collapsed": false
   },
   "outputs": [],
   "source": [
    "x,y=dataprep([\"Ax\",\"Ay\",\"Az\",\"A\",\"Gx\",\"Gy\",\"Gz\",\"G\",\"period\"])"
   ]
  },
  {
   "cell_type": "code",
   "execution_count": 351,
   "metadata": {
    "collapsed": false
   },
   "outputs": [],
   "source": [
    "x_train,x_val,x_test,y_train,y_val,y_test,x_trainval,y_trainval=test_val_splitter(x,y)"
   ]
  },
  {
   "cell_type": "code",
   "execution_count": 352,
   "metadata": {
    "collapsed": false
   },
   "outputs": [
    {
     "name": "stdout",
     "output_type": "stream",
     "text": [
      "Average validation accuracy for the activity classification task 0.682 +- 0.003\n",
      "Average validation accuracy for the location classification task 0.860 +- 0.002\n"
     ]
    }
   ],
   "source": [
    "aa=validator(x_train,x_val,y_train,y_val,n_estimators=10,max_depth=5)"
   ]
  },
  {
   "cell_type": "code",
   "execution_count": 353,
   "metadata": {
    "collapsed": false
   },
   "outputs": [
    {
     "name": "stdout",
     "output_type": "stream",
     "text": [
      "Average validation accuracy for the activity classification task 0.797 +- 0.002\n",
      "Average validation accuracy for the location classification task 0.937 +- 0.001\n"
     ]
    }
   ],
   "source": [
    "aa=validator(x_train,x_val,y_train,y_val,n_estimators=10,max_depth=10)"
   ]
  },
  {
   "cell_type": "code",
   "execution_count": 354,
   "metadata": {
    "collapsed": false
   },
   "outputs": [
    {
     "name": "stdout",
     "output_type": "stream",
     "text": [
      "Average validation accuracy for the activity classification task 0.870 +- 0.003\n",
      "Average validation accuracy for the location classification task 0.960 +- 0.001\n"
     ]
    }
   ],
   "source": [
    "aa=validator(x_train,x_val,y_train,y_val,n_estimators=10,max_depth=15)"
   ]
  },
  {
   "cell_type": "code",
   "execution_count": 355,
   "metadata": {
    "collapsed": false
   },
   "outputs": [
    {
     "name": "stdout",
     "output_type": "stream",
     "text": [
      "Average validation accuracy for the activity classification task 0.898 +- 0.001\n",
      "Average validation accuracy for the location classification task 0.967 +- 0.001\n"
     ]
    }
   ],
   "source": [
    "aa=validator(x_train,x_val,y_train,y_val,n_estimators=10,max_depth=20)"
   ]
  },
  {
   "cell_type": "code",
   "execution_count": 356,
   "metadata": {
    "collapsed": false
   },
   "outputs": [
    {
     "name": "stdout",
     "output_type": "stream",
     "text": [
      "Average validation accuracy for the activity classification task 0.906 +- 0.001\n",
      "Average validation accuracy for the location classification task 0.968 +- 0.001\n"
     ]
    }
   ],
   "source": [
    "aa=validator(x_train,x_val,y_train,y_val,n_estimators=10,max_depth=25)"
   ]
  },
  {
   "cell_type": "code",
   "execution_count": 358,
   "metadata": {
    "collapsed": false
   },
   "outputs": [
    {
     "name": "stdout",
     "output_type": "stream",
     "text": [
      "Average validation accuracy for the activity classification task 0.914 +- 0.001\n",
      "Average validation accuracy for the location classification task 0.971 +- 0.001\n"
     ]
    }
   ],
   "source": [
    "aa=validator(x_train,x_val,y_train,y_val,n_estimators=30,max_depth=25)"
   ]
  },
  {
   "cell_type": "code",
   "execution_count": 360,
   "metadata": {
    "collapsed": false
   },
   "outputs": [
    {
     "name": "stdout",
     "output_type": "stream",
     "text": [
      "Average test accuracy for the activity classification task 0.917 +- 0.000\n",
      "Average test accuracy for the location classification task 0.972 +- 0.000\n"
     ]
    }
   ],
   "source": [
    "bb=tester(x_trainval,x_test,y_trainval,y_test,n_estimators=30,max_depth=25)"
   ]
  },
  {
   "cell_type": "markdown",
   "metadata": {},
   "source": [
    "Using the smoothed original features minus mag field plus the period"
   ]
  },
  {
   "cell_type": "code",
   "execution_count": 399,
   "metadata": {
    "collapsed": true
   },
   "outputs": [],
   "source": [
    "x,y=dataprep([\"Ax_smooth\",\"Ay_smooth\",\"Az_smooth\",\"A_smooth\",\"Gx_smooth\",\"Gy_smooth\",\"Gz_smooth\",\"G_smooth\",\"period\"])"
   ]
  },
  {
   "cell_type": "code",
   "execution_count": 400,
   "metadata": {
    "collapsed": true
   },
   "outputs": [],
   "source": [
    "x_train,x_val,x_test,y_train,y_val,y_test,x_trainval,y_trainval=test_val_splitter(x,y)"
   ]
  },
  {
   "cell_type": "code",
   "execution_count": 401,
   "metadata": {
    "collapsed": false
   },
   "outputs": [
    {
     "name": "stdout",
     "output_type": "stream",
     "text": [
      "Average validation accuracy for the activity classification task 0.697 +- 0.005\n",
      "Average validation accuracy for the location classification task 0.902 +- 0.002\n"
     ]
    }
   ],
   "source": [
    "aa=validator(x_train,x_val,y_train,y_val,n_estimators=10,max_depth=5)"
   ]
  },
  {
   "cell_type": "code",
   "execution_count": 402,
   "metadata": {
    "collapsed": false
   },
   "outputs": [
    {
     "name": "stdout",
     "output_type": "stream",
     "text": [
      "Average validation accuracy for the activity classification task 0.820 +- 0.004\n",
      "Average validation accuracy for the location classification task 0.960 +- 0.001\n"
     ]
    }
   ],
   "source": [
    "aa=validator(x_train,x_val,y_train,y_val,n_estimators=10,max_depth=10)"
   ]
  },
  {
   "cell_type": "code",
   "execution_count": 403,
   "metadata": {
    "collapsed": false
   },
   "outputs": [
    {
     "name": "stdout",
     "output_type": "stream",
     "text": [
      "Average validation accuracy for the activity classification task 0.934 +- 0.001\n",
      "Average validation accuracy for the location classification task 0.983 +- 0.001\n"
     ]
    }
   ],
   "source": [
    "aa=validator(x_train,x_val,y_train,y_val,n_estimators=30,max_depth=20)"
   ]
  },
  {
   "cell_type": "code",
   "execution_count": 404,
   "metadata": {
    "collapsed": false
   },
   "outputs": [
    {
     "name": "stdout",
     "output_type": "stream",
     "text": [
      "Average test accuracy for the activity classification task 0.934 +- 0.000\n",
      "Average test accuracy for the location classification task 0.983 +- 0.000\n"
     ]
    }
   ],
   "source": [
    "bb=tester(x_trainval,x_test,y_trainval,y_test,n_estimators=30,max_depth=20)"
   ]
  },
  {
   "cell_type": "markdown",
   "metadata": {},
   "source": [
    "Using the smoothed original features plus the period and replacing the mag field components with the differenced normalized components "
   ]
  },
  {
   "cell_type": "code",
   "execution_count": 41,
   "metadata": {
    "collapsed": true
   },
   "outputs": [],
   "source": [
    "x,y=dataprep([\"x_M_diff\",\"y_M_diff\",\"z_M_diff\",\"Ax_smooth\",\"Ay_smooth\",\"Az_smooth\",\"A_smooth\",\"Gx_smooth\",\"Gy_smooth\",\"Gz_smooth\",\"G_smooth\",\"period\"])"
   ]
  },
  {
   "cell_type": "code",
   "execution_count": 42,
   "metadata": {
    "collapsed": true
   },
   "outputs": [],
   "source": [
    "x_train,x_val,x_test,y_train,y_val,y_test,x_trainval,y_trainval=test_val_splitter(x,y)"
   ]
  },
  {
   "cell_type": "code",
   "execution_count": 415,
   "metadata": {
    "collapsed": false
   },
   "outputs": [
    {
     "name": "stdout",
     "output_type": "stream",
     "text": [
      "Average validation accuracy for the activity classification task 0.674 +- 0.001\n",
      "Average validation accuracy for the location classification task 0.902 +- 0.001\n"
     ]
    }
   ],
   "source": [
    "aa=validator(x_train,x_val,y_train,y_val,n_estimators=10,max_depth=5)"
   ]
  },
  {
   "cell_type": "code",
   "execution_count": 43,
   "metadata": {
    "collapsed": false
   },
   "outputs": [
    {
     "name": "stdout",
     "output_type": "stream",
     "text": [
      "Average validation accuracy for the activity classification task 0.939 +- 0.001\n",
      "Average validation accuracy for the location classification task 0.984 +- 0.000\n"
     ]
    }
   ],
   "source": [
    "aa=validator(x_train,x_val,y_train,y_val,n_estimators=10,max_depth=25)"
   ]
  },
  {
   "cell_type": "code",
   "execution_count": 44,
   "metadata": {
    "collapsed": false
   },
   "outputs": [
    {
     "name": "stdout",
     "output_type": "stream",
     "text": [
      "Average test accuracy for the activity classification task 0.942 +- 0.000\n",
      "Average test accuracy for the location classification task 0.986 +- 0.000\n"
     ]
    }
   ],
   "source": [
    "bb=tester(x_trainval,x_test,y_trainval,y_test,n_estimators=10,max_depth=25)"
   ]
  },
  {
   "cell_type": "markdown",
   "metadata": {},
   "source": [
    "Using the smoothed original features minus mag field plus the period with test split on different users!"
   ]
  },
  {
   "cell_type": "code",
   "execution_count": 36,
   "metadata": {
    "collapsed": false
   },
   "outputs": [],
   "source": [
    "x,y=dataprep([\"Ax_smooth\",\"Ay_smooth\",\"Az_smooth\",\"A_smooth\",\"Gx_smooth\",\"Gy_smooth\",\"Gz_smooth\",\"G_smooth\",\"period\"])"
   ]
  },
  {
   "cell_type": "code",
   "execution_count": 37,
   "metadata": {
    "collapsed": false
   },
   "outputs": [],
   "source": [
    "x_train,x_val,x_test,y_train,y_val,y_test,x_trainval,y_trainval=test_val_splitter(x,y,diffus=True)"
   ]
  },
  {
   "cell_type": "code",
   "execution_count": 442,
   "metadata": {
    "collapsed": false
   },
   "outputs": [
    {
     "name": "stdout",
     "output_type": "stream",
     "text": [
      "Average validation accuracy for the activity classification task 0.813 +- 0.003\n",
      "Average validation accuracy for the location classification task 0.958 +- 0.001\n"
     ]
    }
   ],
   "source": [
    "aa=validator(x_train,x_val,y_train,y_val,n_estimators=10,max_depth=10)"
   ]
  },
  {
   "cell_type": "code",
   "execution_count": 40,
   "metadata": {
    "collapsed": false
   },
   "outputs": [
    {
     "name": "stdout",
     "output_type": "stream",
     "text": [
      "Average validation accuracy for the activity classification task 0.943 +- 0.003\n",
      "Average validation accuracy for the location classification task 0.985 +- 0.000\n"
     ]
    }
   ],
   "source": [
    "aa=validator(x_train,x_val,y_train,y_val,n_estimators=10,max_depth=20)"
   ]
  },
  {
   "cell_type": "code",
   "execution_count": 38,
   "metadata": {
    "collapsed": false
   },
   "outputs": [
    {
     "name": "stdout",
     "output_type": "stream",
     "text": [
      "Average validation accuracy for the activity classification task 0.965 +- 0.001\n",
      "Average validation accuracy for the location classification task 0.987 +- 0.000\n"
     ]
    }
   ],
   "source": [
    "aa=validator(x_train,x_val,y_train,y_val,n_estimators=10,max_depth=25)"
   ]
  },
  {
   "cell_type": "code",
   "execution_count": 39,
   "metadata": {
    "collapsed": false
   },
   "outputs": [
    {
     "name": "stdout",
     "output_type": "stream",
     "text": [
      "Average test accuracy for the activity classification task 0.910 +- 0.000\n",
      "Average test accuracy for the location classification task 0.936 +- 0.000\n"
     ]
    }
   ],
   "source": [
    "bb=tester(x_trainval,x_test,y_trainval,y_test,n_estimators=10,max_depth=25)"
   ]
  },
  {
   "cell_type": "markdown",
   "metadata": {},
   "source": [
    "Last two together!"
   ]
  },
  {
   "cell_type": "code",
   "execution_count": 45,
   "metadata": {
    "collapsed": true
   },
   "outputs": [],
   "source": [
    "x,y=dataprep([\"x_M_diff\",\"y_M_diff\",\"z_M_diff\",\"Ax_smooth\",\"Ay_smooth\",\"Az_smooth\",\"A_smooth\",\"Gx_smooth\",\"Gy_smooth\",\"Gz_smooth\",\"G_smooth\",\"period\"])"
   ]
  },
  {
   "cell_type": "code",
   "execution_count": 46,
   "metadata": {
    "collapsed": true
   },
   "outputs": [],
   "source": [
    "x_train,x_val,x_test,y_train,y_val,y_test,x_trainval,y_trainval=test_val_splitter(x,y,diffus=True)"
   ]
  },
  {
   "cell_type": "code",
   "execution_count": 47,
   "metadata": {
    "collapsed": false
   },
   "outputs": [
    {
     "name": "stdout",
     "output_type": "stream",
     "text": [
      "Average validation accuracy for the activity classification task 0.969 +- 0.001\n",
      "Average validation accuracy for the location classification task 0.989 +- 0.001\n"
     ]
    }
   ],
   "source": [
    "aa=validator(x_train,x_val,y_train,y_val,n_estimators=10,max_depth=25)"
   ]
  },
  {
   "cell_type": "code",
   "execution_count": 48,
   "metadata": {
    "collapsed": false
   },
   "outputs": [
    {
     "name": "stdout",
     "output_type": "stream",
     "text": [
      "Average test accuracy for the activity classification task 0.902 +- 0.000\n",
      "Average test accuracy for the location classification task 0.936 +- 0.000\n"
     ]
    }
   ],
   "source": [
    "bb=tester(x_trainval,x_test,y_trainval,y_test,n_estimators=10,max_depth=25)"
   ]
  },
  {
   "cell_type": "markdown",
   "metadata": {},
   "source": [
    "Without period"
   ]
  },
  {
   "cell_type": "code",
   "execution_count": 49,
   "metadata": {
    "collapsed": true
   },
   "outputs": [],
   "source": [
    "x,y=dataprep([\"Ax_smooth\",\"Ay_smooth\",\"Az_smooth\",\"A_smooth\",\"Gx_smooth\",\"Gy_smooth\",\"Gz_smooth\",\"G_smooth\"])"
   ]
  },
  {
   "cell_type": "code",
   "execution_count": 50,
   "metadata": {
    "collapsed": true
   },
   "outputs": [],
   "source": [
    "x_train,x_val,x_test,y_train,y_val,y_test,x_trainval,y_trainval=test_val_splitter(x,y,diffus=True)"
   ]
  },
  {
   "cell_type": "code",
   "execution_count": 51,
   "metadata": {
    "collapsed": false
   },
   "outputs": [
    {
     "name": "stdout",
     "output_type": "stream",
     "text": [
      "Average validation accuracy for the activity classification task 0.952 +- 0.001\n",
      "Average validation accuracy for the location classification task 0.983 +- 0.001\n"
     ]
    }
   ],
   "source": [
    "aa=validator(x_train,x_val,y_train,y_val,n_estimators=10,max_depth=25)"
   ]
  },
  {
   "cell_type": "code",
   "execution_count": 52,
   "metadata": {
    "collapsed": false
   },
   "outputs": [
    {
     "name": "stdout",
     "output_type": "stream",
     "text": [
      "Average test accuracy for the activity classification task 0.903 +- 0.000\n",
      "Average test accuracy for the location classification task 0.938 +- 0.000\n"
     ]
    }
   ],
   "source": [
    "bb=tester(x_trainval,x_test,y_trainval,y_test,n_estimators=10,max_depth=25)"
   ]
  },
  {
   "cell_type": "code",
   "execution_count": 53,
   "metadata": {
    "collapsed": true
   },
   "outputs": [],
   "source": [
    "x,y=dataprep([\"A_smooth\",\"G_smooth\"])"
   ]
  },
  {
   "cell_type": "code",
   "execution_count": 54,
   "metadata": {
    "collapsed": true
   },
   "outputs": [],
   "source": [
    "x_train,x_val,x_test,y_train,y_val,y_test,x_trainval,y_trainval=test_val_splitter(x,y,diffus=True)"
   ]
  },
  {
   "cell_type": "code",
   "execution_count": 55,
   "metadata": {
    "collapsed": false
   },
   "outputs": [
    {
     "name": "stdout",
     "output_type": "stream",
     "text": [
      "Average validation accuracy for the activity classification task 0.736 +- 0.002\n",
      "Average validation accuracy for the location classification task 0.833 +- 0.001\n"
     ]
    }
   ],
   "source": [
    "aa=validator(x_train,x_val,y_train,y_val,n_estimators=10,max_depth=25)"
   ]
  },
  {
   "cell_type": "code",
   "execution_count": 56,
   "metadata": {
    "collapsed": true
   },
   "outputs": [],
   "source": [
    "x,y=dataprep([\"A_smooth\"])"
   ]
  },
  {
   "cell_type": "code",
   "execution_count": 57,
   "metadata": {
    "collapsed": true
   },
   "outputs": [],
   "source": [
    "x_train,x_val,x_test,y_train,y_val,y_test,x_trainval,y_trainval=test_val_splitter(x,y,diffus=True)"
   ]
  },
  {
   "cell_type": "code",
   "execution_count": 58,
   "metadata": {
    "collapsed": false
   },
   "outputs": [
    {
     "name": "stdout",
     "output_type": "stream",
     "text": [
      "Average validation accuracy for the activity classification task 0.584 +- 0.003\n",
      "Average validation accuracy for the location classification task 0.788 +- 0.001\n"
     ]
    }
   ],
   "source": [
    "aa=validator(x_train,x_val,y_train,y_val,n_estimators=10,max_depth=25)"
   ]
  },
  {
   "cell_type": "code",
   "execution_count": 59,
   "metadata": {
    "collapsed": false
   },
   "outputs": [
    {
     "name": "stdout",
     "output_type": "stream",
     "text": [
      "Average test accuracy for the activity classification task 0.607 +- 0.000\n",
      "Average test accuracy for the location classification task 0.721 +- 0.000\n"
     ]
    }
   ],
   "source": [
    "bb=tester(x_trainval,x_test,y_trainval,y_test,n_estimators=10,max_depth=25)"
   ]
  },
  {
   "cell_type": "code",
   "execution_count": 87,
   "metadata": {
    "collapsed": true
   },
   "outputs": [],
   "source": [
    "x,y=dataprep([\"Ax_smooth\",\"Ay_smooth\",\"Az_smooth\"])"
   ]
  },
  {
   "cell_type": "code",
   "execution_count": 88,
   "metadata": {
    "collapsed": true
   },
   "outputs": [],
   "source": [
    "x_train,x_val,x_test,y_train,y_val,y_test,x_trainval,y_trainval=test_val_splitter(x,y,diffus=True)"
   ]
  },
  {
   "cell_type": "code",
   "execution_count": 89,
   "metadata": {
    "collapsed": false
   },
   "outputs": [
    {
     "name": "stdout",
     "output_type": "stream",
     "text": [
      "Average validation accuracy for the activity classification task 0.844 +- 0.001\n",
      "Average validation accuracy for the location classification task 0.949 +- 0.001\n"
     ]
    }
   ],
   "source": [
    "aa=validator(x_train,x_val,y_train,y_val,n_estimators=10,max_depth=25)"
   ]
  },
  {
   "cell_type": "code",
   "execution_count": 90,
   "metadata": {
    "collapsed": false
   },
   "outputs": [
    {
     "name": "stdout",
     "output_type": "stream",
     "text": [
      "Average test accuracy for the activity classification task 0.800 +- 0.000\n",
      "Average test accuracy for the location classification task 0.910 +- 0.000\n"
     ]
    }
   ],
   "source": [
    "bb=tester(x_trainval,x_test,y_trainval,y_test,n_estimators=10,max_depth=25)"
   ]
  },
  {
   "cell_type": "markdown",
   "metadata": {},
   "source": [
    "## conclusion\n",
    "If I am using correctly the time stamps to separate different users, this particular test shows that I am not overfitting."
   ]
  }
 ],
 "metadata": {
  "anaconda-cloud": {},
  "kernelspec": {
   "display_name": "Python [py3k]",
   "language": "python",
   "name": "Python [py3k]"
  },
  "language_info": {
   "codemirror_mode": {
    "name": "ipython",
    "version": 3
   },
   "file_extension": ".py",
   "mimetype": "text/x-python",
   "name": "python",
   "nbconvert_exporter": "python",
   "pygments_lexer": "ipython3",
   "version": "3.5.2"
  }
 },
 "nbformat": 4,
 "nbformat_minor": 0
}
