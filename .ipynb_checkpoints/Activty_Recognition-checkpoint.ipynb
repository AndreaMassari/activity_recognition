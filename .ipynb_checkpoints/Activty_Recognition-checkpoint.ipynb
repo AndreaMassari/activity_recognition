{
 "cells": [
  {
   "cell_type": "markdown",
   "metadata": {},
   "source": [
    "## Imports: with hindsight of course..."
   ]
  },
  {
   "cell_type": "code",
   "execution_count": 107,
   "metadata": {
    "collapsed": true
   },
   "outputs": [],
   "source": [
    "import pandas as pd\n",
    "import numpy as np\n",
    "from sklearn.linear_model import LogisticRegression\n",
    "from sklearn.ensemble import RandomForestClassifier\n",
    "from sklearn.model_selection import train_test_split, KFold\n",
    "from sklearn.multioutput import MultiOutputClassifier"
   ]
  },
  {
   "cell_type": "markdown",
   "metadata": {},
   "source": [
    "# Data Exploration"
   ]
  },
  {
   "cell_type": "code",
   "execution_count": 2,
   "metadata": {
    "collapsed": false
   },
   "outputs": [
    {
     "name": "stdout",
     "output_type": "stream",
     "text": [
      "Arm.xlsx    Belt.xlsx   Pocket.xlsx Readme.txt  Wrist.xlsx\r\n"
     ]
    }
   ],
   "source": [
    "!ls Activity_Recognition_DataSet"
   ]
  },
  {
   "cell_type": "code",
   "execution_count": 28,
   "metadata": {
    "collapsed": false
   },
   "outputs": [],
   "source": [
    "df_arm=pd.read_excel(\"Activity_Recognition_DataSet/Arm.xlsx\")\n",
    "df_pocket=pd.read_excel(\"Activity_Recognition_DataSet/Pocket.xlsx\")\n",
    "df_wrist=pd.read_excel(\"Activity_Recognition_DataSet/Wrist.xlsx\")\n",
    "df_belt=pd.read_excel(\"Activity_Recognition_DataSet/Belt.xlsx\")"
   ]
  },
  {
   "cell_type": "markdown",
   "metadata": {},
   "source": [
    "Let me report here some of the readme content\n",
    "\n",
    "## 1 Data Collection Procedure \n",
    "\n",
    "We used four Samsung Galaxy S2 smartphones in our experiments for data collection. Using these smartphones, we collected data for six different physical activities. They are walking, running, sitting, standing, walking upstairs and downstairs. We asked four participants to perform these six activities for a few minutes. As these are repetitive activities, so the amount of time for each activity was kept between 3-5 minutes per participant which gave us enough examples for our evaluations. The activities were carried out indoor in one of our university buildings. For walking, and running, the department's corridor was used. For sitting activity, participants’ offices were used when they were using their computers. For standing activity, coffee area was used where some participants stood for few minutes while involved in a conversation with others. For walking upstairs and downstairs, 5-floor stairs were used. It is important to mention that these stairs had short walks at each floor for switching between stairs (2-3 steps) but there were only four such switches in the whole walking upstairs and downstairs activities. We could not find one single continuous stair from first till 5th floor. Each of these participants was provided with four smartphones on four body positions: right jeans pocket, belt, arm, and wrist. The data was recorded for all four positions at the same time for each activity. All the four participants were male, between the age of 25 and 30. They signed a consent form before taking part in the activities"
   ]
  },
  {
   "cell_type": "code",
   "execution_count": 4,
   "metadata": {
    "collapsed": false
   },
   "outputs": [
    {
     "data": {
      "text/html": [
       "<div>\n",
       "<table border=\"1\" class=\"dataframe\">\n",
       "  <thead>\n",
       "    <tr style=\"text-align: right;\">\n",
       "      <th></th>\n",
       "      <th>Time_Stamp</th>\n",
       "      <th>Ax</th>\n",
       "      <th>Ay</th>\n",
       "      <th>Az</th>\n",
       "      <th>Gx</th>\n",
       "      <th>Gy</th>\n",
       "      <th>Gz</th>\n",
       "      <th>Mx</th>\n",
       "      <th>My</th>\n",
       "      <th>Mz</th>\n",
       "      <th>Activity_Label</th>\n",
       "    </tr>\n",
       "  </thead>\n",
       "  <tbody>\n",
       "    <tr>\n",
       "      <th>0</th>\n",
       "      <td>1364396345335</td>\n",
       "      <td>-17.365944</td>\n",
       "      <td>19.517958</td>\n",
       "      <td>0.885323</td>\n",
       "      <td>-0.121868</td>\n",
       "      <td>2.177429</td>\n",
       "      <td>1.535715</td>\n",
       "      <td>18.300000</td>\n",
       "      <td>-44.160000</td>\n",
       "      <td>8.639999</td>\n",
       "      <td>Downstairs</td>\n",
       "    </tr>\n",
       "    <tr>\n",
       "      <th>1</th>\n",
       "      <td>1364396345354</td>\n",
       "      <td>-9.684067</td>\n",
       "      <td>13.933616</td>\n",
       "      <td>1.157730</td>\n",
       "      <td>-0.053145</td>\n",
       "      <td>-1.751656</td>\n",
       "      <td>1.254106</td>\n",
       "      <td>17.279999</td>\n",
       "      <td>-44.160000</td>\n",
       "      <td>9.179999</td>\n",
       "      <td>Downstairs</td>\n",
       "    </tr>\n",
       "    <tr>\n",
       "      <th>2</th>\n",
       "      <td>1364396345375</td>\n",
       "      <td>-4.045243</td>\n",
       "      <td>7.709117</td>\n",
       "      <td>-1.266692</td>\n",
       "      <td>-0.596510</td>\n",
       "      <td>-3.471852</td>\n",
       "      <td>1.176526</td>\n",
       "      <td>16.500000</td>\n",
       "      <td>-44.399998</td>\n",
       "      <td>9.360000</td>\n",
       "      <td>Downstairs</td>\n",
       "    </tr>\n",
       "    <tr>\n",
       "      <th>3</th>\n",
       "      <td>1364396345394</td>\n",
       "      <td>-1.770645</td>\n",
       "      <td>5.788648</td>\n",
       "      <td>-0.735499</td>\n",
       "      <td>-0.867734</td>\n",
       "      <td>-2.983771</td>\n",
       "      <td>0.893696</td>\n",
       "      <td>15.900000</td>\n",
       "      <td>-44.520000</td>\n",
       "      <td>9.360000</td>\n",
       "      <td>Downstairs</td>\n",
       "    </tr>\n",
       "    <tr>\n",
       "      <th>4</th>\n",
       "      <td>1364396345414</td>\n",
       "      <td>2.819412</td>\n",
       "      <td>3.963521</td>\n",
       "      <td>0.599295</td>\n",
       "      <td>-0.541227</td>\n",
       "      <td>-2.662762</td>\n",
       "      <td>0.328645</td>\n",
       "      <td>15.000000</td>\n",
       "      <td>-44.700000</td>\n",
       "      <td>9.240000</td>\n",
       "      <td>Downstairs</td>\n",
       "    </tr>\n",
       "  </tbody>\n",
       "</table>\n",
       "</div>"
      ],
      "text/plain": [
       "      Time_Stamp         Ax         Ay        Az        Gx        Gy  \\\n",
       "0  1364396345335 -17.365944  19.517958  0.885323 -0.121868  2.177429   \n",
       "1  1364396345354  -9.684067  13.933616  1.157730 -0.053145 -1.751656   \n",
       "2  1364396345375  -4.045243   7.709117 -1.266692 -0.596510 -3.471852   \n",
       "3  1364396345394  -1.770645   5.788648 -0.735499 -0.867734 -2.983771   \n",
       "4  1364396345414   2.819412   3.963521  0.599295 -0.541227 -2.662762   \n",
       "\n",
       "         Gz         Mx         My        Mz Activity_Label  \n",
       "0  1.535715  18.300000 -44.160000  8.639999     Downstairs  \n",
       "1  1.254106  17.279999 -44.160000  9.179999     Downstairs  \n",
       "2  1.176526  16.500000 -44.399998  9.360000     Downstairs  \n",
       "3  0.893696  15.900000 -44.520000  9.360000     Downstairs  \n",
       "4  0.328645  15.000000 -44.700000  9.240000     Downstairs  "
      ]
     },
     "execution_count": 4,
     "metadata": {},
     "output_type": "execute_result"
    }
   ],
   "source": [
    "df_arm.head()"
   ]
  },
  {
   "cell_type": "markdown",
   "metadata": {},
   "source": [
    "ok let's see the descriptions"
   ]
  },
  {
   "cell_type": "code",
   "execution_count": 15,
   "metadata": {
    "collapsed": false
   },
   "outputs": [
    {
     "data": {
      "text/html": [
       "<div>\n",
       "<table border=\"1\" class=\"dataframe\">\n",
       "  <thead>\n",
       "    <tr style=\"text-align: right;\">\n",
       "      <th></th>\n",
       "      <th>Time_Stamp</th>\n",
       "      <th>Ax</th>\n",
       "      <th>Ay</th>\n",
       "      <th>Az</th>\n",
       "      <th>Gx</th>\n",
       "      <th>Gy</th>\n",
       "      <th>Gz</th>\n",
       "      <th>Mx</th>\n",
       "      <th>My</th>\n",
       "      <th>Mz</th>\n",
       "    </tr>\n",
       "  </thead>\n",
       "  <tbody>\n",
       "    <tr>\n",
       "      <th>count</th>\n",
       "      <td>1.606550e+05</td>\n",
       "      <td>160655.000000</td>\n",
       "      <td>160655.000000</td>\n",
       "      <td>160655.000000</td>\n",
       "      <td>160655.000000</td>\n",
       "      <td>160655.000000</td>\n",
       "      <td>160655.000000</td>\n",
       "      <td>160655.000000</td>\n",
       "      <td>160655.000000</td>\n",
       "      <td>160655.000000</td>\n",
       "    </tr>\n",
       "    <tr>\n",
       "      <th>mean</th>\n",
       "      <td>1.364371e+12</td>\n",
       "      <td>-0.275081</td>\n",
       "      <td>8.763833</td>\n",
       "      <td>2.281637</td>\n",
       "      <td>0.006953</td>\n",
       "      <td>0.035258</td>\n",
       "      <td>-0.014379</td>\n",
       "      <td>0.291451</td>\n",
       "      <td>-39.890499</td>\n",
       "      <td>-9.432653</td>\n",
       "    </tr>\n",
       "    <tr>\n",
       "      <th>std</th>\n",
       "      <td>4.265402e+07</td>\n",
       "      <td>4.576472</td>\n",
       "      <td>4.180374</td>\n",
       "      <td>2.368637</td>\n",
       "      <td>0.501906</td>\n",
       "      <td>1.292655</td>\n",
       "      <td>1.260051</td>\n",
       "      <td>17.396151</td>\n",
       "      <td>7.601236</td>\n",
       "      <td>14.301760</td>\n",
       "    </tr>\n",
       "    <tr>\n",
       "      <th>min</th>\n",
       "      <td>1.364300e+12</td>\n",
       "      <td>-19.517958</td>\n",
       "      <td>-7.709117</td>\n",
       "      <td>-14.873420</td>\n",
       "      <td>-3.382361</td>\n",
       "      <td>-6.743647</td>\n",
       "      <td>-7.708508</td>\n",
       "      <td>-46.739998</td>\n",
       "      <td>-80.460000</td>\n",
       "      <td>-46.920000</td>\n",
       "    </tr>\n",
       "    <tr>\n",
       "      <th>25%</th>\n",
       "      <td>1.364310e+12</td>\n",
       "      <td>-1.906849</td>\n",
       "      <td>7.055340</td>\n",
       "      <td>0.885323</td>\n",
       "      <td>-0.175624</td>\n",
       "      <td>-0.327424</td>\n",
       "      <td>-0.440281</td>\n",
       "      <td>-13.259999</td>\n",
       "      <td>-45.899998</td>\n",
       "      <td>-21.180000</td>\n",
       "    </tr>\n",
       "    <tr>\n",
       "      <th>50%</th>\n",
       "      <td>1.364398e+12</td>\n",
       "      <td>0.122583</td>\n",
       "      <td>8.798744</td>\n",
       "      <td>2.138395</td>\n",
       "      <td>-0.000305</td>\n",
       "      <td>-0.000305</td>\n",
       "      <td>0.000916</td>\n",
       "      <td>0.720000</td>\n",
       "      <td>-40.500000</td>\n",
       "      <td>-12.059999</td>\n",
       "    </tr>\n",
       "    <tr>\n",
       "      <th>75%</th>\n",
       "      <td>1.364400e+12</td>\n",
       "      <td>1.838747</td>\n",
       "      <td>10.065437</td>\n",
       "      <td>3.854558</td>\n",
       "      <td>0.181732</td>\n",
       "      <td>0.370490</td>\n",
       "      <td>0.294132</td>\n",
       "      <td>11.639999</td>\n",
       "      <td>-34.559998</td>\n",
       "      <td>2.220000</td>\n",
       "    </tr>\n",
       "    <tr>\n",
       "      <th>max</th>\n",
       "      <td>1.364403e+12</td>\n",
       "      <td>19.531578</td>\n",
       "      <td>19.599680</td>\n",
       "      <td>19.381754</td>\n",
       "      <td>3.577227</td>\n",
       "      <td>7.074431</td>\n",
       "      <td>8.998656</td>\n",
       "      <td>47.940000</td>\n",
       "      <td>23.400000</td>\n",
       "      <td>41.520000</td>\n",
       "    </tr>\n",
       "  </tbody>\n",
       "</table>\n",
       "</div>"
      ],
      "text/plain": [
       "         Time_Stamp             Ax             Ay             Az  \\\n",
       "count  1.606550e+05  160655.000000  160655.000000  160655.000000   \n",
       "mean   1.364371e+12      -0.275081       8.763833       2.281637   \n",
       "std    4.265402e+07       4.576472       4.180374       2.368637   \n",
       "min    1.364300e+12     -19.517958      -7.709117     -14.873420   \n",
       "25%    1.364310e+12      -1.906849       7.055340       0.885323   \n",
       "50%    1.364398e+12       0.122583       8.798744       2.138395   \n",
       "75%    1.364400e+12       1.838747      10.065437       3.854558   \n",
       "max    1.364403e+12      19.531578      19.599680      19.381754   \n",
       "\n",
       "                  Gx             Gy             Gz             Mx  \\\n",
       "count  160655.000000  160655.000000  160655.000000  160655.000000   \n",
       "mean        0.006953       0.035258      -0.014379       0.291451   \n",
       "std         0.501906       1.292655       1.260051      17.396151   \n",
       "min        -3.382361      -6.743647      -7.708508     -46.739998   \n",
       "25%        -0.175624      -0.327424      -0.440281     -13.259999   \n",
       "50%        -0.000305      -0.000305       0.000916       0.720000   \n",
       "75%         0.181732       0.370490       0.294132      11.639999   \n",
       "max         3.577227       7.074431       8.998656      47.940000   \n",
       "\n",
       "                  My             Mz  \n",
       "count  160655.000000  160655.000000  \n",
       "mean      -39.890499      -9.432653  \n",
       "std         7.601236      14.301760  \n",
       "min       -80.460000     -46.920000  \n",
       "25%       -45.899998     -21.180000  \n",
       "50%       -40.500000     -12.059999  \n",
       "75%       -34.559998       2.220000  \n",
       "max        23.400000      41.520000  "
      ]
     },
     "execution_count": 15,
     "metadata": {},
     "output_type": "execute_result"
    }
   ],
   "source": [
    "df_arm.describe()"
   ]
  },
  {
   "cell_type": "markdown",
   "metadata": {},
   "source": [
    "## Comments:\n",
    "\n",
    "Acceleration seems to be small on average on the arm unit's x axis and large on y and z. This would make sense if the sensor was mounted on the arm with the y axis, the most mobile, being perpendicular to the arm to the front of the person, the x axis being along the arm and the z axis perpendicular to the arm sticking sideways away from the person.\n",
    "\n",
    "If this is true then the largest average value of the angular momentum should be around the y axis (rotation of the arm out and sideways) and practically vanishing around the x axis (a healthy arm can't spin around itself), which is also true!\n",
    "\n",
    "Similar sanity checks shoud be considered for all sensors but for sake of time I'll put that off.\n",
    "\n",
    "\n",
    "### 4 participants\n",
    "\n",
    "I'm not sure how to distinguish between different participants, this might be an important confounding factor? (especially correlated with time stamps I suppose) I'll look at the time stamps and see if they cluster around four values maybe."
   ]
  },
  {
   "cell_type": "code",
   "execution_count": 89,
   "metadata": {
    "collapsed": false
   },
   "outputs": [
    {
     "data": {
      "text/plain": [
       "array([[<matplotlib.axes._subplots.AxesSubplot object at 0x110c74358>]], dtype=object)"
      ]
     },
     "execution_count": 89,
     "metadata": {},
     "output_type": "execute_result"
    },
    {
     "data": {
      "image/png": "[encoded data removed]",
      "text/plain": [
       "<matplotlib.figure.Figure at 0x115eea5c0>"
      ]
     },
     "metadata": {},
     "output_type": "display_data"
    }
   ],
   "source": [
    "%matplotlib inline\n",
    "df_arm.hist(column=\"Time_Stamp\",bins=50)"
   ]
  },
  {
   "cell_type": "code",
   "execution_count": 88,
   "metadata": {
    "collapsed": false
   },
   "outputs": [
    {
     "data": {
      "text/plain": [
       "array([[<matplotlib.axes._subplots.AxesSubplot object at 0x104636b70>]], dtype=object)"
      ]
     },
     "execution_count": 88,
     "metadata": {},
     "output_type": "execute_result"
    },
    {
     "data": {
      "image/png": "[encoded data removed]",
      "text/plain": [
       "<matplotlib.figure.Figure at 0x113ed9eb8>"
      ]
     },
     "metadata": {},
     "output_type": "display_data"
    }
   ],
   "source": [
    "df_wrist.hist(column=\"Time_Stamp\",bins=50)"
   ]
  },
  {
   "cell_type": "code",
   "execution_count": 87,
   "metadata": {
    "collapsed": false
   },
   "outputs": [
    {
     "data": {
      "text/plain": [
       "array([[<matplotlib.axes._subplots.AxesSubplot object at 0x111c22978>]], dtype=object)"
      ]
     },
     "execution_count": 87,
     "metadata": {},
     "output_type": "execute_result"
    },
    {
     "data": {
      "image/png": "[encoded data removed]",
      "text/plain": [
       "<matplotlib.figure.Figure at 0x11691fb70>"
      ]
     },
     "metadata": {},
     "output_type": "display_data"
    }
   ],
   "source": [
    "df_belt.hist(column=\"Time_Stamp\",bins=50)"
   ]
  },
  {
   "cell_type": "code",
   "execution_count": 90,
   "metadata": {
    "collapsed": false
   },
   "outputs": [
    {
     "data": {
      "text/plain": [
       "array([[<matplotlib.axes._subplots.AxesSubplot object at 0x113b036a0>]], dtype=object)"
      ]
     },
     "execution_count": 90,
     "metadata": {},
     "output_type": "execute_result"
    },
    {
     "data": {
      "image/png": "[encoded data removed]",
      "text/plain": [
       "<matplotlib.figure.Figure at 0x115eeae80>"
      ]
     },
     "metadata": {},
     "output_type": "display_data"
    }
   ],
   "source": [
    "df_pocket.hist(column=\"Time_Stamp\",bins=50)"
   ]
  },
  {
   "cell_type": "markdown",
   "metadata": {},
   "source": [
    "## comment\n",
    "\n",
    "ha! seems like there were 2 separate sessions here, this is worrisome because the time stamp variable might indeed identify two different subjects and therefore random cross validation might fail to recognize overfitting to the single user, i.e. a good performance might depend on the fact that the validation samples all belong to users that the model has already seen in training.\n",
    "\n",
    "### try training on one session and validating on the other?\n",
    "I have chosen not to explore this avenue in the interest of time"
   ]
  },
  {
   "cell_type": "code",
   "execution_count": 273,
   "metadata": {
    "collapsed": false
   },
   "outputs": [
    {
     "data": {
      "text/html": [
       "<div>\n",
       "<table border=\"1\" class=\"dataframe\">\n",
       "  <thead>\n",
       "    <tr style=\"text-align: right;\">\n",
       "      <th></th>\n",
       "      <th>Time_Stamp</th>\n",
       "      <th>Ax</th>\n",
       "      <th>Ay</th>\n",
       "      <th>Az</th>\n",
       "      <th>Gx</th>\n",
       "      <th>Gy</th>\n",
       "      <th>Gz</th>\n",
       "      <th>Mx</th>\n",
       "      <th>My</th>\n",
       "      <th>Mz</th>\n",
       "    </tr>\n",
       "  </thead>\n",
       "  <tbody>\n",
       "    <tr>\n",
       "      <th>count</th>\n",
       "      <td>1.599920e+05</td>\n",
       "      <td>159992.000000</td>\n",
       "      <td>159992.000000</td>\n",
       "      <td>159992.000000</td>\n",
       "      <td>159992.000000</td>\n",
       "      <td>159992.000000</td>\n",
       "      <td>159992.000000</td>\n",
       "      <td>159992.000000</td>\n",
       "      <td>159992.000000</td>\n",
       "      <td>159992.000000</td>\n",
       "    </tr>\n",
       "    <tr>\n",
       "      <th>mean</th>\n",
       "      <td>1.364365e+12</td>\n",
       "      <td>3.999756</td>\n",
       "      <td>6.272815</td>\n",
       "      <td>3.556179</td>\n",
       "      <td>-0.000167</td>\n",
       "      <td>-0.035086</td>\n",
       "      <td>0.008984</td>\n",
       "      <td>-17.389723</td>\n",
       "      <td>-18.429510</td>\n",
       "      <td>-17.693433</td>\n",
       "    </tr>\n",
       "    <tr>\n",
       "      <th>std</th>\n",
       "      <td>4.454557e+07</td>\n",
       "      <td>4.864204</td>\n",
       "      <td>6.496013</td>\n",
       "      <td>3.958921</td>\n",
       "      <td>1.231178</td>\n",
       "      <td>1.191429</td>\n",
       "      <td>1.699583</td>\n",
       "      <td>17.302953</td>\n",
       "      <td>16.664524</td>\n",
       "      <td>17.887243</td>\n",
       "    </tr>\n",
       "    <tr>\n",
       "      <th>min</th>\n",
       "      <td>1.364300e+12</td>\n",
       "      <td>-19.449856</td>\n",
       "      <td>-19.531578</td>\n",
       "      <td>-19.381754</td>\n",
       "      <td>-6.582073</td>\n",
       "      <td>-9.993755</td>\n",
       "      <td>-9.983676</td>\n",
       "      <td>-106.320000</td>\n",
       "      <td>-62.579998</td>\n",
       "      <td>-78.000000</td>\n",
       "    </tr>\n",
       "    <tr>\n",
       "      <th>25%</th>\n",
       "      <td>1.364310e+12</td>\n",
       "      <td>1.607201</td>\n",
       "      <td>0.544814</td>\n",
       "      <td>1.348414</td>\n",
       "      <td>-0.398590</td>\n",
       "      <td>-0.402255</td>\n",
       "      <td>-0.551306</td>\n",
       "      <td>-30.720000</td>\n",
       "      <td>-30.779999</td>\n",
       "      <td>-34.260000</td>\n",
       "    </tr>\n",
       "    <tr>\n",
       "      <th>50%</th>\n",
       "      <td>1.364397e+12</td>\n",
       "      <td>3.200782</td>\n",
       "      <td>7.913422</td>\n",
       "      <td>3.119060</td>\n",
       "      <td>-0.017410</td>\n",
       "      <td>-0.002749</td>\n",
       "      <td>0.006109</td>\n",
       "      <td>-19.560000</td>\n",
       "      <td>-22.140000</td>\n",
       "      <td>-20.039999</td>\n",
       "    </tr>\n",
       "    <tr>\n",
       "      <th>75%</th>\n",
       "      <td>1.364400e+12</td>\n",
       "      <td>5.094010</td>\n",
       "      <td>10.569390</td>\n",
       "      <td>5.843129</td>\n",
       "      <td>0.406836</td>\n",
       "      <td>0.347888</td>\n",
       "      <td>0.577879</td>\n",
       "      <td>-5.100000</td>\n",
       "      <td>-8.520000</td>\n",
       "      <td>-4.020000</td>\n",
       "    </tr>\n",
       "    <tr>\n",
       "      <th>max</th>\n",
       "      <td>1.364403e+12</td>\n",
       "      <td>19.599680</td>\n",
       "      <td>19.613300</td>\n",
       "      <td>19.517958</td>\n",
       "      <td>7.928114</td>\n",
       "      <td>9.727418</td>\n",
       "      <td>9.364870</td>\n",
       "      <td>47.160000</td>\n",
       "      <td>46.320000</td>\n",
       "      <td>102.180000</td>\n",
       "    </tr>\n",
       "  </tbody>\n",
       "</table>\n",
       "</div>"
      ],
      "text/plain": [
       "         Time_Stamp             Ax             Ay             Az  \\\n",
       "count  1.599920e+05  159992.000000  159992.000000  159992.000000   \n",
       "mean   1.364365e+12       3.999756       6.272815       3.556179   \n",
       "std    4.454557e+07       4.864204       6.496013       3.958921   \n",
       "min    1.364300e+12     -19.449856     -19.531578     -19.381754   \n",
       "25%    1.364310e+12       1.607201       0.544814       1.348414   \n",
       "50%    1.364397e+12       3.200782       7.913422       3.119060   \n",
       "75%    1.364400e+12       5.094010      10.569390       5.843129   \n",
       "max    1.364403e+12      19.599680      19.613300      19.517958   \n",
       "\n",
       "                  Gx             Gy             Gz             Mx  \\\n",
       "count  159992.000000  159992.000000  159992.000000  159992.000000   \n",
       "mean       -0.000167      -0.035086       0.008984     -17.389723   \n",
       "std         1.231178       1.191429       1.699583      17.302953   \n",
       "min        -6.582073      -9.993755      -9.983676    -106.320000   \n",
       "25%        -0.398590      -0.402255      -0.551306     -30.720000   \n",
       "50%        -0.017410      -0.002749       0.006109     -19.560000   \n",
       "75%         0.406836       0.347888       0.577879      -5.100000   \n",
       "max         7.928114       9.727418       9.364870      47.160000   \n",
       "\n",
       "                  My             Mz  \n",
       "count  159992.000000  159992.000000  \n",
       "mean      -18.429510     -17.693433  \n",
       "std        16.664524      17.887243  \n",
       "min       -62.579998     -78.000000  \n",
       "25%       -30.779999     -34.260000  \n",
       "50%       -22.140000     -20.039999  \n",
       "75%        -8.520000      -4.020000  \n",
       "max        46.320000     102.180000  "
      ]
     },
     "execution_count": 273,
     "metadata": {},
     "output_type": "execute_result"
    }
   ],
   "source": [
    "df_wrist.describe()"
   ]
  },
  {
   "cell_type": "code",
   "execution_count": 49,
   "metadata": {
    "collapsed": false
   },
   "outputs": [
    {
     "data": {
      "text/html": [
       "<div>\n",
       "<table border=\"1\" class=\"dataframe\">\n",
       "  <thead>\n",
       "    <tr style=\"text-align: right;\">\n",
       "      <th></th>\n",
       "      <th>Time_Stamp</th>\n",
       "      <th>Ax</th>\n",
       "      <th>Ay</th>\n",
       "      <th>Az</th>\n",
       "      <th>Gx</th>\n",
       "      <th>Gy</th>\n",
       "      <th>Gz</th>\n",
       "      <th>Mx</th>\n",
       "      <th>My</th>\n",
       "      <th>Mz</th>\n",
       "    </tr>\n",
       "  </thead>\n",
       "  <tbody>\n",
       "    <tr>\n",
       "      <th>count</th>\n",
       "      <td>1.619580e+05</td>\n",
       "      <td>161958.000000</td>\n",
       "      <td>161958.000000</td>\n",
       "      <td>161958.000000</td>\n",
       "      <td>161958.000000</td>\n",
       "      <td>161958.000000</td>\n",
       "      <td>161958.000000</td>\n",
       "      <td>161958.000000</td>\n",
       "      <td>161958.000000</td>\n",
       "      <td>161958.000000</td>\n",
       "    </tr>\n",
       "    <tr>\n",
       "      <th>mean</th>\n",
       "      <td>1.362913e+12</td>\n",
       "      <td>-0.344594</td>\n",
       "      <td>-8.066078</td>\n",
       "      <td>-2.552028</td>\n",
       "      <td>0.002540</td>\n",
       "      <td>0.038427</td>\n",
       "      <td>-0.036765</td>\n",
       "      <td>7.049494</td>\n",
       "      <td>27.750156</td>\n",
       "      <td>7.739969</td>\n",
       "    </tr>\n",
       "    <tr>\n",
       "      <th>std</th>\n",
       "      <td>2.074820e+09</td>\n",
       "      <td>3.651222</td>\n",
       "      <td>5.571840</td>\n",
       "      <td>5.155454</td>\n",
       "      <td>1.614946</td>\n",
       "      <td>1.409636</td>\n",
       "      <td>0.983442</td>\n",
       "      <td>16.293301</td>\n",
       "      <td>15.571305</td>\n",
       "      <td>23.335165</td>\n",
       "    </tr>\n",
       "    <tr>\n",
       "      <th>min</th>\n",
       "      <td>1.360000e+12</td>\n",
       "      <td>-18.782460</td>\n",
       "      <td>-19.599680</td>\n",
       "      <td>-19.436235</td>\n",
       "      <td>-6.661180</td>\n",
       "      <td>-9.918008</td>\n",
       "      <td>-6.248846</td>\n",
       "      <td>-54.480000</td>\n",
       "      <td>-14.940000</td>\n",
       "      <td>-52.980000</td>\n",
       "    </tr>\n",
       "    <tr>\n",
       "      <th>25%</th>\n",
       "      <td>1.360000e+12</td>\n",
       "      <td>-2.506144</td>\n",
       "      <td>-10.869038</td>\n",
       "      <td>-7.055340</td>\n",
       "      <td>-0.389045</td>\n",
       "      <td>-0.280082</td>\n",
       "      <td>-0.226936</td>\n",
       "      <td>-6.720000</td>\n",
       "      <td>22.439999</td>\n",
       "      <td>-10.559999</td>\n",
       "    </tr>\n",
       "    <tr>\n",
       "      <th>50%</th>\n",
       "      <td>1.364400e+12</td>\n",
       "      <td>-0.640156</td>\n",
       "      <td>-9.289077</td>\n",
       "      <td>-1.362035</td>\n",
       "      <td>0.009163</td>\n",
       "      <td>0.020769</td>\n",
       "      <td>0.009163</td>\n",
       "      <td>4.980000</td>\n",
       "      <td>29.820000</td>\n",
       "      <td>12.900000</td>\n",
       "    </tr>\n",
       "    <tr>\n",
       "      <th>75%</th>\n",
       "      <td>1.364400e+12</td>\n",
       "      <td>1.838747</td>\n",
       "      <td>-2.260978</td>\n",
       "      <td>0.245166</td>\n",
       "      <td>0.718683</td>\n",
       "      <td>0.409280</td>\n",
       "      <td>0.279471</td>\n",
       "      <td>20.100000</td>\n",
       "      <td>39.899998</td>\n",
       "      <td>20.580000</td>\n",
       "    </tr>\n",
       "    <tr>\n",
       "      <th>max</th>\n",
       "      <td>1.364401e+12</td>\n",
       "      <td>19.000385</td>\n",
       "      <td>19.122969</td>\n",
       "      <td>19.204690</td>\n",
       "      <td>8.996212</td>\n",
       "      <td>9.972070</td>\n",
       "      <td>7.699040</td>\n",
       "      <td>84.000000</td>\n",
       "      <td>62.100000</td>\n",
       "      <td>56.579998</td>\n",
       "    </tr>\n",
       "  </tbody>\n",
       "</table>\n",
       "</div>"
      ],
      "text/plain": [
       "         Time_Stamp             Ax             Ay             Az  \\\n",
       "count  1.619580e+05  161958.000000  161958.000000  161958.000000   \n",
       "mean   1.362913e+12      -0.344594      -8.066078      -2.552028   \n",
       "std    2.074820e+09       3.651222       5.571840       5.155454   \n",
       "min    1.360000e+12     -18.782460     -19.599680     -19.436235   \n",
       "25%    1.360000e+12      -2.506144     -10.869038      -7.055340   \n",
       "50%    1.364400e+12      -0.640156      -9.289077      -1.362035   \n",
       "75%    1.364400e+12       1.838747      -2.260978       0.245166   \n",
       "max    1.364401e+12      19.000385      19.122969      19.204690   \n",
       "\n",
       "                  Gx             Gy             Gz             Mx  \\\n",
       "count  161958.000000  161958.000000  161958.000000  161958.000000   \n",
       "mean        0.002540       0.038427      -0.036765       7.049494   \n",
       "std         1.614946       1.409636       0.983442      16.293301   \n",
       "min        -6.661180      -9.918008      -6.248846     -54.480000   \n",
       "25%        -0.389045      -0.280082      -0.226936      -6.720000   \n",
       "50%         0.009163       0.020769       0.009163       4.980000   \n",
       "75%         0.718683       0.409280       0.279471      20.100000   \n",
       "max         8.996212       9.972070       7.699040      84.000000   \n",
       "\n",
       "                  My             Mz  \n",
       "count  161958.000000  161958.000000  \n",
       "mean       27.750156       7.739969  \n",
       "std        15.571305      23.335165  \n",
       "min       -14.940000     -52.980000  \n",
       "25%        22.439999     -10.559999  \n",
       "50%        29.820000      12.900000  \n",
       "75%        39.899998      20.580000  \n",
       "max        62.100000      56.579998  "
      ]
     },
     "execution_count": 49,
     "metadata": {},
     "output_type": "execute_result"
    }
   ],
   "source": [
    "df_pocket.describe()"
   ]
  },
  {
   "cell_type": "code",
   "execution_count": 50,
   "metadata": {
    "collapsed": false,
    "scrolled": true
   },
   "outputs": [
    {
     "data": {
      "text/html": [
       "<div>\n",
       "<table border=\"1\" class=\"dataframe\">\n",
       "  <thead>\n",
       "    <tr style=\"text-align: right;\">\n",
       "      <th></th>\n",
       "      <th>Time_Stamp</th>\n",
       "      <th>Ax</th>\n",
       "      <th>Ay</th>\n",
       "      <th>Az</th>\n",
       "      <th>Gx</th>\n",
       "      <th>Gy</th>\n",
       "      <th>Gz</th>\n",
       "      <th>Mx</th>\n",
       "      <th>My</th>\n",
       "      <th>Mz</th>\n",
       "    </tr>\n",
       "  </thead>\n",
       "  <tbody>\n",
       "    <tr>\n",
       "      <th>count</th>\n",
       "      <td>1.618070e+05</td>\n",
       "      <td>161807.000000</td>\n",
       "      <td>161807.000000</td>\n",
       "      <td>161807.000000</td>\n",
       "      <td>161807.000000</td>\n",
       "      <td>161807.000000</td>\n",
       "      <td>161807.000000</td>\n",
       "      <td>161807.000000</td>\n",
       "      <td>161807.000000</td>\n",
       "      <td>161807.000000</td>\n",
       "    </tr>\n",
       "    <tr>\n",
       "      <th>mean</th>\n",
       "      <td>1.364378e+12</td>\n",
       "      <td>8.235560</td>\n",
       "      <td>1.570595</td>\n",
       "      <td>-1.520413</td>\n",
       "      <td>0.025322</td>\n",
       "      <td>0.010226</td>\n",
       "      <td>0.006345</td>\n",
       "      <td>572.256849</td>\n",
       "      <td>-131.268207</td>\n",
       "      <td>-68.937629</td>\n",
       "    </tr>\n",
       "    <tr>\n",
       "      <th>std</th>\n",
       "      <td>3.923870e+07</td>\n",
       "      <td>5.514597</td>\n",
       "      <td>2.780470</td>\n",
       "      <td>3.153787</td>\n",
       "      <td>0.913859</td>\n",
       "      <td>1.264949</td>\n",
       "      <td>0.618870</td>\n",
       "      <td>581.389791</td>\n",
       "      <td>131.999920</td>\n",
       "      <td>81.230263</td>\n",
       "    </tr>\n",
       "    <tr>\n",
       "      <th>min</th>\n",
       "      <td>1.364300e+12</td>\n",
       "      <td>-18.087822</td>\n",
       "      <td>-14.669114</td>\n",
       "      <td>-19.477097</td>\n",
       "      <td>-7.923228</td>\n",
       "      <td>-10.007805</td>\n",
       "      <td>-6.850243</td>\n",
       "      <td>-868.800000</td>\n",
       "      <td>-409.620000</td>\n",
       "      <td>-317.340000</td>\n",
       "    </tr>\n",
       "    <tr>\n",
       "      <th>25%</th>\n",
       "      <td>1.364394e+12</td>\n",
       "      <td>7.150682</td>\n",
       "      <td>-0.503953</td>\n",
       "      <td>-2.901134</td>\n",
       "      <td>-0.276111</td>\n",
       "      <td>-0.300851</td>\n",
       "      <td>-0.158825</td>\n",
       "      <td>-17.580000</td>\n",
       "      <td>-270.300000</td>\n",
       "      <td>-116.340000</td>\n",
       "    </tr>\n",
       "    <tr>\n",
       "      <th>50%</th>\n",
       "      <td>1.364399e+12</td>\n",
       "      <td>9.357179</td>\n",
       "      <td>1.579960</td>\n",
       "      <td>-1.253072</td>\n",
       "      <td>0.021075</td>\n",
       "      <td>0.008858</td>\n",
       "      <td>0.008552</td>\n",
       "      <td>497.580000</td>\n",
       "      <td>-93.720000</td>\n",
       "      <td>-82.500000</td>\n",
       "    </tr>\n",
       "    <tr>\n",
       "      <th>75%</th>\n",
       "      <td>1.364400e+12</td>\n",
       "      <td>9.956474</td>\n",
       "      <td>3.064578</td>\n",
       "      <td>-0.258787</td>\n",
       "      <td>0.239765</td>\n",
       "      <td>0.307876</td>\n",
       "      <td>0.136834</td>\n",
       "      <td>1250.580000</td>\n",
       "      <td>-18.720000</td>\n",
       "      <td>-1.800000</td>\n",
       "    </tr>\n",
       "    <tr>\n",
       "      <th>max</th>\n",
       "      <td>1.364403e+12</td>\n",
       "      <td>19.586060</td>\n",
       "      <td>19.150210</td>\n",
       "      <td>14.601013</td>\n",
       "      <td>9.956798</td>\n",
       "      <td>9.848675</td>\n",
       "      <td>6.445239</td>\n",
       "      <td>1360.380000</td>\n",
       "      <td>163.560000</td>\n",
       "      <td>135.780000</td>\n",
       "    </tr>\n",
       "  </tbody>\n",
       "</table>\n",
       "</div>"
      ],
      "text/plain": [
       "         Time_Stamp             Ax             Ay             Az  \\\n",
       "count  1.618070e+05  161807.000000  161807.000000  161807.000000   \n",
       "mean   1.364378e+12       8.235560       1.570595      -1.520413   \n",
       "std    3.923870e+07       5.514597       2.780470       3.153787   \n",
       "min    1.364300e+12     -18.087822     -14.669114     -19.477097   \n",
       "25%    1.364394e+12       7.150682      -0.503953      -2.901134   \n",
       "50%    1.364399e+12       9.357179       1.579960      -1.253072   \n",
       "75%    1.364400e+12       9.956474       3.064578      -0.258787   \n",
       "max    1.364403e+12      19.586060      19.150210      14.601013   \n",
       "\n",
       "                  Gx             Gy             Gz             Mx  \\\n",
       "count  161807.000000  161807.000000  161807.000000  161807.000000   \n",
       "mean        0.025322       0.010226       0.006345     572.256849   \n",
       "std         0.913859       1.264949       0.618870     581.389791   \n",
       "min        -7.923228     -10.007805      -6.850243    -868.800000   \n",
       "25%        -0.276111      -0.300851      -0.158825     -17.580000   \n",
       "50%         0.021075       0.008858       0.008552     497.580000   \n",
       "75%         0.239765       0.307876       0.136834    1250.580000   \n",
       "max         9.956798       9.848675       6.445239    1360.380000   \n",
       "\n",
       "                  My             Mz  \n",
       "count  161807.000000  161807.000000  \n",
       "mean     -131.268207     -68.937629  \n",
       "std       131.999920      81.230263  \n",
       "min      -409.620000    -317.340000  \n",
       "25%      -270.300000    -116.340000  \n",
       "50%       -93.720000     -82.500000  \n",
       "75%       -18.720000      -1.800000  \n",
       "max       163.560000     135.780000  "
      ]
     },
     "execution_count": 50,
     "metadata": {},
     "output_type": "execute_result"
    }
   ],
   "source": [
    "df_belt.describe()"
   ]
  },
  {
   "cell_type": "markdown",
   "metadata": {},
   "source": [
    "### checking for balanced distribution of activities: OK!"
   ]
  },
  {
   "cell_type": "code",
   "execution_count": 275,
   "metadata": {
    "collapsed": false
   },
   "outputs": [
    {
     "name": "stdout",
     "output_type": "stream",
     "text": [
      "-------------\n",
      "Upstairs 21750\n",
      "Walking 32001\n",
      "Downstairs 18453\n",
      "Standing 30000\n",
      "Sitting 30000\n",
      "Running 28451\n",
      "-------------\n",
      "-------------\n",
      "Upstairs 22303\n",
      "Walking 31252\n",
      "Downstairs 19101\n",
      "Standing 30000\n",
      "Sitting 30000\n",
      "Running 29302\n",
      "-------------\n",
      "-------------\n",
      "Upstairs 21650\n",
      "Walking 31451\n",
      "Downstairs 18251\n",
      "Standing 30000\n",
      "Sitting 29989\n",
      "Running 28651\n",
      "-------------\n",
      "-------------\n",
      "Upstairs 21903\n",
      "Walking 31751\n",
      "Downstairs 18751\n",
      "Standing 30000\n",
      "Sitting 30000\n",
      "Running 29402\n",
      "-------------\n"
     ]
    }
   ],
   "source": [
    "for df in [df_arm,df_pocket,df_wrist,df_belt]:\n",
    "    print(\"-------------\")\n",
    "    for i in set(df[\"Activity_Label\"]):\n",
    "        print(i,len(df[df[\"Activity_Label\"]==i]))\n",
    "    print(\"-------------\")"
   ]
  },
  {
   "cell_type": "markdown",
   "metadata": {},
   "source": [
    "## Let's create the data sets"
   ]
  },
  {
   "cell_type": "code",
   "execution_count": 274,
   "metadata": {
    "collapsed": false
   },
   "outputs": [],
   "source": [
    "time_stamp=False \n",
    "#this option will keep the time stamp within or without of the features, I've chosen \n",
    "init=1-int(time_stamp)\n",
    "\n",
    "x,y,y_loc=[],[],[]\n",
    "\n",
    "for i,df in enumerate([df_wrist,df_arm,df_belt,df_pocket]):\n",
    "    #x is a list of numpy arrays containing the features, the first 4 arrays have each one the contents from one \n",
    "    #different location, the fifth array has all the 4 arrays concatenated together\n",
    "    x+=[np.array(df.iloc[:,init:-1])]\n",
    "    #y has the labels for the corresponding activities\n",
    "    y+=[np.array(df.iloc[:,-1])]\n",
    "    #y_loc has the labels (4) for location\n",
    "    y_loc+=[[i]*len(df)]\n",
    "\n",
    "x+=[np.concatenate(x)]\n",
    "y+=[np.array(list(zip(np.concatenate(y_loc),np.concatenate(y))))]"
   ]
  },
  {
   "cell_type": "code",
   "execution_count": 278,
   "metadata": {
    "collapsed": false
   },
   "outputs": [
    {
     "data": {
      "text/plain": [
       "[(159992, 9), (160655, 9), (161807, 9), (161958, 9), (644412, 9)]"
      ]
     },
     "execution_count": 278,
     "metadata": {},
     "output_type": "execute_result"
    }
   ],
   "source": [
    "#shapes of contents of x\n",
    "[xx.shape for xx in x]"
   ]
  },
  {
   "cell_type": "code",
   "execution_count": 279,
   "metadata": {
    "collapsed": false
   },
   "outputs": [
    {
     "data": {
      "text/plain": [
       "[(159992,), (160655,), (161807,), (161958,), (644412, 2)]"
      ]
     },
     "execution_count": 279,
     "metadata": {},
     "output_type": "execute_result"
    }
   ],
   "source": [
    "#shapes of contents of y\n",
    "[yy.shape for yy in y]"
   ]
  },
  {
   "cell_type": "markdown",
   "metadata": {},
   "source": [
    "## Let's now split test and train+validation sets"
   ]
  },
  {
   "cell_type": "code",
   "execution_count": 280,
   "metadata": {
    "collapsed": false
   },
   "outputs": [],
   "source": [
    "x_trainval,y_trainval=[],[]\n",
    "x_test,y_test=[],[]\n",
    "\n",
    "for xx,yy in zip(x,y):\n",
    "    splittertemp = train_test_split(xx,yy,test_size=0.2)\n",
    "    x_trainval+=[splittertemp[0]]\n",
    "    x_test+=[splittertemp[1]]\n",
    "    y_trainval+=[splittertemp[2]]\n",
    "    y_test+=[splittertemp[3]]"
   ]
  },
  {
   "cell_type": "markdown",
   "metadata": {},
   "source": [
    "## Let's now split train from (8-fold) validation sets"
   ]
  },
  {
   "cell_type": "code",
   "execution_count": 281,
   "metadata": {
    "collapsed": false
   },
   "outputs": [],
   "source": [
    "x_train,y_train=[],[]\n",
    "x_val,y_val=[],[]\n",
    "\n",
    "for x_trv,y_trv in zip(x_trainval,y_trainval):\n",
    "    x_tr,y_tr=[],[]\n",
    "    x_v,y_v=[],[]\n",
    "    for train,val in KFold(n_splits=8,shuffle=True).split(x_trv):\n",
    "        x_tr+=[x_trv[train]]\n",
    "        x_v+=[x_trv[val]]\n",
    "        y_tr+=[y_trv[train]]\n",
    "        y_v+=[y_trv[val]]\n",
    "    x_train+=[x_tr]\n",
    "    x_val+=[x_v]\n",
    "    y_train+=[y_tr]\n",
    "    y_val+=[y_v]"
   ]
  },
  {
   "cell_type": "markdown",
   "metadata": {},
   "source": [
    "### Now I'm gonna pick one data set (arm) and fit it, then validate on homogeneous data (arm) and on the other 3 datasets to see if the same variables work the same way across the different sensor locations"
   ]
  },
  {
   "cell_type": "code",
   "execution_count": 174,
   "metadata": {
    "collapsed": false
   },
   "outputs": [
    {
     "name": "stdout",
     "output_type": "stream",
     "text": [
      "0.981 +- 0.001\n",
      "0.178 +- 0.011\n",
      "0.124 +- 0.005\n",
      "0.173 +- 0.013\n"
     ]
    }
   ],
   "source": [
    "n=1 #0=wrist, 1=arm, 2=belt, 3=pocket\n",
    "\n",
    "scores_0,scores_1,scores_2,scores_3=[],[],[],[]\n",
    "\n",
    "for i in range(8):\n",
    "    model=RandomForestClassifier(n_estimators=10)\n",
    "    model.fit(x_train[n][i],y_train[n][i])\n",
    "    scores_0+=[len(y_val[n][i][y_val[n][i]==model.predict(x_val[n][i])])/len(y_val[n][i])]\n",
    "    scores_1+=[len(y_val[(n+1)%4][i][y_val[(n+1)%4][i]==model.predict(x_val[(n+1)%4][i])])/len(y_val[(n+1)%4][i])]\n",
    "    scores_2+=[len(y_val[(n+2)%4][i][y_val[(n+2)%4][i]==model.predict(x_val[(n+2)%4][i])])/len(y_val[(n+2)%4][i])]\n",
    "    scores_3+=[len(y_val[(n+3)%4][i][y_val[(n+3)%4][i]==model.predict(x_val[(n+3)%4][i])])/len(y_val[(n+3)%4][i])]\n",
    "    #print(scores)\n",
    "print(\"%.3f\" %np.mean(scores_0),\"+-\",\"%.3f\" %np.std(scores_0))\n",
    "print(\"%.3f\" %np.mean(scores_1),\"+-\",\"%.3f\" %np.std(scores_1))\n",
    "print(\"%.3f\" %np.mean(scores_2),\"+-\",\"%.3f\" %np.std(scores_2))\n",
    "print(\"%.3f\" %np.mean(scores_3),\"+-\",\"%.3f\" %np.std(scores_3))"
   ]
  },
  {
   "cell_type": "markdown",
   "metadata": {},
   "source": [
    "## comment\n",
    "So it seems that the features are specific to each location (which makes a lot of sense since the sensor is NOT an inertial reference frame and therefore its readings translate through complex non linear transformations between different body positions), so same variables at different locations don't yield at all the same predictivity, i.e. *a different model needs to be trained at every location*.\n",
    "\n",
    "## Multi-output!\n",
    "I believe I should actually consider arm/wrist/etc. as target labels! Because the actual use case might have the user carry the phone at different body locations. So in the following what I do is try to fit a multi output classifier, predicting both location and activity.\n",
    "\n",
    "N.B. a linear classifier here would stand no chance at all, because clearly the classifier will have some sort of \"if -> then\" structure that gives a totally different importance to the same feature at different locations. This is a highly non-linear boundary"
   ]
  },
  {
   "cell_type": "code",
   "execution_count": 268,
   "metadata": {
    "collapsed": false
   },
   "outputs": [
    {
     "name": "stdout",
     "output_type": "stream",
     "text": [
      "Average validation accuracy for the activity classification task 0.955 +- 0.001\n",
      "Average validation accuracy for the location classification task 0.990 +- 0.000\n"
     ]
    }
   ],
   "source": [
    "scores_act=[]\n",
    "scores_loc=[]\n",
    "for i in range(8):\n",
    "    model=RandomForestClassifier(n_estimators=20,random_state=1, criterion='gini', max_depth=None, \n",
    "                                 min_samples_split=2, min_samples_leaf=2, min_weight_fraction_leaf=0.0, \n",
    "                                 max_features='auto', max_leaf_nodes=None, min_impurity_split=1e-07, \n",
    "                                 bootstrap=True, oob_score=False, n_jobs=1, verbose=0, \n",
    "                                 warm_start=False, class_weight=None)\n",
    "    multi_model = MultiOutputClassifier(model, n_jobs=-1)\n",
    "    multi_model.fit(x_train[4][i],y_train[4][i])\n",
    "    scores_act+=[len(y_val[4][i][y_val[4][i][:,1]==multi_model.predict(x_val[4][i])[:,1]])/len(y_val[4][i])]\n",
    "    scores_loc+=[len(y_val[4][i][y_val[4][i][:,0]==multi_model.predict(x_val[4][i])[:,0]])/len(y_val[4][i])]\n",
    "print(\"Average validation accuracy for the activity classification task\",\"%.3f\" %np.mean(scores_act),\"+-\",\"%.3f\" %np.std(scores_act))\n",
    "print(\"Average validation accuracy for the location classification task\",\"%.3f\" %np.mean(scores_loc),\"+-\",\"%.3f\" %np.std(scores_loc))"
   ]
  },
  {
   "cell_type": "code",
   "execution_count": 271,
   "metadata": {
    "collapsed": true
   },
   "outputs": [],
   "source": [
    "def validator(n_estimators=20,random_state=1, criterion='gini', max_depth=None,min_samples_split=2, min_samples_leaf=2, \n",
    "     min_weight_fraction_leaf=0.0,max_features='auto', max_leaf_nodes=None, min_impurity_split=1e-07,bootstrap=True, \n",
    "     oob_score=False, n_jobs=1, verbose=0, warm_start=False, class_weight=None):    \n",
    "    scores_act=[]\n",
    "    scores_loc=[]\n",
    "    for i in range(8):\n",
    "        model=RandomForestClassifier(n_estimators=n_estimators,random_state=random_state, criterion=criterion, \n",
    "                                     max_depth=max_depth, min_samples_split=min_samples_split,\n",
    "                                     min_samples_leaf=min_samples_leaf, \n",
    "                                     min_weight_fraction_leaf=min_weight_fraction_leaf, max_features=max_features,\n",
    "                                     max_leaf_nodes=max_leaf_nodes,min_impurity_split=min_impurity_split,\n",
    "                                     bootstrap=bootstrap,oob_score=oob_score, n_jobs=n_jobs, verbose=verbose, \n",
    "                                     warm_start=warm_start,class_weight=class_weight)\n",
    "        multi_model = MultiOutputClassifier(model, n_jobs=-1)\n",
    "        multi_model.fit(x_train[4][i],y_train[4][i])\n",
    "        scores_act+=[len(y_val[4][i][y_val[4][i][:,1]==multi_model.predict(x_val[4][i])[:,1]])/len(y_val[4][i])]\n",
    "        scores_loc+=[len(y_val[4][i][y_val[4][i][:,0]==multi_model.predict(x_val[4][i])[:,0]])/len(y_val[4][i])]\n",
    "    print(\"Average validation accuracy for the activity classification task\",\"%.3f\" %np.mean(scores_act),\"+-\",\n",
    "          \"%.3f\" %np.std(scores_act))\n",
    "    print(\"Average validation accuracy for the location classification task\",\"%.3f\" %np.mean(scores_loc),\"+-\",\n",
    "          \"%.3f\" %np.std(scores_loc))\n",
    "    return np.mean(scores_act),np.std(scores_act),np.mean(scores_loc),np.std(scores_loc)"
   ]
  },
  {
   "cell_type": "code",
   "execution_count": 283,
   "metadata": {
    "collapsed": true
   },
   "outputs": [],
   "source": [
    "def tester(n_estimators=20,random_state=1, criterion='gini', max_depth=None,min_samples_split=2, min_samples_leaf=2, \n",
    "     min_weight_fraction_leaf=0.0,max_features='auto', max_leaf_nodes=None, min_impurity_split=1e-07,bootstrap=True, \n",
    "     oob_score=False, n_jobs=1, verbose=0, warm_start=False, class_weight=None):    \n",
    "    scores_act=[]\n",
    "    scores_loc=[]\n",
    "    model=RandomForestClassifier(n_estimators=n_estimators,random_state=random_state, criterion=criterion, \n",
    "                                max_depth=max_depth, min_samples_split=min_samples_split,\n",
    "                                min_samples_leaf=min_samples_leaf, \n",
    "                                min_weight_fraction_leaf=min_weight_fraction_leaf, max_features=max_features,\n",
    "                                max_leaf_nodes=max_leaf_nodes,min_impurity_split=min_impurity_split,\n",
    "                                bootstrap=bootstrap,oob_score=oob_score, n_jobs=n_jobs, verbose=verbose, \n",
    "                                warm_start=warm_start,class_weight=class_weight)\n",
    "    multi_model = MultiOutputClassifier(model, n_jobs=-1)\n",
    "    multi_model.fit(x_trainval[4],y_trainval[4])\n",
    "    scores_act+=[len(y_test[4][y_test[4][:,1]==multi_model.predict(x_test[4])[:,1]])/len(y_test[4])]\n",
    "    scores_loc+=[len(y_test[4][y_test[4][:,0]==multi_model.predict(x_test[4])[:,0]])/len(y_test[4])]\n",
    "    print(\"Average test accuracy for the activity classification task\",\"%.3f\" %np.mean(scores_act),\"+-\",\n",
    "          \"%.3f\" %np.std(scores_act))\n",
    "    print(\"Average test accuracy for the location classification task\",\"%.3f\" %np.mean(scores_loc),\"+-\",\n",
    "          \"%.3f\" %np.std(scores_loc))\n",
    "    return np.mean(scores_act),np.std(scores_act),np.mean(scores_loc),np.std(scores_loc)"
   ]
  },
  {
   "cell_type": "markdown",
   "metadata": {},
   "source": [
    "Now let's tune the model searching the hyperparameter space"
   ]
  },
  {
   "cell_type": "code",
   "execution_count": 272,
   "metadata": {
    "collapsed": false
   },
   "outputs": [
    {
     "name": "stdout",
     "output_type": "stream",
     "text": [
      "Average validation accuracy for the activity classification task 0.958 +- 0.001\n",
      "Average validation accuracy for the location classification task 0.990 +- 0.000\n"
     ]
    }
   ],
   "source": [
    "validator(n_estimators=40)"
   ]
  },
  {
   "cell_type": "code",
   "execution_count": 282,
   "metadata": {
    "collapsed": false
   },
   "outputs": [
    {
     "name": "stdout",
     "output_type": "stream",
     "text": [
      "Average validation accuracy for the activity classification task 0.959 +- 0.001\n",
      "Average validation accuracy for the location classification task 0.991 +- 0.000\n"
     ]
    }
   ],
   "source": [
    "validator(n_estimators=60)"
   ]
  },
  {
   "cell_type": "markdown",
   "metadata": {},
   "source": [
    "## wonderful!! \n",
    "Ok I realize that this was not an exhaustive hyperparameter search but the performance is already good enough that I believe I can stop here and do the testing"
   ]
  },
  {
   "cell_type": "code",
   "execution_count": 284,
   "metadata": {
    "collapsed": false
   },
   "outputs": [
    {
     "name": "stdout",
     "output_type": "stream",
     "text": [
      "Average validation accuracy for the activity classification task 0.962 +- 0.000\n",
      "Average validation accuracy for the location classification task 0.991 +- 0.000\n"
     ]
    },
    {
     "data": {
      "text/plain": [
       "(0.96205861129861969, 0.0, 0.99113149135262213, 0.0)"
      ]
     },
     "execution_count": 284,
     "metadata": {},
     "output_type": "execute_result"
    }
   ],
   "source": [
    "tester(n_estimators=60)"
   ]
  },
  {
   "cell_type": "markdown",
   "metadata": {},
   "source": [
    "# Conclusions\n",
    "So we can assert with some confidence that our model: a random forest predictor with 60 estimators, properly trained, will classify new data with an accuracy of ~96%"
   ]
  }
 ],
 "metadata": {
  "anaconda-cloud": {},
  "kernelspec": {
   "display_name": "Python [py3k]",
   "language": "python",
   "name": "Python [py3k]"
  },
  "language_info": {
   "codemirror_mode": {
    "name": "ipython",
    "version": 3
   },
   "file_extension": ".py",
   "mimetype": "text/x-python",
   "name": "python",
   "nbconvert_exporter": "python",
   "pygments_lexer": "ipython3",
   "version": "3.5.2"
  }
 },
 "nbformat": 4,
 "nbformat_minor": 0
}
